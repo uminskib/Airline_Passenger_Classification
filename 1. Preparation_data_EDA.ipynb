{
 "cells": [
  {
   "cell_type": "markdown",
   "metadata": {},
   "source": [
    "## Wprowadzenie"
   ]
  },
  {
   "cell_type": "markdown",
   "metadata": {},
   "source": [
    "W ramach tego projektu zostanie przeprowadzona analiza obejmująca wykorzystanie różnych technik uczenia maszynowego w celu zaprognozowania, czy dany pasażer linii lotniczych jest zadowolony z usług tych linii, bądź nie. \n",
    "Dane wykorzystane w pracy pochodzą z serwisu [Kaggle](https://www.kaggle.com/teejmahal20/airline-passenger-satisfaction?select=test.csv). Baza ta zawiera odpowiedzi na pytania z ankiety przeprowadzonej na 103904 pasażerach jednej z linii lotniczych. "
   ]
  },
  {
   "cell_type": "markdown",
   "metadata": {},
   "source": [
    "Głównym celem tego projektu jest znalezienie najlepszego modelu, który będzie odpowiednio prognozował zadowolenie pasażera z usług linii lotniczych na podstawie posiadanych danych.\n",
    "Jest to problem klasyfikacji binarnej, który zostanie rozwiązany za pomocą następujących modeli uczenia maszynowego: logistic regression, k-nearest neighbors algorithm, random forest oraz gradient boosting "
   ]
  },
  {
   "cell_type": "markdown",
   "metadata": {},
   "source": [
    "## 1. Przygotowanie środowiska do projektu"
   ]
  },
  {
   "cell_type": "code",
   "execution_count": 1,
   "metadata": {},
   "outputs": [],
   "source": [
    "import pandas as pd \n",
    "import numpy as np\n",
    "import matplotlib.pyplot as plt\n",
    "plt.rcParams[\"figure.figsize\"] = (7, 5)\n",
    "import seaborn as sns\n",
    "sns.set_theme()\n",
    "import os\n",
    "path=os.getcwd()\n",
    "import json"
   ]
  },
  {
   "cell_type": "markdown",
   "metadata": {},
   "source": [
    "## 2. Przygotowanie danych"
   ]
  },
  {
   "cell_type": "markdown",
   "metadata": {},
   "source": [
    "Baza zawiera następujące zmienne:"
   ]
  },
  {
   "cell_type": "markdown",
   "metadata": {},
   "source": [
    "- Gender: Płeć pasażera (Female, Male)\n",
    "- Customer Type: Typ klienta (Loyal customer, disloyal customer)\n",
    "- Age: Aktualny wiek pasażera\n",
    "- Type of Travel: Cel podróży (Personal Travel, Business Travel)\n",
    "- Class: Wybrana klasa w samolocie (Business, Eco, Eco Plus)\n",
    "- Flight distance: Dystans jaką samolot pokonał \n",
    "- Inflight wifi service: Usługa wifi na pokładzie samolotu (0: nie dotyczy;1-5)\n",
    "- Departure/Arrival time convenient: Poziom zadowolenia z dogodnego czasu odlotu/przylotu\n",
    "- Ease of Online booking: Poziom satysfakcji z rezerwacji biletów online\n",
    "- Gate location: Poziom satysfakcji z lokalizacji bramki do odprawy\n",
    "- Food and drink: Poziom zadowolenia z żywności i napojów\n",
    "- Online boarding: Poziom satysfakcji z korzystania z usług on-line dot. lotu\n",
    "- Seat comfort: Poziom satysfakcji z komfortu siedzenia\n",
    "- Inflight entertainment: Poziom zadowolenia z rozrywki pokładowej\n",
    "- On-board service: Poziom zadowolenia z usług pokładowych\n",
    "- Leg room service: Poziom zadowolenia z miejsca na nogi\n",
    "- Baggage handling: Poziom satysfakcji z obsługi bagażu\n",
    "- Check-in service: Poziom zadowolenia z usługi odprawy biletowo-bagażowej\n",
    "- Inflight service: Poziom zadowolenia z obsługi na pokładzie samolotu\n",
    "- Cleanliness: Poziom zadowolenia z czystości\n",
    "- Departure Delay in Minutes: Minuty opóźnienia przy odlocie\n",
    "- Arrival Delay in Minutes: Minuty opóźnienia przylotu\n",
    "- Satisfaction: Poziom zadowolenia z linii lotniczych(Satisfaction, neutral or dissatisfaction)"
   ]
  },
  {
   "cell_type": "code",
   "execution_count": 2,
   "metadata": {
    "scrolled": true
   },
   "outputs": [
    {
     "data": {
      "text/html": [
       "<div>\n",
       "<style scoped>\n",
       "    .dataframe tbody tr th:only-of-type {\n",
       "        vertical-align: middle;\n",
       "    }\n",
       "\n",
       "    .dataframe tbody tr th {\n",
       "        vertical-align: top;\n",
       "    }\n",
       "\n",
       "    .dataframe thead th {\n",
       "        text-align: right;\n",
       "    }\n",
       "</style>\n",
       "<table border=\"1\" class=\"dataframe\">\n",
       "  <thead>\n",
       "    <tr style=\"text-align: right;\">\n",
       "      <th></th>\n",
       "      <th>Unnamed: 0</th>\n",
       "      <th>id</th>\n",
       "      <th>Gender</th>\n",
       "      <th>Customer Type</th>\n",
       "      <th>Age</th>\n",
       "      <th>Type of Travel</th>\n",
       "      <th>Class</th>\n",
       "      <th>Flight Distance</th>\n",
       "      <th>Inflight wifi service</th>\n",
       "      <th>Departure/Arrival time convenient</th>\n",
       "      <th>...</th>\n",
       "      <th>Inflight entertainment</th>\n",
       "      <th>On-board service</th>\n",
       "      <th>Leg room service</th>\n",
       "      <th>Baggage handling</th>\n",
       "      <th>Checkin service</th>\n",
       "      <th>Inflight service</th>\n",
       "      <th>Cleanliness</th>\n",
       "      <th>Departure Delay in Minutes</th>\n",
       "      <th>Arrival Delay in Minutes</th>\n",
       "      <th>satisfaction</th>\n",
       "    </tr>\n",
       "  </thead>\n",
       "  <tbody>\n",
       "    <tr>\n",
       "      <th>0</th>\n",
       "      <td>0</td>\n",
       "      <td>70172</td>\n",
       "      <td>Male</td>\n",
       "      <td>Loyal Customer</td>\n",
       "      <td>13</td>\n",
       "      <td>Personal Travel</td>\n",
       "      <td>Eco Plus</td>\n",
       "      <td>460</td>\n",
       "      <td>3</td>\n",
       "      <td>4</td>\n",
       "      <td>...</td>\n",
       "      <td>5</td>\n",
       "      <td>4</td>\n",
       "      <td>3</td>\n",
       "      <td>4</td>\n",
       "      <td>4</td>\n",
       "      <td>5</td>\n",
       "      <td>5</td>\n",
       "      <td>25</td>\n",
       "      <td>18.0</td>\n",
       "      <td>neutral or dissatisfied</td>\n",
       "    </tr>\n",
       "    <tr>\n",
       "      <th>1</th>\n",
       "      <td>1</td>\n",
       "      <td>5047</td>\n",
       "      <td>Male</td>\n",
       "      <td>disloyal Customer</td>\n",
       "      <td>25</td>\n",
       "      <td>Business travel</td>\n",
       "      <td>Business</td>\n",
       "      <td>235</td>\n",
       "      <td>3</td>\n",
       "      <td>2</td>\n",
       "      <td>...</td>\n",
       "      <td>1</td>\n",
       "      <td>1</td>\n",
       "      <td>5</td>\n",
       "      <td>3</td>\n",
       "      <td>1</td>\n",
       "      <td>4</td>\n",
       "      <td>1</td>\n",
       "      <td>1</td>\n",
       "      <td>6.0</td>\n",
       "      <td>neutral or dissatisfied</td>\n",
       "    </tr>\n",
       "    <tr>\n",
       "      <th>2</th>\n",
       "      <td>2</td>\n",
       "      <td>110028</td>\n",
       "      <td>Female</td>\n",
       "      <td>Loyal Customer</td>\n",
       "      <td>26</td>\n",
       "      <td>Business travel</td>\n",
       "      <td>Business</td>\n",
       "      <td>1142</td>\n",
       "      <td>2</td>\n",
       "      <td>2</td>\n",
       "      <td>...</td>\n",
       "      <td>5</td>\n",
       "      <td>4</td>\n",
       "      <td>3</td>\n",
       "      <td>4</td>\n",
       "      <td>4</td>\n",
       "      <td>4</td>\n",
       "      <td>5</td>\n",
       "      <td>0</td>\n",
       "      <td>0.0</td>\n",
       "      <td>satisfied</td>\n",
       "    </tr>\n",
       "    <tr>\n",
       "      <th>3</th>\n",
       "      <td>3</td>\n",
       "      <td>24026</td>\n",
       "      <td>Female</td>\n",
       "      <td>Loyal Customer</td>\n",
       "      <td>25</td>\n",
       "      <td>Business travel</td>\n",
       "      <td>Business</td>\n",
       "      <td>562</td>\n",
       "      <td>2</td>\n",
       "      <td>5</td>\n",
       "      <td>...</td>\n",
       "      <td>2</td>\n",
       "      <td>2</td>\n",
       "      <td>5</td>\n",
       "      <td>3</td>\n",
       "      <td>1</td>\n",
       "      <td>4</td>\n",
       "      <td>2</td>\n",
       "      <td>11</td>\n",
       "      <td>9.0</td>\n",
       "      <td>neutral or dissatisfied</td>\n",
       "    </tr>\n",
       "    <tr>\n",
       "      <th>4</th>\n",
       "      <td>4</td>\n",
       "      <td>119299</td>\n",
       "      <td>Male</td>\n",
       "      <td>Loyal Customer</td>\n",
       "      <td>61</td>\n",
       "      <td>Business travel</td>\n",
       "      <td>Business</td>\n",
       "      <td>214</td>\n",
       "      <td>3</td>\n",
       "      <td>3</td>\n",
       "      <td>...</td>\n",
       "      <td>3</td>\n",
       "      <td>3</td>\n",
       "      <td>4</td>\n",
       "      <td>4</td>\n",
       "      <td>3</td>\n",
       "      <td>3</td>\n",
       "      <td>3</td>\n",
       "      <td>0</td>\n",
       "      <td>0.0</td>\n",
       "      <td>satisfied</td>\n",
       "    </tr>\n",
       "  </tbody>\n",
       "</table>\n",
       "<p>5 rows × 25 columns</p>\n",
       "</div>"
      ],
      "text/plain": [
       "   Unnamed: 0      id  Gender      Customer Type  Age   Type of Travel  \\\n",
       "0           0   70172    Male     Loyal Customer   13  Personal Travel   \n",
       "1           1    5047    Male  disloyal Customer   25  Business travel   \n",
       "2           2  110028  Female     Loyal Customer   26  Business travel   \n",
       "3           3   24026  Female     Loyal Customer   25  Business travel   \n",
       "4           4  119299    Male     Loyal Customer   61  Business travel   \n",
       "\n",
       "      Class  Flight Distance  Inflight wifi service  \\\n",
       "0  Eco Plus              460                      3   \n",
       "1  Business              235                      3   \n",
       "2  Business             1142                      2   \n",
       "3  Business              562                      2   \n",
       "4  Business              214                      3   \n",
       "\n",
       "   Departure/Arrival time convenient  ...  Inflight entertainment  \\\n",
       "0                                  4  ...                       5   \n",
       "1                                  2  ...                       1   \n",
       "2                                  2  ...                       5   \n",
       "3                                  5  ...                       2   \n",
       "4                                  3  ...                       3   \n",
       "\n",
       "   On-board service  Leg room service  Baggage handling  Checkin service  \\\n",
       "0                 4                 3                 4                4   \n",
       "1                 1                 5                 3                1   \n",
       "2                 4                 3                 4                4   \n",
       "3                 2                 5                 3                1   \n",
       "4                 3                 4                 4                3   \n",
       "\n",
       "   Inflight service  Cleanliness  Departure Delay in Minutes  \\\n",
       "0                 5            5                          25   \n",
       "1                 4            1                           1   \n",
       "2                 4            5                           0   \n",
       "3                 4            2                          11   \n",
       "4                 3            3                           0   \n",
       "\n",
       "   Arrival Delay in Minutes             satisfaction  \n",
       "0                      18.0  neutral or dissatisfied  \n",
       "1                       6.0  neutral or dissatisfied  \n",
       "2                       0.0                satisfied  \n",
       "3                       9.0  neutral or dissatisfied  \n",
       "4                       0.0                satisfied  \n",
       "\n",
       "[5 rows x 25 columns]"
      ]
     },
     "metadata": {},
     "output_type": "display_data"
    }
   ],
   "source": [
    "#Importowanie danych\n",
    "train = pd.read_csv(path+'/data/train.csv')\n",
    "display(train.head())"
   ]
  },
  {
   "cell_type": "code",
   "execution_count": 3,
   "metadata": {},
   "outputs": [
    {
     "name": "stdout",
     "output_type": "stream",
     "text": [
      "<class 'pandas.core.frame.DataFrame'>\n",
      "RangeIndex: 103904 entries, 0 to 103903\n",
      "Data columns (total 25 columns):\n",
      " #   Column                             Non-Null Count   Dtype  \n",
      "---  ------                             --------------   -----  \n",
      " 0   Unnamed: 0                         103904 non-null  int64  \n",
      " 1   id                                 103904 non-null  int64  \n",
      " 2   Gender                             103904 non-null  object \n",
      " 3   Customer Type                      103904 non-null  object \n",
      " 4   Age                                103904 non-null  int64  \n",
      " 5   Type of Travel                     103904 non-null  object \n",
      " 6   Class                              103904 non-null  object \n",
      " 7   Flight Distance                    103904 non-null  int64  \n",
      " 8   Inflight wifi service              103904 non-null  int64  \n",
      " 9   Departure/Arrival time convenient  103904 non-null  int64  \n",
      " 10  Ease of Online booking             103904 non-null  int64  \n",
      " 11  Gate location                      103904 non-null  int64  \n",
      " 12  Food and drink                     103904 non-null  int64  \n",
      " 13  Online boarding                    103904 non-null  int64  \n",
      " 14  Seat comfort                       103904 non-null  int64  \n",
      " 15  Inflight entertainment             103904 non-null  int64  \n",
      " 16  On-board service                   103904 non-null  int64  \n",
      " 17  Leg room service                   103904 non-null  int64  \n",
      " 18  Baggage handling                   103904 non-null  int64  \n",
      " 19  Checkin service                    103904 non-null  int64  \n",
      " 20  Inflight service                   103904 non-null  int64  \n",
      " 21  Cleanliness                        103904 non-null  int64  \n",
      " 22  Departure Delay in Minutes         103904 non-null  int64  \n",
      " 23  Arrival Delay in Minutes           103594 non-null  float64\n",
      " 24  satisfaction                       103904 non-null  object \n",
      "dtypes: float64(1), int64(19), object(5)\n",
      "memory usage: 19.8+ MB\n"
     ]
    },
    {
     "data": {
      "text/plain": [
       "None"
      ]
     },
     "metadata": {},
     "output_type": "display_data"
    }
   ],
   "source": [
    "#Sprawdźmy strukturę danych\n",
    "display(train.info())"
   ]
  },
  {
   "cell_type": "code",
   "execution_count": 4,
   "metadata": {},
   "outputs": [
    {
     "name": "stdout",
     "output_type": "stream",
     "text": [
      "Liczba zduplikowanych obserwacji w bazie treningowej: 0\n"
     ]
    }
   ],
   "source": [
    "#Sprawdzenie czy dane sie duplikują\n",
    "print(\"Liczba zduplikowanych obserwacji w bazie treningowej:\", train.duplicated().sum())\n"
   ]
  },
  {
   "cell_type": "markdown",
   "metadata": {},
   "source": [
    "Z bazy usuwam 2 pierwsze kolumny, które nie są potrzebne do analizy. Uważam również, że zmienne opisujące poziom zadowolenia powinny być zmiennymi kategorycznymi a nie zmiennymi ciągłymi, ponieważ posiadają tylko 6 poziomów."
   ]
  },
  {
   "cell_type": "code",
   "execution_count": 5,
   "metadata": {},
   "outputs": [],
   "source": [
    "train=train.drop('Unnamed: 0', axis=1)\n",
    "train=train.drop('id',axis=1)\n"
   ]
  },
  {
   "cell_type": "code",
   "execution_count": 6,
   "metadata": {},
   "outputs": [
    {
     "name": "stdout",
     "output_type": "stream",
     "text": [
      "['Inflight_wifi_service', 'Departure_Or_Arrival_time_convenient', 'Ease_of_Online_booking', 'Gate_location', 'Food_and_drink', 'Online_boarding', 'Seat_comfort', 'Inflight_entertainment', 'Onboard_service', 'Leg_room_service', 'Baggage_handling', 'Checkin_service', 'Inflight_service', 'Cleanliness']\n",
      "['Gender', 'Customer_Type', 'Type_of_Travel', 'Class']\n",
      "['Age', 'Flight_Distance', 'Departure_Delay_in_Minutes', 'Arrival_Delay_in_Minutes']\n"
     ]
    }
   ],
   "source": [
    "#Zamiana spacji na znak podłogi w zmiennych\n",
    "train.columns = [c.replace(' ', '_') for c in train.columns]\n",
    "train=train.rename(columns = {'Departure/Arrival_time_convenient':'Departure_Or_Arrival_time_convenient','On-board_service':'Onboard_service'})\n",
    "\n",
    "#Podzial zmiennych na kategoryczne cyforwe,kategoryczne slowne oraz ciagle\n",
    "\n",
    "cat_dig_features=train.select_dtypes(include='int64').columns.values.tolist()\n",
    "cat_dig_features.remove('Age')\n",
    "cat_dig_features.remove('Flight_Distance')\n",
    "cat_dig_features.remove('Departure_Delay_in_Minutes')\n",
    "print(cat_dig_features)\n",
    "\n",
    "cat_str_features=train.select_dtypes(include='object').columns.values.tolist()\n",
    "cat_str_features.remove('satisfaction')\n",
    "print(cat_str_features)\n",
    "\n",
    "num_features=['Age','Flight_Distance','Departure_Delay_in_Minutes','Arrival_Delay_in_Minutes']\n",
    "print(num_features)\n",
    "#Zamiana zmiennych dot. poziomu zadowolenia na zmienne kategoryczne\n",
    "\n",
    "train[cat_dig_features]=train[cat_dig_features].astype('object')"
   ]
  },
  {
   "cell_type": "code",
   "execution_count": 7,
   "metadata": {},
   "outputs": [
    {
     "name": "stdout",
     "output_type": "stream",
     "text": [
      "<class 'pandas.core.frame.DataFrame'>\n",
      "RangeIndex: 103904 entries, 0 to 103903\n",
      "Data columns (total 23 columns):\n",
      " #   Column                                Non-Null Count   Dtype  \n",
      "---  ------                                --------------   -----  \n",
      " 0   Gender                                103904 non-null  object \n",
      " 1   Customer_Type                         103904 non-null  object \n",
      " 2   Age                                   103904 non-null  int64  \n",
      " 3   Type_of_Travel                        103904 non-null  object \n",
      " 4   Class                                 103904 non-null  object \n",
      " 5   Flight_Distance                       103904 non-null  int64  \n",
      " 6   Inflight_wifi_service                 103904 non-null  object \n",
      " 7   Departure_Or_Arrival_time_convenient  103904 non-null  object \n",
      " 8   Ease_of_Online_booking                103904 non-null  object \n",
      " 9   Gate_location                         103904 non-null  object \n",
      " 10  Food_and_drink                        103904 non-null  object \n",
      " 11  Online_boarding                       103904 non-null  object \n",
      " 12  Seat_comfort                          103904 non-null  object \n",
      " 13  Inflight_entertainment                103904 non-null  object \n",
      " 14  Onboard_service                       103904 non-null  object \n",
      " 15  Leg_room_service                      103904 non-null  object \n",
      " 16  Baggage_handling                      103904 non-null  object \n",
      " 17  Checkin_service                       103904 non-null  object \n",
      " 18  Inflight_service                      103904 non-null  object \n",
      " 19  Cleanliness                           103904 non-null  object \n",
      " 20  Departure_Delay_in_Minutes            103904 non-null  int64  \n",
      " 21  Arrival_Delay_in_Minutes              103594 non-null  float64\n",
      " 22  satisfaction                          103904 non-null  object \n",
      "dtypes: float64(1), int64(3), object(19)\n",
      "memory usage: 18.2+ MB\n"
     ]
    }
   ],
   "source": [
    "train.info()"
   ]
  },
  {
   "cell_type": "code",
   "execution_count": 8,
   "metadata": {
    "scrolled": true
   },
   "outputs": [
    {
     "data": {
      "text/html": [
       "<div>\n",
       "<style scoped>\n",
       "    .dataframe tbody tr th:only-of-type {\n",
       "        vertical-align: middle;\n",
       "    }\n",
       "\n",
       "    .dataframe tbody tr th {\n",
       "        vertical-align: top;\n",
       "    }\n",
       "\n",
       "    .dataframe thead th {\n",
       "        text-align: right;\n",
       "    }\n",
       "</style>\n",
       "<table border=\"1\" class=\"dataframe\">\n",
       "  <thead>\n",
       "    <tr style=\"text-align: right;\">\n",
       "      <th></th>\n",
       "      <th>Gender</th>\n",
       "      <th>Customer_Type</th>\n",
       "      <th>Age</th>\n",
       "      <th>Type_of_Travel</th>\n",
       "      <th>Class</th>\n",
       "      <th>Flight_Distance</th>\n",
       "      <th>Inflight_wifi_service</th>\n",
       "      <th>Departure_Or_Arrival_time_convenient</th>\n",
       "      <th>Ease_of_Online_booking</th>\n",
       "      <th>Gate_location</th>\n",
       "      <th>...</th>\n",
       "      <th>Inflight_entertainment</th>\n",
       "      <th>Onboard_service</th>\n",
       "      <th>Leg_room_service</th>\n",
       "      <th>Baggage_handling</th>\n",
       "      <th>Checkin_service</th>\n",
       "      <th>Inflight_service</th>\n",
       "      <th>Cleanliness</th>\n",
       "      <th>Departure_Delay_in_Minutes</th>\n",
       "      <th>Arrival_Delay_in_Minutes</th>\n",
       "      <th>satisfaction</th>\n",
       "    </tr>\n",
       "  </thead>\n",
       "  <tbody>\n",
       "    <tr>\n",
       "      <th>count</th>\n",
       "      <td>103904</td>\n",
       "      <td>103904</td>\n",
       "      <td>103904.000000</td>\n",
       "      <td>103904</td>\n",
       "      <td>103904</td>\n",
       "      <td>103904.000000</td>\n",
       "      <td>103904.0</td>\n",
       "      <td>103904.0</td>\n",
       "      <td>103904.0</td>\n",
       "      <td>103904.0</td>\n",
       "      <td>...</td>\n",
       "      <td>103904.0</td>\n",
       "      <td>103904.0</td>\n",
       "      <td>103904.0</td>\n",
       "      <td>103904.0</td>\n",
       "      <td>103904.0</td>\n",
       "      <td>103904.0</td>\n",
       "      <td>103904.0</td>\n",
       "      <td>103904.000000</td>\n",
       "      <td>103594.000000</td>\n",
       "      <td>103904</td>\n",
       "    </tr>\n",
       "    <tr>\n",
       "      <th>unique</th>\n",
       "      <td>2</td>\n",
       "      <td>2</td>\n",
       "      <td>NaN</td>\n",
       "      <td>2</td>\n",
       "      <td>3</td>\n",
       "      <td>NaN</td>\n",
       "      <td>6.0</td>\n",
       "      <td>6.0</td>\n",
       "      <td>6.0</td>\n",
       "      <td>6.0</td>\n",
       "      <td>...</td>\n",
       "      <td>6.0</td>\n",
       "      <td>6.0</td>\n",
       "      <td>6.0</td>\n",
       "      <td>5.0</td>\n",
       "      <td>6.0</td>\n",
       "      <td>6.0</td>\n",
       "      <td>6.0</td>\n",
       "      <td>NaN</td>\n",
       "      <td>NaN</td>\n",
       "      <td>2</td>\n",
       "    </tr>\n",
       "    <tr>\n",
       "      <th>top</th>\n",
       "      <td>Female</td>\n",
       "      <td>Loyal Customer</td>\n",
       "      <td>NaN</td>\n",
       "      <td>Business travel</td>\n",
       "      <td>Business</td>\n",
       "      <td>NaN</td>\n",
       "      <td>3.0</td>\n",
       "      <td>4.0</td>\n",
       "      <td>3.0</td>\n",
       "      <td>3.0</td>\n",
       "      <td>...</td>\n",
       "      <td>4.0</td>\n",
       "      <td>4.0</td>\n",
       "      <td>4.0</td>\n",
       "      <td>4.0</td>\n",
       "      <td>4.0</td>\n",
       "      <td>4.0</td>\n",
       "      <td>4.0</td>\n",
       "      <td>NaN</td>\n",
       "      <td>NaN</td>\n",
       "      <td>neutral or dissatisfied</td>\n",
       "    </tr>\n",
       "    <tr>\n",
       "      <th>freq</th>\n",
       "      <td>52727</td>\n",
       "      <td>84923</td>\n",
       "      <td>NaN</td>\n",
       "      <td>71655</td>\n",
       "      <td>49665</td>\n",
       "      <td>NaN</td>\n",
       "      <td>25868.0</td>\n",
       "      <td>25546.0</td>\n",
       "      <td>24449.0</td>\n",
       "      <td>28577.0</td>\n",
       "      <td>...</td>\n",
       "      <td>29423.0</td>\n",
       "      <td>30867.0</td>\n",
       "      <td>28789.0</td>\n",
       "      <td>37383.0</td>\n",
       "      <td>29055.0</td>\n",
       "      <td>37945.0</td>\n",
       "      <td>27179.0</td>\n",
       "      <td>NaN</td>\n",
       "      <td>NaN</td>\n",
       "      <td>58879</td>\n",
       "    </tr>\n",
       "    <tr>\n",
       "      <th>mean</th>\n",
       "      <td>NaN</td>\n",
       "      <td>NaN</td>\n",
       "      <td>39.379706</td>\n",
       "      <td>NaN</td>\n",
       "      <td>NaN</td>\n",
       "      <td>1189.448375</td>\n",
       "      <td>NaN</td>\n",
       "      <td>NaN</td>\n",
       "      <td>NaN</td>\n",
       "      <td>NaN</td>\n",
       "      <td>...</td>\n",
       "      <td>NaN</td>\n",
       "      <td>NaN</td>\n",
       "      <td>NaN</td>\n",
       "      <td>NaN</td>\n",
       "      <td>NaN</td>\n",
       "      <td>NaN</td>\n",
       "      <td>NaN</td>\n",
       "      <td>14.815618</td>\n",
       "      <td>15.178678</td>\n",
       "      <td>NaN</td>\n",
       "    </tr>\n",
       "    <tr>\n",
       "      <th>std</th>\n",
       "      <td>NaN</td>\n",
       "      <td>NaN</td>\n",
       "      <td>15.114964</td>\n",
       "      <td>NaN</td>\n",
       "      <td>NaN</td>\n",
       "      <td>997.147281</td>\n",
       "      <td>NaN</td>\n",
       "      <td>NaN</td>\n",
       "      <td>NaN</td>\n",
       "      <td>NaN</td>\n",
       "      <td>...</td>\n",
       "      <td>NaN</td>\n",
       "      <td>NaN</td>\n",
       "      <td>NaN</td>\n",
       "      <td>NaN</td>\n",
       "      <td>NaN</td>\n",
       "      <td>NaN</td>\n",
       "      <td>NaN</td>\n",
       "      <td>38.230901</td>\n",
       "      <td>38.698682</td>\n",
       "      <td>NaN</td>\n",
       "    </tr>\n",
       "    <tr>\n",
       "      <th>min</th>\n",
       "      <td>NaN</td>\n",
       "      <td>NaN</td>\n",
       "      <td>7.000000</td>\n",
       "      <td>NaN</td>\n",
       "      <td>NaN</td>\n",
       "      <td>31.000000</td>\n",
       "      <td>NaN</td>\n",
       "      <td>NaN</td>\n",
       "      <td>NaN</td>\n",
       "      <td>NaN</td>\n",
       "      <td>...</td>\n",
       "      <td>NaN</td>\n",
       "      <td>NaN</td>\n",
       "      <td>NaN</td>\n",
       "      <td>NaN</td>\n",
       "      <td>NaN</td>\n",
       "      <td>NaN</td>\n",
       "      <td>NaN</td>\n",
       "      <td>0.000000</td>\n",
       "      <td>0.000000</td>\n",
       "      <td>NaN</td>\n",
       "    </tr>\n",
       "    <tr>\n",
       "      <th>25%</th>\n",
       "      <td>NaN</td>\n",
       "      <td>NaN</td>\n",
       "      <td>27.000000</td>\n",
       "      <td>NaN</td>\n",
       "      <td>NaN</td>\n",
       "      <td>414.000000</td>\n",
       "      <td>NaN</td>\n",
       "      <td>NaN</td>\n",
       "      <td>NaN</td>\n",
       "      <td>NaN</td>\n",
       "      <td>...</td>\n",
       "      <td>NaN</td>\n",
       "      <td>NaN</td>\n",
       "      <td>NaN</td>\n",
       "      <td>NaN</td>\n",
       "      <td>NaN</td>\n",
       "      <td>NaN</td>\n",
       "      <td>NaN</td>\n",
       "      <td>0.000000</td>\n",
       "      <td>0.000000</td>\n",
       "      <td>NaN</td>\n",
       "    </tr>\n",
       "    <tr>\n",
       "      <th>50%</th>\n",
       "      <td>NaN</td>\n",
       "      <td>NaN</td>\n",
       "      <td>40.000000</td>\n",
       "      <td>NaN</td>\n",
       "      <td>NaN</td>\n",
       "      <td>843.000000</td>\n",
       "      <td>NaN</td>\n",
       "      <td>NaN</td>\n",
       "      <td>NaN</td>\n",
       "      <td>NaN</td>\n",
       "      <td>...</td>\n",
       "      <td>NaN</td>\n",
       "      <td>NaN</td>\n",
       "      <td>NaN</td>\n",
       "      <td>NaN</td>\n",
       "      <td>NaN</td>\n",
       "      <td>NaN</td>\n",
       "      <td>NaN</td>\n",
       "      <td>0.000000</td>\n",
       "      <td>0.000000</td>\n",
       "      <td>NaN</td>\n",
       "    </tr>\n",
       "    <tr>\n",
       "      <th>75%</th>\n",
       "      <td>NaN</td>\n",
       "      <td>NaN</td>\n",
       "      <td>51.000000</td>\n",
       "      <td>NaN</td>\n",
       "      <td>NaN</td>\n",
       "      <td>1743.000000</td>\n",
       "      <td>NaN</td>\n",
       "      <td>NaN</td>\n",
       "      <td>NaN</td>\n",
       "      <td>NaN</td>\n",
       "      <td>...</td>\n",
       "      <td>NaN</td>\n",
       "      <td>NaN</td>\n",
       "      <td>NaN</td>\n",
       "      <td>NaN</td>\n",
       "      <td>NaN</td>\n",
       "      <td>NaN</td>\n",
       "      <td>NaN</td>\n",
       "      <td>12.000000</td>\n",
       "      <td>13.000000</td>\n",
       "      <td>NaN</td>\n",
       "    </tr>\n",
       "    <tr>\n",
       "      <th>max</th>\n",
       "      <td>NaN</td>\n",
       "      <td>NaN</td>\n",
       "      <td>85.000000</td>\n",
       "      <td>NaN</td>\n",
       "      <td>NaN</td>\n",
       "      <td>4983.000000</td>\n",
       "      <td>NaN</td>\n",
       "      <td>NaN</td>\n",
       "      <td>NaN</td>\n",
       "      <td>NaN</td>\n",
       "      <td>...</td>\n",
       "      <td>NaN</td>\n",
       "      <td>NaN</td>\n",
       "      <td>NaN</td>\n",
       "      <td>NaN</td>\n",
       "      <td>NaN</td>\n",
       "      <td>NaN</td>\n",
       "      <td>NaN</td>\n",
       "      <td>1592.000000</td>\n",
       "      <td>1584.000000</td>\n",
       "      <td>NaN</td>\n",
       "    </tr>\n",
       "  </tbody>\n",
       "</table>\n",
       "<p>11 rows × 23 columns</p>\n",
       "</div>"
      ],
      "text/plain": [
       "        Gender   Customer_Type            Age   Type_of_Travel     Class  \\\n",
       "count   103904          103904  103904.000000           103904    103904   \n",
       "unique       2               2            NaN                2         3   \n",
       "top     Female  Loyal Customer            NaN  Business travel  Business   \n",
       "freq     52727           84923            NaN            71655     49665   \n",
       "mean       NaN             NaN      39.379706              NaN       NaN   \n",
       "std        NaN             NaN      15.114964              NaN       NaN   \n",
       "min        NaN             NaN       7.000000              NaN       NaN   \n",
       "25%        NaN             NaN      27.000000              NaN       NaN   \n",
       "50%        NaN             NaN      40.000000              NaN       NaN   \n",
       "75%        NaN             NaN      51.000000              NaN       NaN   \n",
       "max        NaN             NaN      85.000000              NaN       NaN   \n",
       "\n",
       "        Flight_Distance  Inflight_wifi_service  \\\n",
       "count     103904.000000               103904.0   \n",
       "unique              NaN                    6.0   \n",
       "top                 NaN                    3.0   \n",
       "freq                NaN                25868.0   \n",
       "mean        1189.448375                    NaN   \n",
       "std          997.147281                    NaN   \n",
       "min           31.000000                    NaN   \n",
       "25%          414.000000                    NaN   \n",
       "50%          843.000000                    NaN   \n",
       "75%         1743.000000                    NaN   \n",
       "max         4983.000000                    NaN   \n",
       "\n",
       "        Departure_Or_Arrival_time_convenient  Ease_of_Online_booking  \\\n",
       "count                               103904.0                103904.0   \n",
       "unique                                   6.0                     6.0   \n",
       "top                                      4.0                     3.0   \n",
       "freq                                 25546.0                 24449.0   \n",
       "mean                                     NaN                     NaN   \n",
       "std                                      NaN                     NaN   \n",
       "min                                      NaN                     NaN   \n",
       "25%                                      NaN                     NaN   \n",
       "50%                                      NaN                     NaN   \n",
       "75%                                      NaN                     NaN   \n",
       "max                                      NaN                     NaN   \n",
       "\n",
       "        Gate_location  ...  Inflight_entertainment  Onboard_service  \\\n",
       "count        103904.0  ...                103904.0         103904.0   \n",
       "unique            6.0  ...                     6.0              6.0   \n",
       "top               3.0  ...                     4.0              4.0   \n",
       "freq          28577.0  ...                 29423.0          30867.0   \n",
       "mean              NaN  ...                     NaN              NaN   \n",
       "std               NaN  ...                     NaN              NaN   \n",
       "min               NaN  ...                     NaN              NaN   \n",
       "25%               NaN  ...                     NaN              NaN   \n",
       "50%               NaN  ...                     NaN              NaN   \n",
       "75%               NaN  ...                     NaN              NaN   \n",
       "max               NaN  ...                     NaN              NaN   \n",
       "\n",
       "        Leg_room_service  Baggage_handling  Checkin_service  Inflight_service  \\\n",
       "count           103904.0          103904.0         103904.0          103904.0   \n",
       "unique               6.0               5.0              6.0               6.0   \n",
       "top                  4.0               4.0              4.0               4.0   \n",
       "freq             28789.0           37383.0          29055.0           37945.0   \n",
       "mean                 NaN               NaN              NaN               NaN   \n",
       "std                  NaN               NaN              NaN               NaN   \n",
       "min                  NaN               NaN              NaN               NaN   \n",
       "25%                  NaN               NaN              NaN               NaN   \n",
       "50%                  NaN               NaN              NaN               NaN   \n",
       "75%                  NaN               NaN              NaN               NaN   \n",
       "max                  NaN               NaN              NaN               NaN   \n",
       "\n",
       "        Cleanliness  Departure_Delay_in_Minutes  Arrival_Delay_in_Minutes  \\\n",
       "count      103904.0               103904.000000             103594.000000   \n",
       "unique          6.0                         NaN                       NaN   \n",
       "top             4.0                         NaN                       NaN   \n",
       "freq        27179.0                         NaN                       NaN   \n",
       "mean            NaN                   14.815618                 15.178678   \n",
       "std             NaN                   38.230901                 38.698682   \n",
       "min             NaN                    0.000000                  0.000000   \n",
       "25%             NaN                    0.000000                  0.000000   \n",
       "50%             NaN                    0.000000                  0.000000   \n",
       "75%             NaN                   12.000000                 13.000000   \n",
       "max             NaN                 1592.000000               1584.000000   \n",
       "\n",
       "                   satisfaction  \n",
       "count                    103904  \n",
       "unique                        2  \n",
       "top     neutral or dissatisfied  \n",
       "freq                      58879  \n",
       "mean                        NaN  \n",
       "std                         NaN  \n",
       "min                         NaN  \n",
       "25%                         NaN  \n",
       "50%                         NaN  \n",
       "75%                         NaN  \n",
       "max                         NaN  \n",
       "\n",
       "[11 rows x 23 columns]"
      ]
     },
     "metadata": {},
     "output_type": "display_data"
    }
   ],
   "source": [
    "#Statystyki podsumowujące obie bazy\n",
    "display(train.describe(include='all'))"
   ]
  },
  {
   "cell_type": "markdown",
   "metadata": {},
   "source": [
    "Sprawdźmy jak prezentuje się liczebność poziomów zmiennych kategorycznych"
   ]
  },
  {
   "cell_type": "code",
   "execution_count": 9,
   "metadata": {},
   "outputs": [
    {
     "name": "stdout",
     "output_type": "stream",
     "text": [
      "Gender\n",
      "Female    52727\n",
      "Male      51177\n",
      "Name: Gender, dtype: int64\n",
      "--------------\n",
      "Customer_Type\n",
      "Loyal Customer       84923\n",
      "disloyal Customer    18981\n",
      "Name: Customer_Type, dtype: int64\n",
      "--------------\n",
      "Type_of_Travel\n",
      "Business travel    71655\n",
      "Personal Travel    32249\n",
      "Name: Type_of_Travel, dtype: int64\n",
      "--------------\n",
      "Class\n",
      "Business    49665\n",
      "Eco         46745\n",
      "Eco Plus     7494\n",
      "Name: Class, dtype: int64\n",
      "--------------\n",
      "Inflight_wifi_service\n",
      "3    25868\n",
      "2    25830\n",
      "4    19794\n",
      "1    17840\n",
      "5    11469\n",
      "0     3103\n",
      "Name: Inflight_wifi_service, dtype: int64\n",
      "--------------\n",
      "Departure_Or_Arrival_time_convenient\n",
      "4    25546\n",
      "5    22403\n",
      "3    17966\n",
      "2    17191\n",
      "1    15498\n",
      "0     5300\n",
      "Name: Departure_Or_Arrival_time_convenient, dtype: int64\n",
      "--------------\n",
      "Ease_of_Online_booking\n",
      "3    24449\n",
      "2    24021\n",
      "4    19571\n",
      "1    17525\n",
      "5    13851\n",
      "0     4487\n",
      "Name: Ease_of_Online_booking, dtype: int64\n",
      "--------------\n",
      "Gate_location\n",
      "3    28577\n",
      "4    24426\n",
      "2    19459\n",
      "1    17562\n",
      "5    13879\n",
      "0        1\n",
      "Name: Gate_location, dtype: int64\n",
      "--------------\n",
      "Food_and_drink\n",
      "4    24359\n",
      "5    22313\n",
      "3    22300\n",
      "2    21988\n",
      "1    12837\n",
      "0      107\n",
      "Name: Food_and_drink, dtype: int64\n",
      "--------------\n",
      "Online_boarding\n",
      "4    30762\n",
      "3    21804\n",
      "5    20713\n",
      "2    17505\n",
      "1    10692\n",
      "0     2428\n",
      "Name: Online_boarding, dtype: int64\n",
      "--------------\n",
      "Seat_comfort\n",
      "4    31765\n",
      "5    26470\n",
      "3    18696\n",
      "2    14897\n",
      "1    12075\n",
      "0        1\n",
      "Name: Seat_comfort, dtype: int64\n",
      "--------------\n",
      "Inflight_entertainment\n",
      "4    29423\n",
      "5    25213\n",
      "3    19139\n",
      "2    17637\n",
      "1    12478\n",
      "0       14\n",
      "Name: Inflight_entertainment, dtype: int64\n",
      "--------------\n",
      "Onboard_service\n",
      "4    30867\n",
      "5    23648\n",
      "3    22833\n",
      "2    14681\n",
      "1    11872\n",
      "0        3\n",
      "Name: Onboard_service, dtype: int64\n",
      "--------------\n",
      "Leg_room_service\n",
      "4    28789\n",
      "5    24667\n",
      "3    20098\n",
      "2    19525\n",
      "1    10353\n",
      "0      472\n",
      "Name: Leg_room_service, dtype: int64\n",
      "--------------\n",
      "Baggage_handling\n",
      "4    37383\n",
      "5    27131\n",
      "3    20632\n",
      "2    11521\n",
      "1     7237\n",
      "Name: Baggage_handling, dtype: int64\n",
      "--------------\n",
      "Checkin_service\n",
      "4    29055\n",
      "3    28446\n",
      "5    20619\n",
      "2    12893\n",
      "1    12890\n",
      "0        1\n",
      "Name: Checkin_service, dtype: int64\n",
      "--------------\n",
      "Inflight_service\n",
      "4    37945\n",
      "5    27116\n",
      "3    20299\n",
      "2    11457\n",
      "1     7084\n",
      "0        3\n",
      "Name: Inflight_service, dtype: int64\n",
      "--------------\n",
      "Cleanliness\n",
      "4    27179\n",
      "3    24574\n",
      "5    22689\n",
      "2    16132\n",
      "1    13318\n",
      "0       12\n",
      "Name: Cleanliness, dtype: int64\n",
      "--------------\n"
     ]
    }
   ],
   "source": [
    "for col in cat_str_features+cat_dig_features:\n",
    "    print(col)\n",
    "    print(train[col].value_counts())\n",
    "    print('--------------')"
   ]
  },
  {
   "cell_type": "markdown",
   "metadata": {},
   "source": [
    "Widać, że w części tych zmiennych poziom 0 (\"nie dotyczy\") jest małoliczny, co może zaburzać wyniki modelowania, dlatego warto zająć się tym w etapie inżynierii zmiennych."
   ]
  },
  {
   "cell_type": "markdown",
   "metadata": {},
   "source": [
    "### 2.1. Braki danych"
   ]
  },
  {
   "cell_type": "markdown",
   "metadata": {},
   "source": [
    "Na podstawie początkowego podsumowania zbioru można zauważyć, że jedynie w przypadku zmiennej dotyczącej opóźnienie przylotu w minutach mamy doczynienia z brakami danych. Upewnijmy się."
   ]
  },
  {
   "cell_type": "code",
   "execution_count": 10,
   "metadata": {},
   "outputs": [
    {
     "name": "stdout",
     "output_type": "stream",
     "text": [
      "Kolumny w train z wartościami na:\n",
      " Gender                                    0\n",
      "Customer_Type                             0\n",
      "Age                                       0\n",
      "Type_of_Travel                            0\n",
      "Class                                     0\n",
      "Flight_Distance                           0\n",
      "Inflight_wifi_service                     0\n",
      "Departure_Or_Arrival_time_convenient      0\n",
      "Ease_of_Online_booking                    0\n",
      "Gate_location                             0\n",
      "Food_and_drink                            0\n",
      "Online_boarding                           0\n",
      "Seat_comfort                              0\n",
      "Inflight_entertainment                    0\n",
      "Onboard_service                           0\n",
      "Leg_room_service                          0\n",
      "Baggage_handling                          0\n",
      "Checkin_service                           0\n",
      "Inflight_service                          0\n",
      "Cleanliness                               0\n",
      "Departure_Delay_in_Minutes                0\n",
      "Arrival_Delay_in_Minutes                310\n",
      "satisfaction                              0\n",
      "dtype: int64\n"
     ]
    }
   ],
   "source": [
    "print('Kolumny w train z wartościami na:\\n', train.isna().sum())"
   ]
  },
  {
   "cell_type": "markdown",
   "metadata": {},
   "source": [
    "W przypadku tak małej ilości braków danych, zostaną one zastąpione po prostu medianą pozostałych wartości"
   ]
  },
  {
   "cell_type": "code",
   "execution_count": 11,
   "metadata": {
    "scrolled": true
   },
   "outputs": [
    {
     "name": "stdout",
     "output_type": "stream",
     "text": [
      "Sprawdzenie czy braki zostały uzupełnione -> liczba braków w train: 0\n"
     ]
    }
   ],
   "source": [
    "train['Arrival_Delay_in_Minutes'].fillna(train['Arrival_Delay_in_Minutes'].median(),inplace=True)\n",
    "\n",
    "print('Sprawdzenie czy braki zostały uzupełnione -> liczba braków w train:', train['Arrival_Delay_in_Minutes'].isna().sum())\n"
   ]
  },
  {
   "cell_type": "code",
   "execution_count": 12,
   "metadata": {},
   "outputs": [],
   "source": [
    "#Zapisanie danych \n",
    "train.to_csv(path+'\\\\data\\\\data_prepare.csv',index=False)\n",
    "\n",
    "with open(path+\"\\\\data\\\\cat_dig_features.txt\", \"w\") as output:\n",
    "    output.write(json.dumps(cat_dig_features))\n",
    "with open(path+\"\\\\data\\\\cat_str_features.txt\", \"w\") as output:\n",
    "    output.write(json.dumps(cat_str_features))\n",
    "with open(path+\"\\\\data\\\\num_features.txt\", \"w\") as output:\n",
    "    output.write(json.dumps(num_features))"
   ]
  },
  {
   "cell_type": "markdown",
   "metadata": {},
   "source": [
    "## 3. Eksploracja i analiza danych"
   ]
  },
  {
   "cell_type": "markdown",
   "metadata": {},
   "source": [
    "Wstępna analiza danych pomoże prawidłowo zrozumieć posiadane zmienne, a przede wszystkim zbudować lepszy model. Zacznijmy od zmiennej zależnej."
   ]
  },
  {
   "cell_type": "code",
   "execution_count": 13,
   "metadata": {},
   "outputs": [
    {
     "data": {
      "image/png": "[encoded data removed]",
      "text/plain": [
       "<Figure size 504x360 with 1 Axes>"
      ]
     },
     "metadata": {},
     "output_type": "display_data"
    }
   ],
   "source": [
    "#Sprawdźmy najpierw czy zmienna zależna jest zbilansowana\n",
    "sns.histplot(train['satisfaction'],stat='density')\n",
    "plt.ylabel('Udział pasażerów')\n",
    "plt.show()"
   ]
  },
  {
   "cell_type": "markdown",
   "metadata": {},
   "source": [
    "Rozkład wartości tej zmienne zależnej wynosi około 57% dla poziomu neutral/dissatisfied oraz 43% dla poziomu satisfied, co oznacza, że proba jest wzglednie zbilansowana"
   ]
  },
  {
   "cell_type": "markdown",
   "metadata": {},
   "source": [
    "Rozkład zmiennej zależnej w podziale na płeć"
   ]
  },
  {
   "cell_type": "code",
   "execution_count": 14,
   "metadata": {},
   "outputs": [
    {
     "data": {
      "image/png": "[encoded data removed]",
      "text/plain": [
       "<Figure size 504x360 with 1 Axes>"
      ]
     },
     "metadata": {},
     "output_type": "display_data"
    }
   ],
   "source": [
    "sns.histplot(data=train, x='satisfaction',hue='Gender',multiple='dodge')\n",
    "plt.ylabel('Liczba pasażerów')\n",
    "plt.show()"
   ]
  },
  {
   "cell_type": "markdown",
   "metadata": {},
   "source": [
    "Podział na płeć nie różnicuje znacząco wyników, rozkład niezadowolonych i zadowolonych klientów ze względu na płeć jest praktycznie taki sam, co może być oznaką, że zmienna ta nie będzie warta uwzględniania w modelach. Warto sprawdzić w takim razie jak rozkładają się wyniki dla wieku zbadanych pasażerów"
   ]
  },
  {
   "cell_type": "code",
   "execution_count": 15,
   "metadata": {},
   "outputs": [
    {
     "data": {
      "image/png": "[encoded data removed]",
      "text/plain": [
       "<Figure size 1080x648 with 1 Axes>"
      ]
     },
     "metadata": {},
     "output_type": "display_data"
    }
   ],
   "source": [
    "fig, ax = plt.subplots(figsize=(15,9))\n",
    "sns.countplot(data=train,x='Age',hue='satisfaction',order=range(5, 80),ax=ax)\n",
    "plt.ylabel('Liczba pasażerów')\n",
    "plt.xticks(rotation=70 ) \n",
    "plt.show()"
   ]
  },
  {
   "cell_type": "markdown",
   "metadata": {},
   "source": [
    "Patrząc na wykres można wyszczególnić kilka grup. Między 7 a 21 rokiem życia oraz między 61 a 79 rokiem życia liczba osób niezadowolonych jest sporo większa niż pasażerów zadowolonych. Między 22 a 38 rokiem życia udział osób zadowolonych rośnie ale dalej niedorównuje liczbie osób niezadowolonych. Dopiero między 39 a 60 rokiem życia pasażerów zadowolonych jest więcej niż tych niezadowolonych. Stanowi to ciekawą wskazówkę, aby pomyśleć o pogrupowaniu tej zmiennej w późniejszej części badania"
   ]
  },
  {
   "cell_type": "markdown",
   "metadata": {},
   "source": [
    "Kolejnym oczywistym faktorem różnicującym zmienną zależną może być wybrany standard lotu, który warto dodatkowo podzielić na typ podróży"
   ]
  },
  {
   "cell_type": "code",
   "execution_count": 16,
   "metadata": {},
   "outputs": [
    {
     "data": {
      "image/png": "[encoded data removed]",
      "text/plain": [
       "<Figure size 863.725x360 with 2 Axes>"
      ]
     },
     "metadata": {},
     "output_type": "display_data"
    }
   ],
   "source": [
    "g=sns.catplot(data=train,x='Class',hue='satisfaction',col='Type_of_Travel',kind=\"count\")\n",
    "g.set_ylabels(\"Liczba pasażerów\")\n",
    "plt.show()"
   ]
  },
  {
   "cell_type": "markdown",
   "metadata": {},
   "source": [
    "W przypadku podróży prywatnych większość osób wybiera klasę ekonomiczną i wśród nich większość osób jest niezadowolona z usług tych linii lotniczych. Natomiast w przypadku podróży zawodowych najwięcej osób wybiera klasę biznesową i około 70% z nich jest zadowolona. Co ciekawe w przypadku podróży prywatnych i wyboru klasy biznesowej nie można dostrzec tych samych prawidłowości."
   ]
  },
  {
   "cell_type": "markdown",
   "metadata": {},
   "source": [
    "Warto również zbadać jak zachowują się zmienne dotyczące długości lotu czy czasu opóźnienia przylotu/odlotu względem zmiennej objaśnianej"
   ]
  },
  {
   "cell_type": "code",
   "execution_count": 17,
   "metadata": {},
   "outputs": [
    {
     "data": {
      "image/png": "[encoded data removed]",
      "text/plain": [
       "<Figure size 504x360 with 1 Axes>"
      ]
     },
     "metadata": {},
     "output_type": "display_data"
    }
   ],
   "source": [
    "sns.boxplot(data=train,x='Type_of_Travel',y='Flight_Distance',hue='satisfaction')\n",
    "plt.legend(bbox_to_anchor=(1.05, 1), loc=2, borderaxespad=0.)\n",
    "plt.show()"
   ]
  },
  {
   "cell_type": "markdown",
   "metadata": {},
   "source": [
    "W przypadku lotów prywatnych nie ma różnicy w dystansie i nie przeklada się to na wyniki zmiennej zależnej. Zarówno niezadowolonych jak i zadowolonych pasażerów jest podobna ilość. Natomiast w przypadku podróży biznesowych różnica jest już widoczna. Średnio, osoby zadowolone z linii lotniczych odbywały dłuższe podróże służbowe."
   ]
  },
  {
   "cell_type": "code",
   "execution_count": 18,
   "metadata": {},
   "outputs": [
    {
     "data": {
      "image/png": "[encoded data removed]",
      "text/plain": [
       "<Figure size 936x360 with 2 Axes>"
      ]
     },
     "metadata": {},
     "output_type": "display_data"
    }
   ],
   "source": [
    "fig, ax = plt.subplots(1,2,figsize=(13,5))\n",
    "sns.barplot(x=\"Class\", y=\"Departure_Delay_in_Minutes\", hue=\"satisfaction\", data=train,ax=ax[0])\n",
    "sns.barplot(x=\"Class\", y=\"Arrival_Delay_in_Minutes\", hue=\"satisfaction\", data=train,ax=ax[1])\n",
    "ax[0].get_legend().remove()\n",
    "ax[1].legend(bbox_to_anchor=(1.05, 1), loc=2, borderaxespad=0.)\n",
    "plt.show()"
   ]
  },
  {
   "cell_type": "markdown",
   "metadata": {},
   "source": [
    "Dla wszystkich typów standardów lotu, średnie większe opóźnienie przylotu/odlotu samolotu jest charakterystyką tych lotów, których pasażerowie nie są zadowoleni z linii lotniczych, co jest zgodne z intuicją."
   ]
  }
 ],
 "metadata": {
  "kernelspec": {
   "display_name": "Python 3",
   "language": "python",
   "name": "python3"
  },
  "language_info": {
   "codemirror_mode": {
    "name": "ipython",
    "version": 3
   },
   "file_extension": ".py",
   "mimetype": "text/x-python",
   "name": "python",
   "nbconvert_exporter": "python",
   "pygments_lexer": "ipython3",
   "version": "3.8.0"
  }
 },
 "nbformat": 4,
 "nbformat_minor": 4
}
