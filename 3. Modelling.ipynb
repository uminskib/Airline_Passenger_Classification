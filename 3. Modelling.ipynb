{
 "cells": [
  {
   "cell_type": "code",
   "execution_count": 113,
   "metadata": {},
   "outputs": [],
   "source": [
    "#Wczytanie potrzebnych bibliotek\n",
    "from sklearn.model_selection import KFold\n",
    "from sklearn import metrics\n",
    "from sklearn.ensemble import RandomForestClassifier\n",
    "from sklearn.metrics import roc_auc_score\n",
    "from sklearn import preprocessing\n",
    "import statsmodels.api as sm\n",
    "from sklearn import linear_model\n",
    "from sklearn import neighbors\n",
    "import pandas as pd \n",
    "import numpy as np\n",
    "import os\n",
    "import json\n",
    "from random import shuffle\n",
    "from random import randint\n",
    "from sklearn.model_selection import StratifiedKFold\n",
    "from operator import itemgetter\n",
    "from sklearn.metrics import roc_curve, roc_auc_score\n",
    "import matplotlib.pyplot as plt\n",
    "import time\n",
    "import xgboost as xgb\n",
    "path=os.getcwd()"
   ]
  },
  {
   "cell_type": "code",
   "execution_count": 2,
   "metadata": {
    "scrolled": true
   },
   "outputs": [
    {
     "name": "stdout",
     "output_type": "stream",
     "text": [
      "<class 'pandas.core.frame.DataFrame'>\n",
      "RangeIndex: 103320 entries, 0 to 103319\n",
      "Data columns (total 21 columns):\n",
      " #   Column                                Non-Null Count   Dtype  \n",
      "---  ------                                --------------   -----  \n",
      " 0   Customer_Type                         103320 non-null  object \n",
      " 1   Type_of_Travel                        103320 non-null  object \n",
      " 2   Class                                 103320 non-null  object \n",
      " 3   Inflight_wifi_service                 103320 non-null  object \n",
      " 4   Departure_Or_Arrival_time_convenient  103320 non-null  object \n",
      " 5   Ease_of_Online_booking                103320 non-null  object \n",
      " 6   Gate_location                         103320 non-null  object \n",
      " 7   Food_and_drink                        103320 non-null  object \n",
      " 8   Online_boarding                       103320 non-null  object \n",
      " 9   Seat_comfort                          103320 non-null  object \n",
      " 10  Inflight_entertainment                103320 non-null  object \n",
      " 11  Onboard_service                       103320 non-null  object \n",
      " 12  Leg_room_service                      103320 non-null  object \n",
      " 13  Baggage_handling                      103320 non-null  object \n",
      " 14  Checkin_service                       103320 non-null  object \n",
      " 15  Inflight_service                      103320 non-null  object \n",
      " 16  Cleanliness                           103320 non-null  object \n",
      " 17  Age                                   103320 non-null  int64  \n",
      " 18  Flight_Distance                       103320 non-null  int64  \n",
      " 19  Delay_in_Minutes                      103320 non-null  float64\n",
      " 20  satisfaction                          103320 non-null  object \n",
      "dtypes: float64(1), int64(2), object(18)\n",
      "memory usage: 16.6+ MB\n",
      "None\n"
     ]
    }
   ],
   "source": [
    "#Wczytanie danych\n",
    "df = pd.read_csv(path+'\\\\data\\\\data_for_model.csv')\n",
    "with open(path+\"/data/cat_dig_features_after_engine.txt\", \"r\") as file:\n",
    "    cat_dig_features=json.loads(file.read())\n",
    "with open(path+\"/data/cat_str_features_after_engine.txt\", \"r\") as file:\n",
    "    cat_str_features=json.loads(file.read())\n",
    "with open(path+\"/data/num_features_after_engine.txt\", \"r\") as file:\n",
    "    num_features=json.loads(file.read())\n",
    "df[cat_dig_features]=df[cat_dig_features].astype('object')\n",
    "print(df.info())"
   ]
  },
  {
   "cell_type": "code",
   "execution_count": 3,
   "metadata": {},
   "outputs": [],
   "source": [
    "features=cat_dig_features+cat_str_features+num_features\n",
    "target='satisfaction'"
   ]
  },
  {
   "cell_type": "markdown",
   "metadata": {},
   "source": [
    "Modelowanie będzie przeprowadzone za pomocą czterech modeli: Regresji logistycznej, KNN, Random Forest oraz gradient boosting. Do porównywania wyników zostanie użyta metryka dla prawdopodobieństw roc auc score."
   ]
  },
  {
   "cell_type": "markdown",
   "metadata": {},
   "source": [
    "## 1. Regresja logistyczna"
   ]
  },
  {
   "cell_type": "markdown",
   "metadata": {},
   "source": [
    "Zacznijmy modelowanie od ekonometrii i od modelu regresji logistycznej przeznaczonego do problemów klasyfikacyjnych. Zacznijmy od przygotowania zmiennych do tego typu estymacji. Należy zmienne kategoryczne zamienić na 0-1, gdyż zmienne te są nieuporządkowane, dlatego potraktowanie każdego poziomu oddzielnie da najlepsze rezultaty."
   ]
  },
  {
   "cell_type": "code",
   "execution_count": 4,
   "metadata": {},
   "outputs": [
    {
     "data": {
      "text/html": [
       "<div>\n",
       "<style scoped>\n",
       "    .dataframe tbody tr th:only-of-type {\n",
       "        vertical-align: middle;\n",
       "    }\n",
       "\n",
       "    .dataframe tbody tr th {\n",
       "        vertical-align: top;\n",
       "    }\n",
       "\n",
       "    .dataframe thead th {\n",
       "        text-align: right;\n",
       "    }\n",
       "</style>\n",
       "<table border=\"1\" class=\"dataframe\">\n",
       "  <thead>\n",
       "    <tr style=\"text-align: right;\">\n",
       "      <th></th>\n",
       "      <th>Age</th>\n",
       "      <th>Flight_Distance</th>\n",
       "      <th>Delay_in_Minutes</th>\n",
       "      <th>Inflight_wifi_service_1</th>\n",
       "      <th>Inflight_wifi_service_2</th>\n",
       "      <th>Inflight_wifi_service_3</th>\n",
       "      <th>Inflight_wifi_service_4</th>\n",
       "      <th>Inflight_wifi_service_5</th>\n",
       "      <th>Departure_Or_Arrival_time_convenient_1</th>\n",
       "      <th>Departure_Or_Arrival_time_convenient_2</th>\n",
       "      <th>...</th>\n",
       "      <th>Inflight_service_5</th>\n",
       "      <th>Cleanliness_2</th>\n",
       "      <th>Cleanliness_3</th>\n",
       "      <th>Cleanliness_4</th>\n",
       "      <th>Cleanliness_5</th>\n",
       "      <th>Customer_Type_disloyal Customer</th>\n",
       "      <th>Type_of_Travel_Personal Travel</th>\n",
       "      <th>Class_Eco</th>\n",
       "      <th>Class_Eco Plus</th>\n",
       "      <th>satisfaction</th>\n",
       "    </tr>\n",
       "  </thead>\n",
       "  <tbody>\n",
       "    <tr>\n",
       "      <th>0</th>\n",
       "      <td>13</td>\n",
       "      <td>460</td>\n",
       "      <td>43.0</td>\n",
       "      <td>0</td>\n",
       "      <td>0</td>\n",
       "      <td>1</td>\n",
       "      <td>0</td>\n",
       "      <td>0</td>\n",
       "      <td>0</td>\n",
       "      <td>0</td>\n",
       "      <td>...</td>\n",
       "      <td>1</td>\n",
       "      <td>0</td>\n",
       "      <td>0</td>\n",
       "      <td>0</td>\n",
       "      <td>1</td>\n",
       "      <td>0</td>\n",
       "      <td>1</td>\n",
       "      <td>0</td>\n",
       "      <td>1</td>\n",
       "      <td>0</td>\n",
       "    </tr>\n",
       "    <tr>\n",
       "      <th>1</th>\n",
       "      <td>25</td>\n",
       "      <td>235</td>\n",
       "      <td>7.0</td>\n",
       "      <td>0</td>\n",
       "      <td>0</td>\n",
       "      <td>1</td>\n",
       "      <td>0</td>\n",
       "      <td>0</td>\n",
       "      <td>0</td>\n",
       "      <td>1</td>\n",
       "      <td>...</td>\n",
       "      <td>0</td>\n",
       "      <td>0</td>\n",
       "      <td>0</td>\n",
       "      <td>0</td>\n",
       "      <td>0</td>\n",
       "      <td>1</td>\n",
       "      <td>0</td>\n",
       "      <td>0</td>\n",
       "      <td>0</td>\n",
       "      <td>0</td>\n",
       "    </tr>\n",
       "    <tr>\n",
       "      <th>2</th>\n",
       "      <td>26</td>\n",
       "      <td>1142</td>\n",
       "      <td>0.0</td>\n",
       "      <td>0</td>\n",
       "      <td>1</td>\n",
       "      <td>0</td>\n",
       "      <td>0</td>\n",
       "      <td>0</td>\n",
       "      <td>0</td>\n",
       "      <td>1</td>\n",
       "      <td>...</td>\n",
       "      <td>0</td>\n",
       "      <td>0</td>\n",
       "      <td>0</td>\n",
       "      <td>0</td>\n",
       "      <td>1</td>\n",
       "      <td>0</td>\n",
       "      <td>0</td>\n",
       "      <td>0</td>\n",
       "      <td>0</td>\n",
       "      <td>1</td>\n",
       "    </tr>\n",
       "    <tr>\n",
       "      <th>3</th>\n",
       "      <td>25</td>\n",
       "      <td>562</td>\n",
       "      <td>20.0</td>\n",
       "      <td>0</td>\n",
       "      <td>1</td>\n",
       "      <td>0</td>\n",
       "      <td>0</td>\n",
       "      <td>0</td>\n",
       "      <td>0</td>\n",
       "      <td>0</td>\n",
       "      <td>...</td>\n",
       "      <td>0</td>\n",
       "      <td>1</td>\n",
       "      <td>0</td>\n",
       "      <td>0</td>\n",
       "      <td>0</td>\n",
       "      <td>0</td>\n",
       "      <td>0</td>\n",
       "      <td>0</td>\n",
       "      <td>0</td>\n",
       "      <td>0</td>\n",
       "    </tr>\n",
       "    <tr>\n",
       "      <th>4</th>\n",
       "      <td>61</td>\n",
       "      <td>214</td>\n",
       "      <td>0.0</td>\n",
       "      <td>0</td>\n",
       "      <td>0</td>\n",
       "      <td>1</td>\n",
       "      <td>0</td>\n",
       "      <td>0</td>\n",
       "      <td>0</td>\n",
       "      <td>0</td>\n",
       "      <td>...</td>\n",
       "      <td>0</td>\n",
       "      <td>0</td>\n",
       "      <td>1</td>\n",
       "      <td>0</td>\n",
       "      <td>0</td>\n",
       "      <td>0</td>\n",
       "      <td>0</td>\n",
       "      <td>0</td>\n",
       "      <td>0</td>\n",
       "      <td>1</td>\n",
       "    </tr>\n",
       "  </tbody>\n",
       "</table>\n",
       "<p>5 rows × 68 columns</p>\n",
       "</div>"
      ],
      "text/plain": [
       "   Age  Flight_Distance  Delay_in_Minutes  Inflight_wifi_service_1  \\\n",
       "0   13              460              43.0                        0   \n",
       "1   25              235               7.0                        0   \n",
       "2   26             1142               0.0                        0   \n",
       "3   25              562              20.0                        0   \n",
       "4   61              214               0.0                        0   \n",
       "\n",
       "   Inflight_wifi_service_2  Inflight_wifi_service_3  Inflight_wifi_service_4  \\\n",
       "0                        0                        1                        0   \n",
       "1                        0                        1                        0   \n",
       "2                        1                        0                        0   \n",
       "3                        1                        0                        0   \n",
       "4                        0                        1                        0   \n",
       "\n",
       "   Inflight_wifi_service_5  Departure_Or_Arrival_time_convenient_1  \\\n",
       "0                        0                                       0   \n",
       "1                        0                                       0   \n",
       "2                        0                                       0   \n",
       "3                        0                                       0   \n",
       "4                        0                                       0   \n",
       "\n",
       "   Departure_Or_Arrival_time_convenient_2  ...  Inflight_service_5  \\\n",
       "0                                       0  ...                   1   \n",
       "1                                       1  ...                   0   \n",
       "2                                       1  ...                   0   \n",
       "3                                       0  ...                   0   \n",
       "4                                       0  ...                   0   \n",
       "\n",
       "   Cleanliness_2  Cleanliness_3  Cleanliness_4  Cleanliness_5  \\\n",
       "0              0              0              0              1   \n",
       "1              0              0              0              0   \n",
       "2              0              0              0              1   \n",
       "3              1              0              0              0   \n",
       "4              0              1              0              0   \n",
       "\n",
       "   Customer_Type_disloyal Customer  Type_of_Travel_Personal Travel  Class_Eco  \\\n",
       "0                                0                               1          0   \n",
       "1                                1                               0          0   \n",
       "2                                0                               0          0   \n",
       "3                                0                               0          0   \n",
       "4                                0                               0          0   \n",
       "\n",
       "   Class_Eco Plus  satisfaction  \n",
       "0               1             0  \n",
       "1               0             0  \n",
       "2               0             1  \n",
       "3               0             0  \n",
       "4               0             1  \n",
       "\n",
       "[5 rows x 68 columns]"
      ]
     },
     "metadata": {},
     "output_type": "display_data"
    }
   ],
   "source": [
    "data_for_lr=df.copy()\n",
    "# One hot encoding\n",
    "dummLev = pd.get_dummies(data_for_lr[cat_dig_features+cat_str_features], drop_first=True)\n",
    "\n",
    "# Połączenie zmiennych numerycznych, kategorycznych w postaci on hot encoding oraz targetu\n",
    "data_for_lr = pd.concat([data_for_lr[num_features], dummLev, data_for_lr[[target]]], axis=1)\n",
    "data_for_lr['satisfaction'].replace({'neutral or dissatisfied': 0, 'satisfied': 1},inplace = True)\n",
    "display(data_for_lr.head())"
   ]
  },
  {
   "cell_type": "markdown",
   "metadata": {},
   "source": [
    "Trzeba zamienić spacje w nazwach zmiennych na znak podłogi, ponieważ regresja logistyczna z formuły ma problem z białymi znakami"
   ]
  },
  {
   "cell_type": "code",
   "execution_count": 5,
   "metadata": {},
   "outputs": [
    {
     "name": "stdout",
     "output_type": "stream",
     "text": [
      "<class 'pandas.core.frame.DataFrame'>\n",
      "RangeIndex: 103320 entries, 0 to 103319\n",
      "Data columns (total 68 columns):\n",
      " #   Column                                  Non-Null Count   Dtype  \n",
      "---  ------                                  --------------   -----  \n",
      " 0   Age                                     103320 non-null  int64  \n",
      " 1   Flight_Distance                         103320 non-null  int64  \n",
      " 2   Delay_in_Minutes                        103320 non-null  float64\n",
      " 3   Inflight_wifi_service_1                 103320 non-null  uint8  \n",
      " 4   Inflight_wifi_service_2                 103320 non-null  uint8  \n",
      " 5   Inflight_wifi_service_3                 103320 non-null  uint8  \n",
      " 6   Inflight_wifi_service_4                 103320 non-null  uint8  \n",
      " 7   Inflight_wifi_service_5                 103320 non-null  uint8  \n",
      " 8   Departure_Or_Arrival_time_convenient_1  103320 non-null  uint8  \n",
      " 9   Departure_Or_Arrival_time_convenient_2  103320 non-null  uint8  \n",
      " 10  Departure_Or_Arrival_time_convenient_3  103320 non-null  uint8  \n",
      " 11  Departure_Or_Arrival_time_convenient_4  103320 non-null  uint8  \n",
      " 12  Departure_Or_Arrival_time_convenient_5  103320 non-null  uint8  \n",
      " 13  Ease_of_Online_booking_1                103320 non-null  uint8  \n",
      " 14  Ease_of_Online_booking_2                103320 non-null  uint8  \n",
      " 15  Ease_of_Online_booking_3                103320 non-null  uint8  \n",
      " 16  Ease_of_Online_booking_4                103320 non-null  uint8  \n",
      " 17  Ease_of_Online_booking_5                103320 non-null  uint8  \n",
      " 18  Gate_location_2                         103320 non-null  uint8  \n",
      " 19  Gate_location_3                         103320 non-null  uint8  \n",
      " 20  Gate_location_4                         103320 non-null  uint8  \n",
      " 21  Gate_location_5                         103320 non-null  uint8  \n",
      " 22  Food_and_drink_2                        103320 non-null  uint8  \n",
      " 23  Food_and_drink_3                        103320 non-null  uint8  \n",
      " 24  Food_and_drink_4                        103320 non-null  uint8  \n",
      " 25  Food_and_drink_5                        103320 non-null  uint8  \n",
      " 26  Online_boarding_1                       103320 non-null  uint8  \n",
      " 27  Online_boarding_2                       103320 non-null  uint8  \n",
      " 28  Online_boarding_3                       103320 non-null  uint8  \n",
      " 29  Online_boarding_4                       103320 non-null  uint8  \n",
      " 30  Online_boarding_5                       103320 non-null  uint8  \n",
      " 31  Seat_comfort_2                          103320 non-null  uint8  \n",
      " 32  Seat_comfort_3                          103320 non-null  uint8  \n",
      " 33  Seat_comfort_4                          103320 non-null  uint8  \n",
      " 34  Seat_comfort_5                          103320 non-null  uint8  \n",
      " 35  Inflight_entertainment_2                103320 non-null  uint8  \n",
      " 36  Inflight_entertainment_3                103320 non-null  uint8  \n",
      " 37  Inflight_entertainment_4                103320 non-null  uint8  \n",
      " 38  Inflight_entertainment_5                103320 non-null  uint8  \n",
      " 39  Onboard_service_2                       103320 non-null  uint8  \n",
      " 40  Onboard_service_3                       103320 non-null  uint8  \n",
      " 41  Onboard_service_4                       103320 non-null  uint8  \n",
      " 42  Onboard_service_5                       103320 non-null  uint8  \n",
      " 43  Leg_room_service_2                      103320 non-null  uint8  \n",
      " 44  Leg_room_service_3                      103320 non-null  uint8  \n",
      " 45  Leg_room_service_4                      103320 non-null  uint8  \n",
      " 46  Leg_room_service_5                      103320 non-null  uint8  \n",
      " 47  Baggage_handling_2                      103320 non-null  uint8  \n",
      " 48  Baggage_handling_3                      103320 non-null  uint8  \n",
      " 49  Baggage_handling_4                      103320 non-null  uint8  \n",
      " 50  Baggage_handling_5                      103320 non-null  uint8  \n",
      " 51  Checkin_service_2                       103320 non-null  uint8  \n",
      " 52  Checkin_service_3                       103320 non-null  uint8  \n",
      " 53  Checkin_service_4                       103320 non-null  uint8  \n",
      " 54  Checkin_service_5                       103320 non-null  uint8  \n",
      " 55  Inflight_service_2                      103320 non-null  uint8  \n",
      " 56  Inflight_service_3                      103320 non-null  uint8  \n",
      " 57  Inflight_service_4                      103320 non-null  uint8  \n",
      " 58  Inflight_service_5                      103320 non-null  uint8  \n",
      " 59  Cleanliness_2                           103320 non-null  uint8  \n",
      " 60  Cleanliness_3                           103320 non-null  uint8  \n",
      " 61  Cleanliness_4                           103320 non-null  uint8  \n",
      " 62  Cleanliness_5                           103320 non-null  uint8  \n",
      " 63  Customer_Type_disloyal_Customer         103320 non-null  uint8  \n",
      " 64  Type_of_Travel_Personal_Travel          103320 non-null  uint8  \n",
      " 65  Class_Eco                               103320 non-null  uint8  \n",
      " 66  Class_Eco_Plus                          103320 non-null  uint8  \n",
      " 67  satisfaction                            103320 non-null  int64  \n",
      "dtypes: float64(1), int64(3), uint8(64)\n",
      "memory usage: 9.5 MB\n",
      "None\n"
     ]
    }
   ],
   "source": [
    "data_for_lr.columns = [c.replace(' ', '_') for c in data_for_lr.columns]\n",
    "print(data_for_lr.info())\n",
    "features_for_lr=data_for_lr.columns.tolist()\n",
    "features_for_lr.remove('satisfaction')"
   ]
  },
  {
   "cell_type": "markdown",
   "metadata": {},
   "source": [
    "Początkowy wrapper do regresji logistycznej"
   ]
  },
  {
   "cell_type": "code",
   "execution_count": 6,
   "metadata": {},
   "outputs": [],
   "source": [
    "def CVTest(df,nFolds = 5, features = [], randomState=42, debug=False):\n",
    "    # Podzielenie zbioru na foldy\n",
    "    kf = KFold(n_splits = nFolds, shuffle=True, random_state=randomState)\n",
    "    # Stworzenie listy z wynikami\n",
    "    testResults = []\n",
    "    trainResults=[]\n",
    "    f_list = \"+\".join(features)\n",
    "    \n",
    "    # Pętla do estymacji i walidacji modeli na kolejnych foldach\n",
    "    for train, test in kf.split(df.index.values):\n",
    "        # Stworzenie modelu\n",
    "        mod = sm.GLM.from_formula(formula=target+\"~\"+f_list,\n",
    "                                  data=df.iloc[train], family=sm.families.Binomial())\n",
    "        # Estymacja\n",
    "        res = mod.fit()\n",
    "        # Zapisanie predykcji\n",
    "        predsTrain = res.predict()\n",
    "        preds = res.predict(df.iloc[test])\n",
    "        \n",
    "        # Zapisanie wyników ze zbioru walidacyjnego do listy\n",
    "        trainResults.append(roc_auc_score(df[target].iloc[train], predsTrain))\n",
    "        testResults.append(roc_auc_score(df[target].iloc[test], preds))\n",
    "        \n",
    "    # Dla debug wyświetlimy podsumowanie ostatniego foldu\n",
    "    if debug:\n",
    "        display(res.summary())\n",
    "    \n",
    "    # Zwracamy średnią z wyników    \n",
    "    return np.mean(trainResults), np.mean(testResults)\n"
   ]
  },
  {
   "cell_type": "code",
   "execution_count": 7,
   "metadata": {},
   "outputs": [
    {
     "data": {
      "text/html": [
       "<table class=\"simpletable\">\n",
       "<caption>Generalized Linear Model Regression Results</caption>\n",
       "<tr>\n",
       "  <th>Dep. Variable:</th>     <td>satisfaction</td>   <th>  No. Observations:  </th>  <td> 82656</td> \n",
       "</tr>\n",
       "<tr>\n",
       "  <th>Model:</th>                  <td>GLM</td>       <th>  Df Residuals:      </th>  <td> 82588</td> \n",
       "</tr>\n",
       "<tr>\n",
       "  <th>Model Family:</th>        <td>Binomial</td>     <th>  Df Model:          </th>  <td>    67</td> \n",
       "</tr>\n",
       "<tr>\n",
       "  <th>Link Function:</th>         <td>logit</td>      <th>  Scale:             </th> <td>  1.0000</td>\n",
       "</tr>\n",
       "<tr>\n",
       "  <th>Method:</th>                <td>IRLS</td>       <th>  Log-Likelihood:    </th> <td> -14727.</td>\n",
       "</tr>\n",
       "<tr>\n",
       "  <th>Date:</th>            <td>Tue, 08 Jun 2021</td> <th>  Deviance:          </th> <td>  29455.</td>\n",
       "</tr>\n",
       "<tr>\n",
       "  <th>Time:</th>                <td>09:44:53</td>     <th>  Pearson chi2:      </th> <td>4.22e+05</td>\n",
       "</tr>\n",
       "<tr>\n",
       "  <th>No. Iterations:</th>         <td>27</td>        <th>                     </th>     <td> </td>   \n",
       "</tr>\n",
       "<tr>\n",
       "  <th>Covariance Type:</th>     <td>nonrobust</td>    <th>                     </th>     <td> </td>   \n",
       "</tr>\n",
       "</table>\n",
       "<table class=\"simpletable\">\n",
       "<tr>\n",
       "                     <td></td>                       <th>coef</th>     <th>std err</th>      <th>z</th>      <th>P>|z|</th>  <th>[0.025</th>    <th>0.975]</th>  \n",
       "</tr>\n",
       "<tr>\n",
       "  <th>Intercept</th>                              <td>   31.2473</td> <td> 1.58e+04</td> <td>    0.002</td> <td> 0.998</td> <td> -3.1e+04</td> <td> 3.11e+04</td>\n",
       "</tr>\n",
       "<tr>\n",
       "  <th>Age</th>                                    <td>   -0.0025</td> <td>    0.001</td> <td>   -2.171</td> <td> 0.030</td> <td>   -0.005</td> <td>   -0.000</td>\n",
       "</tr>\n",
       "<tr>\n",
       "  <th>Flight_Distance</th>                        <td>  8.61e-07</td> <td> 1.72e-05</td> <td>    0.050</td> <td> 0.960</td> <td>-3.29e-05</td> <td> 3.46e-05</td>\n",
       "</tr>\n",
       "<tr>\n",
       "  <th>Delay_in_Minutes</th>                       <td>   -0.0019</td> <td>    0.000</td> <td>  -10.229</td> <td> 0.000</td> <td>   -0.002</td> <td>   -0.002</td>\n",
       "</tr>\n",
       "<tr>\n",
       "  <th>Inflight_wifi_service_1</th>                <td>  -33.3426</td> <td> 1.58e+04</td> <td>   -0.002</td> <td> 0.998</td> <td>-3.11e+04</td> <td>  3.1e+04</td>\n",
       "</tr>\n",
       "<tr>\n",
       "  <th>Inflight_wifi_service_2</th>                <td>  -33.5933</td> <td> 1.58e+04</td> <td>   -0.002</td> <td> 0.998</td> <td>-3.11e+04</td> <td>  3.1e+04</td>\n",
       "</tr>\n",
       "<tr>\n",
       "  <th>Inflight_wifi_service_3</th>                <td>  -33.6351</td> <td> 1.58e+04</td> <td>   -0.002</td> <td> 0.998</td> <td>-3.11e+04</td> <td>  3.1e+04</td>\n",
       "</tr>\n",
       "<tr>\n",
       "  <th>Inflight_wifi_service_4</th>                <td>  -32.0977</td> <td> 1.58e+04</td> <td>   -0.002</td> <td> 0.998</td> <td>-3.11e+04</td> <td>  3.1e+04</td>\n",
       "</tr>\n",
       "<tr>\n",
       "  <th>Inflight_wifi_service_5</th>                <td>  -26.4112</td> <td> 1.58e+04</td> <td>   -0.002</td> <td> 0.999</td> <td>-3.11e+04</td> <td>  3.1e+04</td>\n",
       "</tr>\n",
       "<tr>\n",
       "  <th>Departure_Or_Arrival_time_convenient_1</th> <td>    0.2820</td> <td>    0.104</td> <td>    2.699</td> <td> 0.007</td> <td>    0.077</td> <td>    0.487</td>\n",
       "</tr>\n",
       "<tr>\n",
       "  <th>Departure_Or_Arrival_time_convenient_2</th> <td>    0.4165</td> <td>    0.101</td> <td>    4.135</td> <td> 0.000</td> <td>    0.219</td> <td>    0.614</td>\n",
       "</tr>\n",
       "<tr>\n",
       "  <th>Departure_Or_Arrival_time_convenient_3</th> <td>    0.2060</td> <td>    0.097</td> <td>    2.125</td> <td> 0.034</td> <td>    0.016</td> <td>    0.396</td>\n",
       "</tr>\n",
       "<tr>\n",
       "  <th>Departure_Or_Arrival_time_convenient_4</th> <td>   -0.7184</td> <td>    0.087</td> <td>   -8.266</td> <td> 0.000</td> <td>   -0.889</td> <td>   -0.548</td>\n",
       "</tr>\n",
       "<tr>\n",
       "  <th>Departure_Or_Arrival_time_convenient_5</th> <td>   -1.0007</td> <td>    0.096</td> <td>  -10.478</td> <td> 0.000</td> <td>   -1.188</td> <td>   -0.813</td>\n",
       "</tr>\n",
       "<tr>\n",
       "  <th>Ease_of_Online_booking_1</th>               <td>    3.0336</td> <td>    0.957</td> <td>    3.170</td> <td> 0.002</td> <td>    1.158</td> <td>    4.909</td>\n",
       "</tr>\n",
       "<tr>\n",
       "  <th>Ease_of_Online_booking_2</th>               <td>    2.8792</td> <td>    0.957</td> <td>    3.009</td> <td> 0.003</td> <td>    1.004</td> <td>    4.755</td>\n",
       "</tr>\n",
       "<tr>\n",
       "  <th>Ease_of_Online_booking_3</th>               <td>    3.4127</td> <td>    0.957</td> <td>    3.567</td> <td> 0.000</td> <td>    1.538</td> <td>    5.288</td>\n",
       "</tr>\n",
       "<tr>\n",
       "  <th>Ease_of_Online_booking_4</th>               <td>    4.2467</td> <td>    0.956</td> <td>    4.440</td> <td> 0.000</td> <td>    2.372</td> <td>    6.121</td>\n",
       "</tr>\n",
       "<tr>\n",
       "  <th>Ease_of_Online_booking_5</th>               <td>    3.6617</td> <td>    0.957</td> <td>    3.827</td> <td> 0.000</td> <td>    1.786</td> <td>    5.537</td>\n",
       "</tr>\n",
       "<tr>\n",
       "  <th>Gate_location_2</th>                        <td>    0.1169</td> <td>    0.069</td> <td>    1.704</td> <td> 0.088</td> <td>   -0.018</td> <td>    0.251</td>\n",
       "</tr>\n",
       "<tr>\n",
       "  <th>Gate_location_3</th>                        <td>   -0.0873</td> <td>    0.063</td> <td>   -1.377</td> <td> 0.168</td> <td>   -0.211</td> <td>    0.037</td>\n",
       "</tr>\n",
       "<tr>\n",
       "  <th>Gate_location_4</th>                        <td>   -0.2819</td> <td>    0.065</td> <td>   -4.321</td> <td> 0.000</td> <td>   -0.410</td> <td>   -0.154</td>\n",
       "</tr>\n",
       "<tr>\n",
       "  <th>Gate_location_5</th>                        <td>   -0.4561</td> <td>    0.084</td> <td>   -5.423</td> <td> 0.000</td> <td>   -0.621</td> <td>   -0.291</td>\n",
       "</tr>\n",
       "<tr>\n",
       "  <th>Food_and_drink_2</th>                       <td>    0.2587</td> <td>    0.076</td> <td>    3.411</td> <td> 0.001</td> <td>    0.110</td> <td>    0.407</td>\n",
       "</tr>\n",
       "<tr>\n",
       "  <th>Food_and_drink_3</th>                       <td>    0.1307</td> <td>    0.075</td> <td>    1.739</td> <td> 0.082</td> <td>   -0.017</td> <td>    0.278</td>\n",
       "</tr>\n",
       "<tr>\n",
       "  <th>Food_and_drink_4</th>                       <td>    0.1367</td> <td>    0.075</td> <td>    1.828</td> <td> 0.068</td> <td>   -0.010</td> <td>    0.283</td>\n",
       "</tr>\n",
       "<tr>\n",
       "  <th>Food_and_drink_5</th>                       <td>    0.0261</td> <td>    0.077</td> <td>    0.338</td> <td> 0.735</td> <td>   -0.125</td> <td>    0.177</td>\n",
       "</tr>\n",
       "<tr>\n",
       "  <th>Online_boarding_1</th>                      <td>   -3.5092</td> <td>    0.959</td> <td>   -3.657</td> <td> 0.000</td> <td>   -5.390</td> <td>   -1.629</td>\n",
       "</tr>\n",
       "<tr>\n",
       "  <th>Online_boarding_2</th>                      <td>   -3.4244</td> <td>    0.959</td> <td>   -3.570</td> <td> 0.000</td> <td>   -5.304</td> <td>   -1.544</td>\n",
       "</tr>\n",
       "<tr>\n",
       "  <th>Online_boarding_3</th>                      <td>   -3.6435</td> <td>    0.959</td> <td>   -3.800</td> <td> 0.000</td> <td>   -5.523</td> <td>   -1.764</td>\n",
       "</tr>\n",
       "<tr>\n",
       "  <th>Online_boarding_4</th>                      <td>   -1.9911</td> <td>    0.958</td> <td>   -2.077</td> <td> 0.038</td> <td>   -3.870</td> <td>   -0.113</td>\n",
       "</tr>\n",
       "<tr>\n",
       "  <th>Online_boarding_5</th>                      <td>   -0.7649</td> <td>    0.959</td> <td>   -0.798</td> <td> 0.425</td> <td>   -2.644</td> <td>    1.114</td>\n",
       "</tr>\n",
       "<tr>\n",
       "  <th>Seat_comfort_2</th>                         <td>   -0.5426</td> <td>    0.081</td> <td>   -6.740</td> <td> 0.000</td> <td>   -0.700</td> <td>   -0.385</td>\n",
       "</tr>\n",
       "<tr>\n",
       "  <th>Seat_comfort_3</th>                         <td>   -1.5933</td> <td>    0.075</td> <td>  -21.260</td> <td> 0.000</td> <td>   -1.740</td> <td>   -1.446</td>\n",
       "</tr>\n",
       "<tr>\n",
       "  <th>Seat_comfort_4</th>                         <td>   -0.8798</td> <td>    0.074</td> <td>  -11.836</td> <td> 0.000</td> <td>   -1.025</td> <td>   -0.734</td>\n",
       "</tr>\n",
       "<tr>\n",
       "  <th>Seat_comfort_5</th>                         <td>   -0.0286</td> <td>    0.080</td> <td>   -0.357</td> <td> 0.721</td> <td>   -0.186</td> <td>    0.128</td>\n",
       "</tr>\n",
       "<tr>\n",
       "  <th>Inflight_entertainment_2</th>               <td>    0.6687</td> <td>    0.110</td> <td>    6.106</td> <td> 0.000</td> <td>    0.454</td> <td>    0.883</td>\n",
       "</tr>\n",
       "<tr>\n",
       "  <th>Inflight_entertainment_3</th>               <td>    1.4963</td> <td>    0.101</td> <td>   14.764</td> <td> 0.000</td> <td>    1.298</td> <td>    1.695</td>\n",
       "</tr>\n",
       "<tr>\n",
       "  <th>Inflight_entertainment_4</th>               <td>    1.2121</td> <td>    0.095</td> <td>   12.695</td> <td> 0.000</td> <td>    1.025</td> <td>    1.399</td>\n",
       "</tr>\n",
       "<tr>\n",
       "  <th>Inflight_entertainment_5</th>               <td>    0.3936</td> <td>    0.107</td> <td>    3.686</td> <td> 0.000</td> <td>    0.184</td> <td>    0.603</td>\n",
       "</tr>\n",
       "<tr>\n",
       "  <th>Onboard_service_2</th>                      <td>    0.1763</td> <td>    0.074</td> <td>    2.388</td> <td> 0.017</td> <td>    0.032</td> <td>    0.321</td>\n",
       "</tr>\n",
       "<tr>\n",
       "  <th>Onboard_service_3</th>                      <td>    0.6714</td> <td>    0.066</td> <td>   10.105</td> <td> 0.000</td> <td>    0.541</td> <td>    0.802</td>\n",
       "</tr>\n",
       "<tr>\n",
       "  <th>Onboard_service_4</th>                      <td>    0.7688</td> <td>    0.066</td> <td>   11.570</td> <td> 0.000</td> <td>    0.639</td> <td>    0.899</td>\n",
       "</tr>\n",
       "<tr>\n",
       "  <th>Onboard_service_5</th>                      <td>    1.3242</td> <td>    0.073</td> <td>   18.097</td> <td> 0.000</td> <td>    1.181</td> <td>    1.468</td>\n",
       "</tr>\n",
       "<tr>\n",
       "  <th>Leg_room_service_2</th>                     <td>    0.3309</td> <td>    0.068</td> <td>    4.901</td> <td> 0.000</td> <td>    0.199</td> <td>    0.463</td>\n",
       "</tr>\n",
       "<tr>\n",
       "  <th>Leg_room_service_3</th>                     <td>    0.2232</td> <td>    0.068</td> <td>    3.293</td> <td> 0.001</td> <td>    0.090</td> <td>    0.356</td>\n",
       "</tr>\n",
       "<tr>\n",
       "  <th>Leg_room_service_4</th>                     <td>    0.8870</td> <td>    0.065</td> <td>   13.546</td> <td> 0.000</td> <td>    0.759</td> <td>    1.015</td>\n",
       "</tr>\n",
       "<tr>\n",
       "  <th>Leg_room_service_5</th>                     <td>    1.0316</td> <td>    0.068</td> <td>   15.148</td> <td> 0.000</td> <td>    0.898</td> <td>    1.165</td>\n",
       "</tr>\n",
       "<tr>\n",
       "  <th>Baggage_handling_2</th>                     <td>   -0.1647</td> <td>    0.085</td> <td>   -1.930</td> <td> 0.054</td> <td>   -0.332</td> <td>    0.003</td>\n",
       "</tr>\n",
       "<tr>\n",
       "  <th>Baggage_handling_3</th>                     <td>   -0.8428</td> <td>    0.080</td> <td>  -10.557</td> <td> 0.000</td> <td>   -0.999</td> <td>   -0.686</td>\n",
       "</tr>\n",
       "<tr>\n",
       "  <th>Baggage_handling_4</th>                     <td>   -0.2135</td> <td>    0.077</td> <td>   -2.758</td> <td> 0.006</td> <td>   -0.365</td> <td>   -0.062</td>\n",
       "</tr>\n",
       "<tr>\n",
       "  <th>Baggage_handling_5</th>                     <td>    0.5716</td> <td>    0.082</td> <td>    6.937</td> <td> 0.000</td> <td>    0.410</td> <td>    0.733</td>\n",
       "</tr>\n",
       "<tr>\n",
       "  <th>Checkin_service_2</th>                      <td>    0.1437</td> <td>    0.059</td> <td>    2.433</td> <td> 0.015</td> <td>    0.028</td> <td>    0.259</td>\n",
       "</tr>\n",
       "<tr>\n",
       "  <th>Checkin_service_3</th>                      <td>    0.6811</td> <td>    0.053</td> <td>   12.887</td> <td> 0.000</td> <td>    0.578</td> <td>    0.785</td>\n",
       "</tr>\n",
       "<tr>\n",
       "  <th>Checkin_service_4</th>                      <td>    0.6584</td> <td>    0.053</td> <td>   12.513</td> <td> 0.000</td> <td>    0.555</td> <td>    0.761</td>\n",
       "</tr>\n",
       "<tr>\n",
       "  <th>Checkin_service_5</th>                      <td>    1.4085</td> <td>    0.061</td> <td>   23.110</td> <td> 0.000</td> <td>    1.289</td> <td>    1.528</td>\n",
       "</tr>\n",
       "<tr>\n",
       "  <th>Inflight_service_2</th>                     <td>   -0.2462</td> <td>    0.090</td> <td>   -2.721</td> <td> 0.007</td> <td>   -0.424</td> <td>   -0.069</td>\n",
       "</tr>\n",
       "<tr>\n",
       "  <th>Inflight_service_3</th>                     <td>   -0.8795</td> <td>    0.084</td> <td>  -10.510</td> <td> 0.000</td> <td>   -1.043</td> <td>   -0.715</td>\n",
       "</tr>\n",
       "<tr>\n",
       "  <th>Inflight_service_4</th>                     <td>   -0.2044</td> <td>    0.080</td> <td>   -2.539</td> <td> 0.011</td> <td>   -0.362</td> <td>   -0.047</td>\n",
       "</tr>\n",
       "<tr>\n",
       "  <th>Inflight_service_5</th>                     <td>    0.4944</td> <td>    0.086</td> <td>    5.748</td> <td> 0.000</td> <td>    0.326</td> <td>    0.663</td>\n",
       "</tr>\n",
       "<tr>\n",
       "  <th>Cleanliness_2</th>                          <td>    0.0929</td> <td>    0.079</td> <td>    1.179</td> <td> 0.238</td> <td>   -0.062</td> <td>    0.247</td>\n",
       "</tr>\n",
       "<tr>\n",
       "  <th>Cleanliness_3</th>                          <td>    0.5961</td> <td>    0.072</td> <td>    8.286</td> <td> 0.000</td> <td>    0.455</td> <td>    0.737</td>\n",
       "</tr>\n",
       "<tr>\n",
       "  <th>Cleanliness_4</th>                          <td>    0.4577</td> <td>    0.072</td> <td>    6.378</td> <td> 0.000</td> <td>    0.317</td> <td>    0.598</td>\n",
       "</tr>\n",
       "<tr>\n",
       "  <th>Cleanliness_5</th>                          <td>    1.0587</td> <td>    0.084</td> <td>   12.582</td> <td> 0.000</td> <td>    0.894</td> <td>    1.224</td>\n",
       "</tr>\n",
       "<tr>\n",
       "  <th>Customer_Type_disloyal_Customer</th>        <td>   -3.3793</td> <td>    0.055</td> <td>  -61.015</td> <td> 0.000</td> <td>   -3.488</td> <td>   -3.271</td>\n",
       "</tr>\n",
       "<tr>\n",
       "  <th>Type_of_Travel_Personal_Travel</th>         <td>   -4.2909</td> <td>    0.062</td> <td>  -69.530</td> <td> 0.000</td> <td>   -4.412</td> <td>   -4.170</td>\n",
       "</tr>\n",
       "<tr>\n",
       "  <th>Class_Eco</th>                              <td>   -0.6251</td> <td>    0.042</td> <td>  -15.023</td> <td> 0.000</td> <td>   -0.707</td> <td>   -0.544</td>\n",
       "</tr>\n",
       "<tr>\n",
       "  <th>Class_Eco_Plus</th>                         <td>   -0.8504</td> <td>    0.068</td> <td>  -12.593</td> <td> 0.000</td> <td>   -0.983</td> <td>   -0.718</td>\n",
       "</tr>\n",
       "</table>"
      ],
      "text/plain": [
       "<class 'statsmodels.iolib.summary.Summary'>\n",
       "\"\"\"\n",
       "                 Generalized Linear Model Regression Results                  \n",
       "==============================================================================\n",
       "Dep. Variable:           satisfaction   No. Observations:                82656\n",
       "Model:                            GLM   Df Residuals:                    82588\n",
       "Model Family:                Binomial   Df Model:                           67\n",
       "Link Function:                  logit   Scale:                          1.0000\n",
       "Method:                          IRLS   Log-Likelihood:                -14727.\n",
       "Date:                Tue, 08 Jun 2021   Deviance:                       29455.\n",
       "Time:                        09:44:53   Pearson chi2:                 4.22e+05\n",
       "No. Iterations:                    27                                         \n",
       "Covariance Type:            nonrobust                                         \n",
       "==========================================================================================================\n",
       "                                             coef    std err          z      P>|z|      [0.025      0.975]\n",
       "----------------------------------------------------------------------------------------------------------\n",
       "Intercept                                 31.2473   1.58e+04      0.002      0.998    -3.1e+04    3.11e+04\n",
       "Age                                       -0.0025      0.001     -2.171      0.030      -0.005      -0.000\n",
       "Flight_Distance                          8.61e-07   1.72e-05      0.050      0.960   -3.29e-05    3.46e-05\n",
       "Delay_in_Minutes                          -0.0019      0.000    -10.229      0.000      -0.002      -0.002\n",
       "Inflight_wifi_service_1                  -33.3426   1.58e+04     -0.002      0.998   -3.11e+04     3.1e+04\n",
       "Inflight_wifi_service_2                  -33.5933   1.58e+04     -0.002      0.998   -3.11e+04     3.1e+04\n",
       "Inflight_wifi_service_3                  -33.6351   1.58e+04     -0.002      0.998   -3.11e+04     3.1e+04\n",
       "Inflight_wifi_service_4                  -32.0977   1.58e+04     -0.002      0.998   -3.11e+04     3.1e+04\n",
       "Inflight_wifi_service_5                  -26.4112   1.58e+04     -0.002      0.999   -3.11e+04     3.1e+04\n",
       "Departure_Or_Arrival_time_convenient_1     0.2820      0.104      2.699      0.007       0.077       0.487\n",
       "Departure_Or_Arrival_time_convenient_2     0.4165      0.101      4.135      0.000       0.219       0.614\n",
       "Departure_Or_Arrival_time_convenient_3     0.2060      0.097      2.125      0.034       0.016       0.396\n",
       "Departure_Or_Arrival_time_convenient_4    -0.7184      0.087     -8.266      0.000      -0.889      -0.548\n",
       "Departure_Or_Arrival_time_convenient_5    -1.0007      0.096    -10.478      0.000      -1.188      -0.813\n",
       "Ease_of_Online_booking_1                   3.0336      0.957      3.170      0.002       1.158       4.909\n",
       "Ease_of_Online_booking_2                   2.8792      0.957      3.009      0.003       1.004       4.755\n",
       "Ease_of_Online_booking_3                   3.4127      0.957      3.567      0.000       1.538       5.288\n",
       "Ease_of_Online_booking_4                   4.2467      0.956      4.440      0.000       2.372       6.121\n",
       "Ease_of_Online_booking_5                   3.6617      0.957      3.827      0.000       1.786       5.537\n",
       "Gate_location_2                            0.1169      0.069      1.704      0.088      -0.018       0.251\n",
       "Gate_location_3                           -0.0873      0.063     -1.377      0.168      -0.211       0.037\n",
       "Gate_location_4                           -0.2819      0.065     -4.321      0.000      -0.410      -0.154\n",
       "Gate_location_5                           -0.4561      0.084     -5.423      0.000      -0.621      -0.291\n",
       "Food_and_drink_2                           0.2587      0.076      3.411      0.001       0.110       0.407\n",
       "Food_and_drink_3                           0.1307      0.075      1.739      0.082      -0.017       0.278\n",
       "Food_and_drink_4                           0.1367      0.075      1.828      0.068      -0.010       0.283\n",
       "Food_and_drink_5                           0.0261      0.077      0.338      0.735      -0.125       0.177\n",
       "Online_boarding_1                         -3.5092      0.959     -3.657      0.000      -5.390      -1.629\n",
       "Online_boarding_2                         -3.4244      0.959     -3.570      0.000      -5.304      -1.544\n",
       "Online_boarding_3                         -3.6435      0.959     -3.800      0.000      -5.523      -1.764\n",
       "Online_boarding_4                         -1.9911      0.958     -2.077      0.038      -3.870      -0.113\n",
       "Online_boarding_5                         -0.7649      0.959     -0.798      0.425      -2.644       1.114\n",
       "Seat_comfort_2                            -0.5426      0.081     -6.740      0.000      -0.700      -0.385\n",
       "Seat_comfort_3                            -1.5933      0.075    -21.260      0.000      -1.740      -1.446\n",
       "Seat_comfort_4                            -0.8798      0.074    -11.836      0.000      -1.025      -0.734\n",
       "Seat_comfort_5                            -0.0286      0.080     -0.357      0.721      -0.186       0.128\n",
       "Inflight_entertainment_2                   0.6687      0.110      6.106      0.000       0.454       0.883\n",
       "Inflight_entertainment_3                   1.4963      0.101     14.764      0.000       1.298       1.695\n",
       "Inflight_entertainment_4                   1.2121      0.095     12.695      0.000       1.025       1.399\n",
       "Inflight_entertainment_5                   0.3936      0.107      3.686      0.000       0.184       0.603\n",
       "Onboard_service_2                          0.1763      0.074      2.388      0.017       0.032       0.321\n",
       "Onboard_service_3                          0.6714      0.066     10.105      0.000       0.541       0.802\n",
       "Onboard_service_4                          0.7688      0.066     11.570      0.000       0.639       0.899\n",
       "Onboard_service_5                          1.3242      0.073     18.097      0.000       1.181       1.468\n",
       "Leg_room_service_2                         0.3309      0.068      4.901      0.000       0.199       0.463\n",
       "Leg_room_service_3                         0.2232      0.068      3.293      0.001       0.090       0.356\n",
       "Leg_room_service_4                         0.8870      0.065     13.546      0.000       0.759       1.015\n",
       "Leg_room_service_5                         1.0316      0.068     15.148      0.000       0.898       1.165\n",
       "Baggage_handling_2                        -0.1647      0.085     -1.930      0.054      -0.332       0.003\n",
       "Baggage_handling_3                        -0.8428      0.080    -10.557      0.000      -0.999      -0.686\n",
       "Baggage_handling_4                        -0.2135      0.077     -2.758      0.006      -0.365      -0.062\n",
       "Baggage_handling_5                         0.5716      0.082      6.937      0.000       0.410       0.733\n",
       "Checkin_service_2                          0.1437      0.059      2.433      0.015       0.028       0.259\n",
       "Checkin_service_3                          0.6811      0.053     12.887      0.000       0.578       0.785\n",
       "Checkin_service_4                          0.6584      0.053     12.513      0.000       0.555       0.761\n",
       "Checkin_service_5                          1.4085      0.061     23.110      0.000       1.289       1.528\n",
       "Inflight_service_2                        -0.2462      0.090     -2.721      0.007      -0.424      -0.069\n",
       "Inflight_service_3                        -0.8795      0.084    -10.510      0.000      -1.043      -0.715\n",
       "Inflight_service_4                        -0.2044      0.080     -2.539      0.011      -0.362      -0.047\n",
       "Inflight_service_5                         0.4944      0.086      5.748      0.000       0.326       0.663\n",
       "Cleanliness_2                              0.0929      0.079      1.179      0.238      -0.062       0.247\n",
       "Cleanliness_3                              0.5961      0.072      8.286      0.000       0.455       0.737\n",
       "Cleanliness_4                              0.4577      0.072      6.378      0.000       0.317       0.598\n",
       "Cleanliness_5                              1.0587      0.084     12.582      0.000       0.894       1.224\n",
       "Customer_Type_disloyal_Customer           -3.3793      0.055    -61.015      0.000      -3.488      -3.271\n",
       "Type_of_Travel_Personal_Travel            -4.2909      0.062    -69.530      0.000      -4.412      -4.170\n",
       "Class_Eco                                 -0.6251      0.042    -15.023      0.000      -0.707      -0.544\n",
       "Class_Eco_Plus                            -0.8504      0.068    -12.593      0.000      -0.983      -0.718\n",
       "==========================================================================================================\n",
       "\"\"\""
      ]
     },
     "metadata": {},
     "output_type": "display_data"
    },
    {
     "data": {
      "text/plain": [
       "(0.9792731844180664, 0.9790675322015984)"
      ]
     },
     "execution_count": 7,
     "metadata": {},
     "output_type": "execute_result"
    }
   ],
   "source": [
    "CVTest(df=data_for_lr,features=features_for_lr,debug=True)"
   ]
  },
  {
   "cell_type": "markdown",
   "metadata": {},
   "source": [
    "Otrzymaliśmy wynik 0.97906 na zbiorze testowym co jest bardzo dobrym wynikiem, jednakże można zauważyć, że kilka zmiennych wyszło nieistotnych statystycznie. Na przykład wszystkie poziomy inflight_wifi_service są nieistotne. Przetestujmy ich łączną nieistotność za pomocą statystyki LR"
   ]
  },
  {
   "cell_type": "code",
   "execution_count": 8,
   "metadata": {},
   "outputs": [
    {
     "data": {
      "text/html": [
       "<table class=\"simpletable\">\n",
       "<caption>Generalized Linear Model Regression Results</caption>\n",
       "<tr>\n",
       "  <th>Dep. Variable:</th>     <td>satisfaction</td>   <th>  No. Observations:  </th>  <td> 82656</td> \n",
       "</tr>\n",
       "<tr>\n",
       "  <th>Model:</th>                  <td>GLM</td>       <th>  Df Residuals:      </th>  <td> 82593</td> \n",
       "</tr>\n",
       "<tr>\n",
       "  <th>Model Family:</th>        <td>Binomial</td>     <th>  Df Model:          </th>  <td>    62</td> \n",
       "</tr>\n",
       "<tr>\n",
       "  <th>Link Function:</th>         <td>logit</td>      <th>  Scale:             </th> <td>  1.0000</td>\n",
       "</tr>\n",
       "<tr>\n",
       "  <th>Method:</th>                <td>IRLS</td>       <th>  Log-Likelihood:    </th> <td> -19535.</td>\n",
       "</tr>\n",
       "<tr>\n",
       "  <th>Date:</th>            <td>Tue, 08 Jun 2021</td> <th>  Deviance:          </th> <td>  39071.</td>\n",
       "</tr>\n",
       "<tr>\n",
       "  <th>Time:</th>                <td>09:45:00</td>     <th>  Pearson chi2:      </th> <td>1.28e+05</td>\n",
       "</tr>\n",
       "<tr>\n",
       "  <th>No. Iterations:</th>          <td>7</td>        <th>                     </th>     <td> </td>   \n",
       "</tr>\n",
       "<tr>\n",
       "  <th>Covariance Type:</th>     <td>nonrobust</td>    <th>                     </th>     <td> </td>   \n",
       "</tr>\n",
       "</table>\n",
       "<table class=\"simpletable\">\n",
       "<tr>\n",
       "                     <td></td>                       <th>coef</th>     <th>std err</th>      <th>z</th>      <th>P>|z|</th>  <th>[0.025</th>    <th>0.975]</th>  \n",
       "</tr>\n",
       "<tr>\n",
       "  <th>Intercept</th>                              <td>    2.1981</td> <td>    0.130</td> <td>   16.938</td> <td> 0.000</td> <td>    1.944</td> <td>    2.452</td>\n",
       "</tr>\n",
       "<tr>\n",
       "  <th>Age</th>                                    <td>   -0.0061</td> <td>    0.001</td> <td>   -6.383</td> <td> 0.000</td> <td>   -0.008</td> <td>   -0.004</td>\n",
       "</tr>\n",
       "<tr>\n",
       "  <th>Flight_Distance</th>                        <td> 2.147e-05</td> <td> 1.53e-05</td> <td>    1.401</td> <td> 0.161</td> <td>-8.58e-06</td> <td> 5.15e-05</td>\n",
       "</tr>\n",
       "<tr>\n",
       "  <th>Delay_in_Minutes</th>                       <td>   -0.0021</td> <td>    0.000</td> <td>  -12.806</td> <td> 0.000</td> <td>   -0.002</td> <td>   -0.002</td>\n",
       "</tr>\n",
       "<tr>\n",
       "  <th>Departure_Or_Arrival_time_convenient_1</th> <td>    0.3019</td> <td>    0.082</td> <td>    3.669</td> <td> 0.000</td> <td>    0.141</td> <td>    0.463</td>\n",
       "</tr>\n",
       "<tr>\n",
       "  <th>Departure_Or_Arrival_time_convenient_2</th> <td>    0.4946</td> <td>    0.080</td> <td>    6.185</td> <td> 0.000</td> <td>    0.338</td> <td>    0.651</td>\n",
       "</tr>\n",
       "<tr>\n",
       "  <th>Departure_Or_Arrival_time_convenient_3</th> <td>    0.2834</td> <td>    0.076</td> <td>    3.710</td> <td> 0.000</td> <td>    0.134</td> <td>    0.433</td>\n",
       "</tr>\n",
       "<tr>\n",
       "  <th>Departure_Or_Arrival_time_convenient_4</th> <td>   -0.5083</td> <td>    0.068</td> <td>   -7.490</td> <td> 0.000</td> <td>   -0.641</td> <td>   -0.375</td>\n",
       "</tr>\n",
       "<tr>\n",
       "  <th>Departure_Or_Arrival_time_convenient_5</th> <td>   -0.6999</td> <td>    0.072</td> <td>   -9.722</td> <td> 0.000</td> <td>   -0.841</td> <td>   -0.559</td>\n",
       "</tr>\n",
       "<tr>\n",
       "  <th>Ease_of_Online_booking_1</th>               <td>   -3.3606</td> <td>    0.148</td> <td>  -22.743</td> <td> 0.000</td> <td>   -3.650</td> <td>   -3.071</td>\n",
       "</tr>\n",
       "<tr>\n",
       "  <th>Ease_of_Online_booking_2</th>               <td>   -3.8263</td> <td>    0.147</td> <td>  -26.085</td> <td> 0.000</td> <td>   -4.114</td> <td>   -3.539</td>\n",
       "</tr>\n",
       "<tr>\n",
       "  <th>Ease_of_Online_booking_3</th>               <td>   -3.4040</td> <td>    0.144</td> <td>  -23.620</td> <td> 0.000</td> <td>   -3.687</td> <td>   -3.122</td>\n",
       "</tr>\n",
       "<tr>\n",
       "  <th>Ease_of_Online_booking_4</th>               <td>   -2.0588</td> <td>    0.142</td> <td>  -14.508</td> <td> 0.000</td> <td>   -2.337</td> <td>   -1.781</td>\n",
       "</tr>\n",
       "<tr>\n",
       "  <th>Ease_of_Online_booking_5</th>               <td>   -1.2573</td> <td>    0.143</td> <td>   -8.773</td> <td> 0.000</td> <td>   -1.538</td> <td>   -0.976</td>\n",
       "</tr>\n",
       "<tr>\n",
       "  <th>Gate_location_2</th>                        <td>    0.1604</td> <td>    0.056</td> <td>    2.855</td> <td> 0.004</td> <td>    0.050</td> <td>    0.271</td>\n",
       "</tr>\n",
       "<tr>\n",
       "  <th>Gate_location_3</th>                        <td>    0.0152</td> <td>    0.052</td> <td>    0.294</td> <td> 0.769</td> <td>   -0.086</td> <td>    0.117</td>\n",
       "</tr>\n",
       "<tr>\n",
       "  <th>Gate_location_4</th>                        <td>   -0.1409</td> <td>    0.053</td> <td>   -2.668</td> <td> 0.008</td> <td>   -0.244</td> <td>   -0.037</td>\n",
       "</tr>\n",
       "<tr>\n",
       "  <th>Gate_location_5</th>                        <td>   -0.5604</td> <td>    0.065</td> <td>   -8.635</td> <td> 0.000</td> <td>   -0.688</td> <td>   -0.433</td>\n",
       "</tr>\n",
       "<tr>\n",
       "  <th>Food_and_drink_2</th>                       <td>    0.2088</td> <td>    0.066</td> <td>    3.145</td> <td> 0.002</td> <td>    0.079</td> <td>    0.339</td>\n",
       "</tr>\n",
       "<tr>\n",
       "  <th>Food_and_drink_3</th>                       <td>    0.0864</td> <td>    0.066</td> <td>    1.315</td> <td> 0.189</td> <td>   -0.042</td> <td>    0.215</td>\n",
       "</tr>\n",
       "<tr>\n",
       "  <th>Food_and_drink_4</th>                       <td>    0.1083</td> <td>    0.066</td> <td>    1.653</td> <td> 0.098</td> <td>   -0.020</td> <td>    0.237</td>\n",
       "</tr>\n",
       "<tr>\n",
       "  <th>Food_and_drink_5</th>                       <td>    0.0561</td> <td>    0.067</td> <td>    0.831</td> <td> 0.406</td> <td>   -0.076</td> <td>    0.188</td>\n",
       "</tr>\n",
       "<tr>\n",
       "  <th>Online_boarding_1</th>                      <td>   -1.0311</td> <td>    0.151</td> <td>   -6.809</td> <td> 0.000</td> <td>   -1.328</td> <td>   -0.734</td>\n",
       "</tr>\n",
       "<tr>\n",
       "  <th>Online_boarding_2</th>                      <td>   -1.1072</td> <td>    0.152</td> <td>   -7.292</td> <td> 0.000</td> <td>   -1.405</td> <td>   -0.810</td>\n",
       "</tr>\n",
       "<tr>\n",
       "  <th>Online_boarding_3</th>                      <td>   -1.1453</td> <td>    0.150</td> <td>   -7.637</td> <td> 0.000</td> <td>   -1.439</td> <td>   -0.851</td>\n",
       "</tr>\n",
       "<tr>\n",
       "  <th>Online_boarding_4</th>                      <td>    0.8131</td> <td>    0.149</td> <td>    5.442</td> <td> 0.000</td> <td>    0.520</td> <td>    1.106</td>\n",
       "</tr>\n",
       "<tr>\n",
       "  <th>Online_boarding_5</th>                      <td>    2.5697</td> <td>    0.152</td> <td>   16.905</td> <td> 0.000</td> <td>    2.272</td> <td>    2.868</td>\n",
       "</tr>\n",
       "<tr>\n",
       "  <th>Seat_comfort_2</th>                         <td>   -0.4858</td> <td>    0.068</td> <td>   -7.093</td> <td> 0.000</td> <td>   -0.620</td> <td>   -0.352</td>\n",
       "</tr>\n",
       "<tr>\n",
       "  <th>Seat_comfort_3</th>                         <td>   -1.5080</td> <td>    0.064</td> <td>  -23.611</td> <td> 0.000</td> <td>   -1.633</td> <td>   -1.383</td>\n",
       "</tr>\n",
       "<tr>\n",
       "  <th>Seat_comfort_4</th>                         <td>   -0.9001</td> <td>    0.063</td> <td>  -14.245</td> <td> 0.000</td> <td>   -1.024</td> <td>   -0.776</td>\n",
       "</tr>\n",
       "<tr>\n",
       "  <th>Seat_comfort_5</th>                         <td>   -0.2297</td> <td>    0.068</td> <td>   -3.384</td> <td> 0.001</td> <td>   -0.363</td> <td>   -0.097</td>\n",
       "</tr>\n",
       "<tr>\n",
       "  <th>Inflight_entertainment_2</th>               <td>    0.4855</td> <td>    0.092</td> <td>    5.257</td> <td> 0.000</td> <td>    0.304</td> <td>    0.666</td>\n",
       "</tr>\n",
       "<tr>\n",
       "  <th>Inflight_entertainment_3</th>               <td>    1.3214</td> <td>    0.085</td> <td>   15.455</td> <td> 0.000</td> <td>    1.154</td> <td>    1.489</td>\n",
       "</tr>\n",
       "<tr>\n",
       "  <th>Inflight_entertainment_4</th>               <td>    1.4551</td> <td>    0.081</td> <td>   18.049</td> <td> 0.000</td> <td>    1.297</td> <td>    1.613</td>\n",
       "</tr>\n",
       "<tr>\n",
       "  <th>Inflight_entertainment_5</th>               <td>    0.7583</td> <td>    0.089</td> <td>    8.501</td> <td> 0.000</td> <td>    0.583</td> <td>    0.933</td>\n",
       "</tr>\n",
       "<tr>\n",
       "  <th>Onboard_service_2</th>                      <td>    0.1559</td> <td>    0.061</td> <td>    2.556</td> <td> 0.011</td> <td>    0.036</td> <td>    0.275</td>\n",
       "</tr>\n",
       "<tr>\n",
       "  <th>Onboard_service_3</th>                      <td>    0.5741</td> <td>    0.055</td> <td>   10.428</td> <td> 0.000</td> <td>    0.466</td> <td>    0.682</td>\n",
       "</tr>\n",
       "<tr>\n",
       "  <th>Onboard_service_4</th>                      <td>    0.7002</td> <td>    0.055</td> <td>   12.701</td> <td> 0.000</td> <td>    0.592</td> <td>    0.808</td>\n",
       "</tr>\n",
       "<tr>\n",
       "  <th>Onboard_service_5</th>                      <td>    1.1639</td> <td>    0.061</td> <td>   19.182</td> <td> 0.000</td> <td>    1.045</td> <td>    1.283</td>\n",
       "</tr>\n",
       "<tr>\n",
       "  <th>Leg_room_service_2</th>                     <td>    0.3026</td> <td>    0.055</td> <td>    5.491</td> <td> 0.000</td> <td>    0.195</td> <td>    0.411</td>\n",
       "</tr>\n",
       "<tr>\n",
       "  <th>Leg_room_service_3</th>                     <td>    0.1689</td> <td>    0.055</td> <td>    3.055</td> <td> 0.002</td> <td>    0.061</td> <td>    0.277</td>\n",
       "</tr>\n",
       "<tr>\n",
       "  <th>Leg_room_service_4</th>                     <td>    0.9556</td> <td>    0.054</td> <td>   17.741</td> <td> 0.000</td> <td>    0.850</td> <td>    1.061</td>\n",
       "</tr>\n",
       "<tr>\n",
       "  <th>Leg_room_service_5</th>                     <td>    1.1278</td> <td>    0.056</td> <td>   20.199</td> <td> 0.000</td> <td>    1.018</td> <td>    1.237</td>\n",
       "</tr>\n",
       "<tr>\n",
       "  <th>Baggage_handling_2</th>                     <td>   -0.2271</td> <td>    0.071</td> <td>   -3.199</td> <td> 0.001</td> <td>   -0.366</td> <td>   -0.088</td>\n",
       "</tr>\n",
       "<tr>\n",
       "  <th>Baggage_handling_3</th>                     <td>   -0.7540</td> <td>    0.066</td> <td>  -11.405</td> <td> 0.000</td> <td>   -0.884</td> <td>   -0.624</td>\n",
       "</tr>\n",
       "<tr>\n",
       "  <th>Baggage_handling_4</th>                     <td>   -0.1106</td> <td>    0.064</td> <td>   -1.718</td> <td> 0.086</td> <td>   -0.237</td> <td>    0.016</td>\n",
       "</tr>\n",
       "<tr>\n",
       "  <th>Baggage_handling_5</th>                     <td>    0.5537</td> <td>    0.069</td> <td>    8.073</td> <td> 0.000</td> <td>    0.419</td> <td>    0.688</td>\n",
       "</tr>\n",
       "<tr>\n",
       "  <th>Checkin_service_2</th>                      <td>    0.0950</td> <td>    0.050</td> <td>    1.902</td> <td> 0.057</td> <td>   -0.003</td> <td>    0.193</td>\n",
       "</tr>\n",
       "<tr>\n",
       "  <th>Checkin_service_3</th>                      <td>    0.5554</td> <td>    0.045</td> <td>   12.373</td> <td> 0.000</td> <td>    0.467</td> <td>    0.643</td>\n",
       "</tr>\n",
       "<tr>\n",
       "  <th>Checkin_service_4</th>                      <td>    0.5333</td> <td>    0.045</td> <td>   11.950</td> <td> 0.000</td> <td>    0.446</td> <td>    0.621</td>\n",
       "</tr>\n",
       "<tr>\n",
       "  <th>Checkin_service_5</th>                      <td>    1.1376</td> <td>    0.051</td> <td>   22.149</td> <td> 0.000</td> <td>    1.037</td> <td>    1.238</td>\n",
       "</tr>\n",
       "<tr>\n",
       "  <th>Inflight_service_2</th>                     <td>   -0.2704</td> <td>    0.075</td> <td>   -3.589</td> <td> 0.000</td> <td>   -0.418</td> <td>   -0.123</td>\n",
       "</tr>\n",
       "<tr>\n",
       "  <th>Inflight_service_3</th>                     <td>   -0.8874</td> <td>    0.070</td> <td>  -12.741</td> <td> 0.000</td> <td>   -1.024</td> <td>   -0.751</td>\n",
       "</tr>\n",
       "<tr>\n",
       "  <th>Inflight_service_4</th>                     <td>   -0.2647</td> <td>    0.067</td> <td>   -3.946</td> <td> 0.000</td> <td>   -0.396</td> <td>   -0.133</td>\n",
       "</tr>\n",
       "<tr>\n",
       "  <th>Inflight_service_5</th>                     <td>    0.3455</td> <td>    0.072</td> <td>    4.827</td> <td> 0.000</td> <td>    0.205</td> <td>    0.486</td>\n",
       "</tr>\n",
       "<tr>\n",
       "  <th>Cleanliness_2</th>                          <td>    0.0791</td> <td>    0.069</td> <td>    1.145</td> <td> 0.252</td> <td>   -0.056</td> <td>    0.215</td>\n",
       "</tr>\n",
       "<tr>\n",
       "  <th>Cleanliness_3</th>                          <td>    0.3934</td> <td>    0.063</td> <td>    6.230</td> <td> 0.000</td> <td>    0.270</td> <td>    0.517</td>\n",
       "</tr>\n",
       "<tr>\n",
       "  <th>Cleanliness_4</th>                          <td>    0.2873</td> <td>    0.063</td> <td>    4.557</td> <td> 0.000</td> <td>    0.164</td> <td>    0.411</td>\n",
       "</tr>\n",
       "<tr>\n",
       "  <th>Cleanliness_5</th>                          <td>    0.7325</td> <td>    0.073</td> <td>   10.090</td> <td> 0.000</td> <td>    0.590</td> <td>    0.875</td>\n",
       "</tr>\n",
       "<tr>\n",
       "  <th>Customer_Type_disloyal_Customer</th>        <td>   -2.7244</td> <td>    0.045</td> <td>  -61.044</td> <td> 0.000</td> <td>   -2.812</td> <td>   -2.637</td>\n",
       "</tr>\n",
       "<tr>\n",
       "  <th>Type_of_Travel_Personal_Travel</th>         <td>   -3.7837</td> <td>    0.048</td> <td>  -78.713</td> <td> 0.000</td> <td>   -3.878</td> <td>   -3.689</td>\n",
       "</tr>\n",
       "<tr>\n",
       "  <th>Class_Eco</th>                              <td>   -0.5092</td> <td>    0.034</td> <td>  -14.837</td> <td> 0.000</td> <td>   -0.576</td> <td>   -0.442</td>\n",
       "</tr>\n",
       "<tr>\n",
       "  <th>Class_Eco_Plus</th>                         <td>   -0.6883</td> <td>    0.055</td> <td>  -12.611</td> <td> 0.000</td> <td>   -0.795</td> <td>   -0.581</td>\n",
       "</tr>\n",
       "</table>"
      ],
      "text/plain": [
       "<class 'statsmodels.iolib.summary.Summary'>\n",
       "\"\"\"\n",
       "                 Generalized Linear Model Regression Results                  \n",
       "==============================================================================\n",
       "Dep. Variable:           satisfaction   No. Observations:                82656\n",
       "Model:                            GLM   Df Residuals:                    82593\n",
       "Model Family:                Binomial   Df Model:                           62\n",
       "Link Function:                  logit   Scale:                          1.0000\n",
       "Method:                          IRLS   Log-Likelihood:                -19535.\n",
       "Date:                Tue, 08 Jun 2021   Deviance:                       39071.\n",
       "Time:                        09:45:00   Pearson chi2:                 1.28e+05\n",
       "No. Iterations:                     7                                         \n",
       "Covariance Type:            nonrobust                                         \n",
       "==========================================================================================================\n",
       "                                             coef    std err          z      P>|z|      [0.025      0.975]\n",
       "----------------------------------------------------------------------------------------------------------\n",
       "Intercept                                  2.1981      0.130     16.938      0.000       1.944       2.452\n",
       "Age                                       -0.0061      0.001     -6.383      0.000      -0.008      -0.004\n",
       "Flight_Distance                         2.147e-05   1.53e-05      1.401      0.161   -8.58e-06    5.15e-05\n",
       "Delay_in_Minutes                          -0.0021      0.000    -12.806      0.000      -0.002      -0.002\n",
       "Departure_Or_Arrival_time_convenient_1     0.3019      0.082      3.669      0.000       0.141       0.463\n",
       "Departure_Or_Arrival_time_convenient_2     0.4946      0.080      6.185      0.000       0.338       0.651\n",
       "Departure_Or_Arrival_time_convenient_3     0.2834      0.076      3.710      0.000       0.134       0.433\n",
       "Departure_Or_Arrival_time_convenient_4    -0.5083      0.068     -7.490      0.000      -0.641      -0.375\n",
       "Departure_Or_Arrival_time_convenient_5    -0.6999      0.072     -9.722      0.000      -0.841      -0.559\n",
       "Ease_of_Online_booking_1                  -3.3606      0.148    -22.743      0.000      -3.650      -3.071\n",
       "Ease_of_Online_booking_2                  -3.8263      0.147    -26.085      0.000      -4.114      -3.539\n",
       "Ease_of_Online_booking_3                  -3.4040      0.144    -23.620      0.000      -3.687      -3.122\n",
       "Ease_of_Online_booking_4                  -2.0588      0.142    -14.508      0.000      -2.337      -1.781\n",
       "Ease_of_Online_booking_5                  -1.2573      0.143     -8.773      0.000      -1.538      -0.976\n",
       "Gate_location_2                            0.1604      0.056      2.855      0.004       0.050       0.271\n",
       "Gate_location_3                            0.0152      0.052      0.294      0.769      -0.086       0.117\n",
       "Gate_location_4                           -0.1409      0.053     -2.668      0.008      -0.244      -0.037\n",
       "Gate_location_5                           -0.5604      0.065     -8.635      0.000      -0.688      -0.433\n",
       "Food_and_drink_2                           0.2088      0.066      3.145      0.002       0.079       0.339\n",
       "Food_and_drink_3                           0.0864      0.066      1.315      0.189      -0.042       0.215\n",
       "Food_and_drink_4                           0.1083      0.066      1.653      0.098      -0.020       0.237\n",
       "Food_and_drink_5                           0.0561      0.067      0.831      0.406      -0.076       0.188\n",
       "Online_boarding_1                         -1.0311      0.151     -6.809      0.000      -1.328      -0.734\n",
       "Online_boarding_2                         -1.1072      0.152     -7.292      0.000      -1.405      -0.810\n",
       "Online_boarding_3                         -1.1453      0.150     -7.637      0.000      -1.439      -0.851\n",
       "Online_boarding_4                          0.8131      0.149      5.442      0.000       0.520       1.106\n",
       "Online_boarding_5                          2.5697      0.152     16.905      0.000       2.272       2.868\n",
       "Seat_comfort_2                            -0.4858      0.068     -7.093      0.000      -0.620      -0.352\n",
       "Seat_comfort_3                            -1.5080      0.064    -23.611      0.000      -1.633      -1.383\n",
       "Seat_comfort_4                            -0.9001      0.063    -14.245      0.000      -1.024      -0.776\n",
       "Seat_comfort_5                            -0.2297      0.068     -3.384      0.001      -0.363      -0.097\n",
       "Inflight_entertainment_2                   0.4855      0.092      5.257      0.000       0.304       0.666\n",
       "Inflight_entertainment_3                   1.3214      0.085     15.455      0.000       1.154       1.489\n",
       "Inflight_entertainment_4                   1.4551      0.081     18.049      0.000       1.297       1.613\n",
       "Inflight_entertainment_5                   0.7583      0.089      8.501      0.000       0.583       0.933\n",
       "Onboard_service_2                          0.1559      0.061      2.556      0.011       0.036       0.275\n",
       "Onboard_service_3                          0.5741      0.055     10.428      0.000       0.466       0.682\n",
       "Onboard_service_4                          0.7002      0.055     12.701      0.000       0.592       0.808\n",
       "Onboard_service_5                          1.1639      0.061     19.182      0.000       1.045       1.283\n",
       "Leg_room_service_2                         0.3026      0.055      5.491      0.000       0.195       0.411\n",
       "Leg_room_service_3                         0.1689      0.055      3.055      0.002       0.061       0.277\n",
       "Leg_room_service_4                         0.9556      0.054     17.741      0.000       0.850       1.061\n",
       "Leg_room_service_5                         1.1278      0.056     20.199      0.000       1.018       1.237\n",
       "Baggage_handling_2                        -0.2271      0.071     -3.199      0.001      -0.366      -0.088\n",
       "Baggage_handling_3                        -0.7540      0.066    -11.405      0.000      -0.884      -0.624\n",
       "Baggage_handling_4                        -0.1106      0.064     -1.718      0.086      -0.237       0.016\n",
       "Baggage_handling_5                         0.5537      0.069      8.073      0.000       0.419       0.688\n",
       "Checkin_service_2                          0.0950      0.050      1.902      0.057      -0.003       0.193\n",
       "Checkin_service_3                          0.5554      0.045     12.373      0.000       0.467       0.643\n",
       "Checkin_service_4                          0.5333      0.045     11.950      0.000       0.446       0.621\n",
       "Checkin_service_5                          1.1376      0.051     22.149      0.000       1.037       1.238\n",
       "Inflight_service_2                        -0.2704      0.075     -3.589      0.000      -0.418      -0.123\n",
       "Inflight_service_3                        -0.8874      0.070    -12.741      0.000      -1.024      -0.751\n",
       "Inflight_service_4                        -0.2647      0.067     -3.946      0.000      -0.396      -0.133\n",
       "Inflight_service_5                         0.3455      0.072      4.827      0.000       0.205       0.486\n",
       "Cleanliness_2                              0.0791      0.069      1.145      0.252      -0.056       0.215\n",
       "Cleanliness_3                              0.3934      0.063      6.230      0.000       0.270       0.517\n",
       "Cleanliness_4                              0.2873      0.063      4.557      0.000       0.164       0.411\n",
       "Cleanliness_5                              0.7325      0.073     10.090      0.000       0.590       0.875\n",
       "Customer_Type_disloyal_Customer           -2.7244      0.045    -61.044      0.000      -2.812      -2.637\n",
       "Type_of_Travel_Personal_Travel            -3.7837      0.048    -78.713      0.000      -3.878      -3.689\n",
       "Class_Eco                                 -0.5092      0.034    -14.837      0.000      -0.576      -0.442\n",
       "Class_Eco_Plus                            -0.6883      0.055    -12.611      0.000      -0.795      -0.581\n",
       "==========================================================================================================\n",
       "\"\"\""
      ]
     },
     "metadata": {},
     "output_type": "display_data"
    },
    {
     "data": {
      "text/plain": [
       "(0.964064013763136, 0.96377025923245)"
      ]
     },
     "execution_count": 8,
     "metadata": {},
     "output_type": "execute_result"
    }
   ],
   "source": [
    "features_for_lr_out_wifi_service=features_for_lr.copy()\n",
    "features_for_lr_out_wifi_service.remove('Inflight_wifi_service_1')\n",
    "features_for_lr_out_wifi_service.remove('Inflight_wifi_service_2')\n",
    "features_for_lr_out_wifi_service.remove('Inflight_wifi_service_3')\n",
    "features_for_lr_out_wifi_service.remove('Inflight_wifi_service_4')\n",
    "features_for_lr_out_wifi_service.remove('Inflight_wifi_service_5')\n",
    "CVTest(df=data_for_lr,features=features_for_lr_out_wifi_service,debug=True)"
   ]
  },
  {
   "cell_type": "code",
   "execution_count": 9,
   "metadata": {},
   "outputs": [
    {
     "data": {
      "text/plain": [
       "9616"
      ]
     },
     "execution_count": 9,
     "metadata": {},
     "output_type": "execute_result"
    }
   ],
   "source": [
    "lr_test=2*(-14727+19535)\n",
    "lr_test"
   ]
  },
  {
   "cell_type": "markdown",
   "metadata": {},
   "source": [
    "Statystyka LR wyniosła 9616 a wartość rozkładu chi-kwadrat z 5 stopniami swobody dla poziomu istotności 5% wynosi 11.07 dlatego odrzucamy hipotezę zerową o łącznej nieistotności tych zmiennych, czyli poziom zadowolenia z usług wifi jest istotny dla prognozowania. Sprawdźmy w takim razie drugą nieistotną zmienną, czyli Flight_Distance czy wynik bez niej się poprawi."
   ]
  },
  {
   "cell_type": "code",
   "execution_count": 10,
   "metadata": {},
   "outputs": [
    {
     "data": {
      "text/html": [
       "<table class=\"simpletable\">\n",
       "<caption>Generalized Linear Model Regression Results</caption>\n",
       "<tr>\n",
       "  <th>Dep. Variable:</th>     <td>satisfaction</td>   <th>  No. Observations:  </th>  <td> 82656</td> \n",
       "</tr>\n",
       "<tr>\n",
       "  <th>Model:</th>                  <td>GLM</td>       <th>  Df Residuals:      </th>  <td> 82589</td> \n",
       "</tr>\n",
       "<tr>\n",
       "  <th>Model Family:</th>        <td>Binomial</td>     <th>  Df Model:          </th>  <td>    66</td> \n",
       "</tr>\n",
       "<tr>\n",
       "  <th>Link Function:</th>         <td>logit</td>      <th>  Scale:             </th> <td>  1.0000</td>\n",
       "</tr>\n",
       "<tr>\n",
       "  <th>Method:</th>                <td>IRLS</td>       <th>  Log-Likelihood:    </th> <td> -14727.</td>\n",
       "</tr>\n",
       "<tr>\n",
       "  <th>Date:</th>            <td>Tue, 08 Jun 2021</td> <th>  Deviance:          </th> <td>  29455.</td>\n",
       "</tr>\n",
       "<tr>\n",
       "  <th>Time:</th>                <td>09:45:17</td>     <th>  Pearson chi2:      </th> <td>4.22e+05</td>\n",
       "</tr>\n",
       "<tr>\n",
       "  <th>No. Iterations:</th>         <td>27</td>        <th>                     </th>     <td> </td>   \n",
       "</tr>\n",
       "<tr>\n",
       "  <th>Covariance Type:</th>     <td>nonrobust</td>    <th>                     </th>     <td> </td>   \n",
       "</tr>\n",
       "</table>\n",
       "<table class=\"simpletable\">\n",
       "<tr>\n",
       "                     <td></td>                       <th>coef</th>     <th>std err</th>      <th>z</th>      <th>P>|z|</th>  <th>[0.025</th>    <th>0.975]</th>  \n",
       "</tr>\n",
       "<tr>\n",
       "  <th>Intercept</th>                              <td>   31.2492</td> <td> 1.58e+04</td> <td>    0.002</td> <td> 0.998</td> <td> -3.1e+04</td> <td> 3.11e+04</td>\n",
       "</tr>\n",
       "<tr>\n",
       "  <th>Age</th>                                    <td>   -0.0025</td> <td>    0.001</td> <td>   -2.180</td> <td> 0.029</td> <td>   -0.005</td> <td>   -0.000</td>\n",
       "</tr>\n",
       "<tr>\n",
       "  <th>Delay_in_Minutes</th>                       <td>   -0.0019</td> <td>    0.000</td> <td>  -10.229</td> <td> 0.000</td> <td>   -0.002</td> <td>   -0.002</td>\n",
       "</tr>\n",
       "<tr>\n",
       "  <th>Inflight_wifi_service_1</th>                <td>  -33.3431</td> <td> 1.58e+04</td> <td>   -0.002</td> <td> 0.998</td> <td>-3.11e+04</td> <td>  3.1e+04</td>\n",
       "</tr>\n",
       "<tr>\n",
       "  <th>Inflight_wifi_service_2</th>                <td>  -33.5939</td> <td> 1.58e+04</td> <td>   -0.002</td> <td> 0.998</td> <td>-3.11e+04</td> <td>  3.1e+04</td>\n",
       "</tr>\n",
       "<tr>\n",
       "  <th>Inflight_wifi_service_3</th>                <td>  -33.6357</td> <td> 1.58e+04</td> <td>   -0.002</td> <td> 0.998</td> <td>-3.11e+04</td> <td>  3.1e+04</td>\n",
       "</tr>\n",
       "<tr>\n",
       "  <th>Inflight_wifi_service_4</th>                <td>  -32.0984</td> <td> 1.58e+04</td> <td>   -0.002</td> <td> 0.998</td> <td>-3.11e+04</td> <td>  3.1e+04</td>\n",
       "</tr>\n",
       "<tr>\n",
       "  <th>Inflight_wifi_service_5</th>                <td>  -26.4117</td> <td> 1.58e+04</td> <td>   -0.002</td> <td> 0.999</td> <td>-3.11e+04</td> <td>  3.1e+04</td>\n",
       "</tr>\n",
       "<tr>\n",
       "  <th>Departure_Or_Arrival_time_convenient_1</th> <td>    0.2822</td> <td>    0.104</td> <td>    2.701</td> <td> 0.007</td> <td>    0.077</td> <td>    0.487</td>\n",
       "</tr>\n",
       "<tr>\n",
       "  <th>Departure_Or_Arrival_time_convenient_2</th> <td>    0.4167</td> <td>    0.101</td> <td>    4.137</td> <td> 0.000</td> <td>    0.219</td> <td>    0.614</td>\n",
       "</tr>\n",
       "<tr>\n",
       "  <th>Departure_Or_Arrival_time_convenient_3</th> <td>    0.2062</td> <td>    0.097</td> <td>    2.127</td> <td> 0.033</td> <td>    0.016</td> <td>    0.396</td>\n",
       "</tr>\n",
       "<tr>\n",
       "  <th>Departure_Or_Arrival_time_convenient_4</th> <td>   -0.7183</td> <td>    0.087</td> <td>   -8.267</td> <td> 0.000</td> <td>   -0.889</td> <td>   -0.548</td>\n",
       "</tr>\n",
       "<tr>\n",
       "  <th>Departure_Or_Arrival_time_convenient_5</th> <td>   -1.0006</td> <td>    0.095</td> <td>  -10.479</td> <td> 0.000</td> <td>   -1.188</td> <td>   -0.813</td>\n",
       "</tr>\n",
       "<tr>\n",
       "  <th>Ease_of_Online_booking_1</th>               <td>    3.0335</td> <td>    0.957</td> <td>    3.170</td> <td> 0.002</td> <td>    1.158</td> <td>    4.909</td>\n",
       "</tr>\n",
       "<tr>\n",
       "  <th>Ease_of_Online_booking_2</th>               <td>    2.8791</td> <td>    0.957</td> <td>    3.009</td> <td> 0.003</td> <td>    1.004</td> <td>    4.755</td>\n",
       "</tr>\n",
       "<tr>\n",
       "  <th>Ease_of_Online_booking_3</th>               <td>    3.4126</td> <td>    0.957</td> <td>    3.567</td> <td> 0.000</td> <td>    1.537</td> <td>    5.288</td>\n",
       "</tr>\n",
       "<tr>\n",
       "  <th>Ease_of_Online_booking_4</th>               <td>    4.2466</td> <td>    0.956</td> <td>    4.440</td> <td> 0.000</td> <td>    2.372</td> <td>    6.121</td>\n",
       "</tr>\n",
       "<tr>\n",
       "  <th>Ease_of_Online_booking_5</th>               <td>    3.6617</td> <td>    0.957</td> <td>    3.827</td> <td> 0.000</td> <td>    1.786</td> <td>    5.537</td>\n",
       "</tr>\n",
       "<tr>\n",
       "  <th>Gate_location_2</th>                        <td>    0.1169</td> <td>    0.069</td> <td>    1.705</td> <td> 0.088</td> <td>   -0.018</td> <td>    0.251</td>\n",
       "</tr>\n",
       "<tr>\n",
       "  <th>Gate_location_3</th>                        <td>   -0.0872</td> <td>    0.063</td> <td>   -1.377</td> <td> 0.169</td> <td>   -0.211</td> <td>    0.037</td>\n",
       "</tr>\n",
       "<tr>\n",
       "  <th>Gate_location_4</th>                        <td>   -0.2819</td> <td>    0.065</td> <td>   -4.321</td> <td> 0.000</td> <td>   -0.410</td> <td>   -0.154</td>\n",
       "</tr>\n",
       "<tr>\n",
       "  <th>Gate_location_5</th>                        <td>   -0.4562</td> <td>    0.084</td> <td>   -5.425</td> <td> 0.000</td> <td>   -0.621</td> <td>   -0.291</td>\n",
       "</tr>\n",
       "<tr>\n",
       "  <th>Food_and_drink_2</th>                       <td>    0.2587</td> <td>    0.076</td> <td>    3.410</td> <td> 0.001</td> <td>    0.110</td> <td>    0.407</td>\n",
       "</tr>\n",
       "<tr>\n",
       "  <th>Food_and_drink_3</th>                       <td>    0.1307</td> <td>    0.075</td> <td>    1.739</td> <td> 0.082</td> <td>   -0.017</td> <td>    0.278</td>\n",
       "</tr>\n",
       "<tr>\n",
       "  <th>Food_and_drink_4</th>                       <td>    0.1367</td> <td>    0.075</td> <td>    1.828</td> <td> 0.068</td> <td>   -0.010</td> <td>    0.283</td>\n",
       "</tr>\n",
       "<tr>\n",
       "  <th>Food_and_drink_5</th>                       <td>    0.0260</td> <td>    0.077</td> <td>    0.338</td> <td> 0.735</td> <td>   -0.125</td> <td>    0.177</td>\n",
       "</tr>\n",
       "<tr>\n",
       "  <th>Online_boarding_1</th>                      <td>   -3.5089</td> <td>    0.959</td> <td>   -3.657</td> <td> 0.000</td> <td>   -5.389</td> <td>   -1.628</td>\n",
       "</tr>\n",
       "<tr>\n",
       "  <th>Online_boarding_2</th>                      <td>   -3.4241</td> <td>    0.959</td> <td>   -3.570</td> <td> 0.000</td> <td>   -5.304</td> <td>   -1.544</td>\n",
       "</tr>\n",
       "<tr>\n",
       "  <th>Online_boarding_3</th>                      <td>   -3.6432</td> <td>    0.959</td> <td>   -3.800</td> <td> 0.000</td> <td>   -5.522</td> <td>   -1.764</td>\n",
       "</tr>\n",
       "<tr>\n",
       "  <th>Online_boarding_4</th>                      <td>   -1.9907</td> <td>    0.958</td> <td>   -2.077</td> <td> 0.038</td> <td>   -3.869</td> <td>   -0.112</td>\n",
       "</tr>\n",
       "<tr>\n",
       "  <th>Online_boarding_5</th>                      <td>   -0.7646</td> <td>    0.959</td> <td>   -0.797</td> <td> 0.425</td> <td>   -2.644</td> <td>    1.115</td>\n",
       "</tr>\n",
       "<tr>\n",
       "  <th>Seat_comfort_2</th>                         <td>   -0.5425</td> <td>    0.080</td> <td>   -6.740</td> <td> 0.000</td> <td>   -0.700</td> <td>   -0.385</td>\n",
       "</tr>\n",
       "<tr>\n",
       "  <th>Seat_comfort_3</th>                         <td>   -1.5933</td> <td>    0.075</td> <td>  -21.261</td> <td> 0.000</td> <td>   -1.740</td> <td>   -1.446</td>\n",
       "</tr>\n",
       "<tr>\n",
       "  <th>Seat_comfort_4</th>                         <td>   -0.8797</td> <td>    0.074</td> <td>  -11.837</td> <td> 0.000</td> <td>   -1.025</td> <td>   -0.734</td>\n",
       "</tr>\n",
       "<tr>\n",
       "  <th>Seat_comfort_5</th>                         <td>   -0.0285</td> <td>    0.080</td> <td>   -0.356</td> <td> 0.722</td> <td>   -0.186</td> <td>    0.129</td>\n",
       "</tr>\n",
       "<tr>\n",
       "  <th>Inflight_entertainment_2</th>               <td>    0.6687</td> <td>    0.110</td> <td>    6.106</td> <td> 0.000</td> <td>    0.454</td> <td>    0.883</td>\n",
       "</tr>\n",
       "<tr>\n",
       "  <th>Inflight_entertainment_3</th>               <td>    1.4964</td> <td>    0.101</td> <td>   14.765</td> <td> 0.000</td> <td>    1.298</td> <td>    1.695</td>\n",
       "</tr>\n",
       "<tr>\n",
       "  <th>Inflight_entertainment_4</th>               <td>    1.2121</td> <td>    0.095</td> <td>   12.695</td> <td> 0.000</td> <td>    1.025</td> <td>    1.399</td>\n",
       "</tr>\n",
       "<tr>\n",
       "  <th>Inflight_entertainment_5</th>               <td>    0.3937</td> <td>    0.107</td> <td>    3.687</td> <td> 0.000</td> <td>    0.184</td> <td>    0.603</td>\n",
       "</tr>\n",
       "<tr>\n",
       "  <th>Onboard_service_2</th>                      <td>    0.1764</td> <td>    0.074</td> <td>    2.389</td> <td> 0.017</td> <td>    0.032</td> <td>    0.321</td>\n",
       "</tr>\n",
       "<tr>\n",
       "  <th>Onboard_service_3</th>                      <td>    0.6714</td> <td>    0.066</td> <td>   10.105</td> <td> 0.000</td> <td>    0.541</td> <td>    0.802</td>\n",
       "</tr>\n",
       "<tr>\n",
       "  <th>Onboard_service_4</th>                      <td>    0.7688</td> <td>    0.066</td> <td>   11.572</td> <td> 0.000</td> <td>    0.639</td> <td>    0.899</td>\n",
       "</tr>\n",
       "<tr>\n",
       "  <th>Onboard_service_5</th>                      <td>    1.3243</td> <td>    0.073</td> <td>   18.099</td> <td> 0.000</td> <td>    1.181</td> <td>    1.468</td>\n",
       "</tr>\n",
       "<tr>\n",
       "  <th>Leg_room_service_2</th>                     <td>    0.3309</td> <td>    0.068</td> <td>    4.901</td> <td> 0.000</td> <td>    0.199</td> <td>    0.463</td>\n",
       "</tr>\n",
       "<tr>\n",
       "  <th>Leg_room_service_3</th>                     <td>    0.2233</td> <td>    0.068</td> <td>    3.295</td> <td> 0.001</td> <td>    0.090</td> <td>    0.356</td>\n",
       "</tr>\n",
       "<tr>\n",
       "  <th>Leg_room_service_4</th>                     <td>    0.8871</td> <td>    0.065</td> <td>   13.552</td> <td> 0.000</td> <td>    0.759</td> <td>    1.015</td>\n",
       "</tr>\n",
       "<tr>\n",
       "  <th>Leg_room_service_5</th>                     <td>    1.0317</td> <td>    0.068</td> <td>   15.152</td> <td> 0.000</td> <td>    0.898</td> <td>    1.165</td>\n",
       "</tr>\n",
       "<tr>\n",
       "  <th>Baggage_handling_2</th>                     <td>   -0.1646</td> <td>    0.085</td> <td>   -1.930</td> <td> 0.054</td> <td>   -0.332</td> <td>    0.003</td>\n",
       "</tr>\n",
       "<tr>\n",
       "  <th>Baggage_handling_3</th>                     <td>   -0.8427</td> <td>    0.080</td> <td>  -10.557</td> <td> 0.000</td> <td>   -0.999</td> <td>   -0.686</td>\n",
       "</tr>\n",
       "<tr>\n",
       "  <th>Baggage_handling_4</th>                     <td>   -0.2134</td> <td>    0.077</td> <td>   -2.757</td> <td> 0.006</td> <td>   -0.365</td> <td>   -0.062</td>\n",
       "</tr>\n",
       "<tr>\n",
       "  <th>Baggage_handling_5</th>                     <td>    0.5716</td> <td>    0.082</td> <td>    6.937</td> <td> 0.000</td> <td>    0.410</td> <td>    0.733</td>\n",
       "</tr>\n",
       "<tr>\n",
       "  <th>Checkin_service_2</th>                      <td>    0.1437</td> <td>    0.059</td> <td>    2.433</td> <td> 0.015</td> <td>    0.028</td> <td>    0.259</td>\n",
       "</tr>\n",
       "<tr>\n",
       "  <th>Checkin_service_3</th>                      <td>    0.6811</td> <td>    0.053</td> <td>   12.887</td> <td> 0.000</td> <td>    0.578</td> <td>    0.785</td>\n",
       "</tr>\n",
       "<tr>\n",
       "  <th>Checkin_service_4</th>                      <td>    0.6584</td> <td>    0.053</td> <td>   12.513</td> <td> 0.000</td> <td>    0.555</td> <td>    0.761</td>\n",
       "</tr>\n",
       "<tr>\n",
       "  <th>Checkin_service_5</th>                      <td>    1.4085</td> <td>    0.061</td> <td>   23.111</td> <td> 0.000</td> <td>    1.289</td> <td>    1.528</td>\n",
       "</tr>\n",
       "<tr>\n",
       "  <th>Inflight_service_2</th>                     <td>   -0.2463</td> <td>    0.090</td> <td>   -2.722</td> <td> 0.006</td> <td>   -0.424</td> <td>   -0.069</td>\n",
       "</tr>\n",
       "<tr>\n",
       "  <th>Inflight_service_3</th>                     <td>   -0.8795</td> <td>    0.084</td> <td>  -10.511</td> <td> 0.000</td> <td>   -1.044</td> <td>   -0.716</td>\n",
       "</tr>\n",
       "<tr>\n",
       "  <th>Inflight_service_4</th>                     <td>   -0.2045</td> <td>    0.080</td> <td>   -2.541</td> <td> 0.011</td> <td>   -0.362</td> <td>   -0.047</td>\n",
       "</tr>\n",
       "<tr>\n",
       "  <th>Inflight_service_5</th>                     <td>    0.4943</td> <td>    0.086</td> <td>    5.748</td> <td> 0.000</td> <td>    0.326</td> <td>    0.663</td>\n",
       "</tr>\n",
       "<tr>\n",
       "  <th>Cleanliness_2</th>                          <td>    0.0929</td> <td>    0.079</td> <td>    1.179</td> <td> 0.238</td> <td>   -0.062</td> <td>    0.247</td>\n",
       "</tr>\n",
       "<tr>\n",
       "  <th>Cleanliness_3</th>                          <td>    0.5960</td> <td>    0.072</td> <td>    8.286</td> <td> 0.000</td> <td>    0.455</td> <td>    0.737</td>\n",
       "</tr>\n",
       "<tr>\n",
       "  <th>Cleanliness_4</th>                          <td>    0.4577</td> <td>    0.072</td> <td>    6.377</td> <td> 0.000</td> <td>    0.317</td> <td>    0.598</td>\n",
       "</tr>\n",
       "<tr>\n",
       "  <th>Cleanliness_5</th>                          <td>    1.0587</td> <td>    0.084</td> <td>   12.582</td> <td> 0.000</td> <td>    0.894</td> <td>    1.224</td>\n",
       "</tr>\n",
       "<tr>\n",
       "  <th>Customer_Type_disloyal_Customer</th>        <td>   -3.3799</td> <td>    0.054</td> <td>  -62.528</td> <td> 0.000</td> <td>   -3.486</td> <td>   -3.274</td>\n",
       "</tr>\n",
       "<tr>\n",
       "  <th>Type_of_Travel_Personal_Travel</th>         <td>   -4.2911</td> <td>    0.062</td> <td>  -69.763</td> <td> 0.000</td> <td>   -4.412</td> <td>   -4.171</td>\n",
       "</tr>\n",
       "<tr>\n",
       "  <th>Class_Eco</th>                              <td>   -0.6257</td> <td>    0.039</td> <td>  -15.881</td> <td> 0.000</td> <td>   -0.703</td> <td>   -0.549</td>\n",
       "</tr>\n",
       "<tr>\n",
       "  <th>Class_Eco_Plus</th>                         <td>   -0.8512</td> <td>    0.066</td> <td>  -12.959</td> <td> 0.000</td> <td>   -0.980</td> <td>   -0.722</td>\n",
       "</tr>\n",
       "</table>"
      ],
      "text/plain": [
       "<class 'statsmodels.iolib.summary.Summary'>\n",
       "\"\"\"\n",
       "                 Generalized Linear Model Regression Results                  \n",
       "==============================================================================\n",
       "Dep. Variable:           satisfaction   No. Observations:                82656\n",
       "Model:                            GLM   Df Residuals:                    82589\n",
       "Model Family:                Binomial   Df Model:                           66\n",
       "Link Function:                  logit   Scale:                          1.0000\n",
       "Method:                          IRLS   Log-Likelihood:                -14727.\n",
       "Date:                Tue, 08 Jun 2021   Deviance:                       29455.\n",
       "Time:                        09:45:17   Pearson chi2:                 4.22e+05\n",
       "No. Iterations:                    27                                         \n",
       "Covariance Type:            nonrobust                                         \n",
       "==========================================================================================================\n",
       "                                             coef    std err          z      P>|z|      [0.025      0.975]\n",
       "----------------------------------------------------------------------------------------------------------\n",
       "Intercept                                 31.2492   1.58e+04      0.002      0.998    -3.1e+04    3.11e+04\n",
       "Age                                       -0.0025      0.001     -2.180      0.029      -0.005      -0.000\n",
       "Delay_in_Minutes                          -0.0019      0.000    -10.229      0.000      -0.002      -0.002\n",
       "Inflight_wifi_service_1                  -33.3431   1.58e+04     -0.002      0.998   -3.11e+04     3.1e+04\n",
       "Inflight_wifi_service_2                  -33.5939   1.58e+04     -0.002      0.998   -3.11e+04     3.1e+04\n",
       "Inflight_wifi_service_3                  -33.6357   1.58e+04     -0.002      0.998   -3.11e+04     3.1e+04\n",
       "Inflight_wifi_service_4                  -32.0984   1.58e+04     -0.002      0.998   -3.11e+04     3.1e+04\n",
       "Inflight_wifi_service_5                  -26.4117   1.58e+04     -0.002      0.999   -3.11e+04     3.1e+04\n",
       "Departure_Or_Arrival_time_convenient_1     0.2822      0.104      2.701      0.007       0.077       0.487\n",
       "Departure_Or_Arrival_time_convenient_2     0.4167      0.101      4.137      0.000       0.219       0.614\n",
       "Departure_Or_Arrival_time_convenient_3     0.2062      0.097      2.127      0.033       0.016       0.396\n",
       "Departure_Or_Arrival_time_convenient_4    -0.7183      0.087     -8.267      0.000      -0.889      -0.548\n",
       "Departure_Or_Arrival_time_convenient_5    -1.0006      0.095    -10.479      0.000      -1.188      -0.813\n",
       "Ease_of_Online_booking_1                   3.0335      0.957      3.170      0.002       1.158       4.909\n",
       "Ease_of_Online_booking_2                   2.8791      0.957      3.009      0.003       1.004       4.755\n",
       "Ease_of_Online_booking_3                   3.4126      0.957      3.567      0.000       1.537       5.288\n",
       "Ease_of_Online_booking_4                   4.2466      0.956      4.440      0.000       2.372       6.121\n",
       "Ease_of_Online_booking_5                   3.6617      0.957      3.827      0.000       1.786       5.537\n",
       "Gate_location_2                            0.1169      0.069      1.705      0.088      -0.018       0.251\n",
       "Gate_location_3                           -0.0872      0.063     -1.377      0.169      -0.211       0.037\n",
       "Gate_location_4                           -0.2819      0.065     -4.321      0.000      -0.410      -0.154\n",
       "Gate_location_5                           -0.4562      0.084     -5.425      0.000      -0.621      -0.291\n",
       "Food_and_drink_2                           0.2587      0.076      3.410      0.001       0.110       0.407\n",
       "Food_and_drink_3                           0.1307      0.075      1.739      0.082      -0.017       0.278\n",
       "Food_and_drink_4                           0.1367      0.075      1.828      0.068      -0.010       0.283\n",
       "Food_and_drink_5                           0.0260      0.077      0.338      0.735      -0.125       0.177\n",
       "Online_boarding_1                         -3.5089      0.959     -3.657      0.000      -5.389      -1.628\n",
       "Online_boarding_2                         -3.4241      0.959     -3.570      0.000      -5.304      -1.544\n",
       "Online_boarding_3                         -3.6432      0.959     -3.800      0.000      -5.522      -1.764\n",
       "Online_boarding_4                         -1.9907      0.958     -2.077      0.038      -3.869      -0.112\n",
       "Online_boarding_5                         -0.7646      0.959     -0.797      0.425      -2.644       1.115\n",
       "Seat_comfort_2                            -0.5425      0.080     -6.740      0.000      -0.700      -0.385\n",
       "Seat_comfort_3                            -1.5933      0.075    -21.261      0.000      -1.740      -1.446\n",
       "Seat_comfort_4                            -0.8797      0.074    -11.837      0.000      -1.025      -0.734\n",
       "Seat_comfort_5                            -0.0285      0.080     -0.356      0.722      -0.186       0.129\n",
       "Inflight_entertainment_2                   0.6687      0.110      6.106      0.000       0.454       0.883\n",
       "Inflight_entertainment_3                   1.4964      0.101     14.765      0.000       1.298       1.695\n",
       "Inflight_entertainment_4                   1.2121      0.095     12.695      0.000       1.025       1.399\n",
       "Inflight_entertainment_5                   0.3937      0.107      3.687      0.000       0.184       0.603\n",
       "Onboard_service_2                          0.1764      0.074      2.389      0.017       0.032       0.321\n",
       "Onboard_service_3                          0.6714      0.066     10.105      0.000       0.541       0.802\n",
       "Onboard_service_4                          0.7688      0.066     11.572      0.000       0.639       0.899\n",
       "Onboard_service_5                          1.3243      0.073     18.099      0.000       1.181       1.468\n",
       "Leg_room_service_2                         0.3309      0.068      4.901      0.000       0.199       0.463\n",
       "Leg_room_service_3                         0.2233      0.068      3.295      0.001       0.090       0.356\n",
       "Leg_room_service_4                         0.8871      0.065     13.552      0.000       0.759       1.015\n",
       "Leg_room_service_5                         1.0317      0.068     15.152      0.000       0.898       1.165\n",
       "Baggage_handling_2                        -0.1646      0.085     -1.930      0.054      -0.332       0.003\n",
       "Baggage_handling_3                        -0.8427      0.080    -10.557      0.000      -0.999      -0.686\n",
       "Baggage_handling_4                        -0.2134      0.077     -2.757      0.006      -0.365      -0.062\n",
       "Baggage_handling_5                         0.5716      0.082      6.937      0.000       0.410       0.733\n",
       "Checkin_service_2                          0.1437      0.059      2.433      0.015       0.028       0.259\n",
       "Checkin_service_3                          0.6811      0.053     12.887      0.000       0.578       0.785\n",
       "Checkin_service_4                          0.6584      0.053     12.513      0.000       0.555       0.761\n",
       "Checkin_service_5                          1.4085      0.061     23.111      0.000       1.289       1.528\n",
       "Inflight_service_2                        -0.2463      0.090     -2.722      0.006      -0.424      -0.069\n",
       "Inflight_service_3                        -0.8795      0.084    -10.511      0.000      -1.044      -0.716\n",
       "Inflight_service_4                        -0.2045      0.080     -2.541      0.011      -0.362      -0.047\n",
       "Inflight_service_5                         0.4943      0.086      5.748      0.000       0.326       0.663\n",
       "Cleanliness_2                              0.0929      0.079      1.179      0.238      -0.062       0.247\n",
       "Cleanliness_3                              0.5960      0.072      8.286      0.000       0.455       0.737\n",
       "Cleanliness_4                              0.4577      0.072      6.377      0.000       0.317       0.598\n",
       "Cleanliness_5                              1.0587      0.084     12.582      0.000       0.894       1.224\n",
       "Customer_Type_disloyal_Customer           -3.3799      0.054    -62.528      0.000      -3.486      -3.274\n",
       "Type_of_Travel_Personal_Travel            -4.2911      0.062    -69.763      0.000      -4.412      -4.171\n",
       "Class_Eco                                 -0.6257      0.039    -15.881      0.000      -0.703      -0.549\n",
       "Class_Eco_Plus                            -0.8512      0.066    -12.959      0.000      -0.980      -0.722\n",
       "==========================================================================================================\n",
       "\"\"\""
      ]
     },
     "metadata": {},
     "output_type": "display_data"
    },
    {
     "data": {
      "text/plain": [
       "(0.9792723026357735, 0.9790685661972031)"
      ]
     },
     "execution_count": 10,
     "metadata": {},
     "output_type": "execute_result"
    }
   ],
   "source": [
    "features_for_lr_out_Flight_Distance=features_for_lr.copy()\n",
    "features_for_lr_out_Flight_Distance.remove('Flight_Distance')\n",
    "CVTest(df=data_for_lr,features=features_for_lr_out_Flight_Distance,debug=True)"
   ]
  },
  {
   "cell_type": "markdown",
   "metadata": {},
   "source": [
    "Wynik poprawił się nieznacznie z 0.979067 na 0.979068, dlatego usuwamy tą zmienną i w celu dalszej poprawy poddamy model regularyzacji."
   ]
  },
  {
   "cell_type": "code",
   "execution_count": 11,
   "metadata": {},
   "outputs": [],
   "source": [
    "features_for_lr=features_for_lr_out_Flight_Distance.copy()"
   ]
  },
  {
   "cell_type": "markdown",
   "metadata": {},
   "source": [
    "### 1.1 Regularyzacja regresji logistycznej "
   ]
  },
  {
   "cell_type": "code",
   "execution_count": 12,
   "metadata": {},
   "outputs": [],
   "source": [
    "#Wrapper dla regularyzacji regresji logistycznej\n",
    "def CVTestLinearClass(df,nFolds = 5, randomState=42, debug=False, features=features, saveModels = False, *args, **kwargs):\n",
    "    # Przygotujmy walidację krzyżową\n",
    "    kf = KFold(n_splits=nFolds, shuffle=True, random_state=randomState)\n",
    "\n",
    "    # Zapiszmy wyniki na zbiorze treningowym i testowym:\n",
    "    testResults = []\n",
    "    trainResults = []\n",
    "    \n",
    "    # Przechowajmy również predykcje dla poszczególnych foldów\n",
    "    predictions = []\n",
    "    \n",
    "    # Razem z informacją o tym, jaki był ich indeks w oryginalnym zbiorze danych\n",
    "    indices = []\n",
    "    \n",
    "    # Przygotujmy liste modeli do zachowania\n",
    "    models = []\n",
    "    for train, test in kf.split(df.index.values):\n",
    "\n",
    "        # Przygotowanie estymatora\n",
    "        clf = linear_model.LogisticRegression(*args, **kwargs)\n",
    "        if debug:\n",
    "            print(clf)\n",
    "        # Trenowanie modelu\n",
    "        clf.fit(df.iloc[train][features], df.iloc[train][target])\n",
    "\n",
    "        # Przygotowanie prognoz dla zbioru traeningowego i testowego\n",
    "        # UWAGA Sklearn zwracałbędzie dwie kolumny prawdopodobieństw dla obydwu klas\n",
    "        predsTrain = clf.predict_proba(df.iloc[train][features])[:,1]\n",
    "        preds = clf.predict_proba(df.iloc[test][features])[:,1]\n",
    "        \n",
    "        # Zachowajmy informacje o predykcjach dla tego foldu\n",
    "        predictions.append(preds.tolist().copy())\n",
    "        \n",
    "        # Razem z indeksami w oryginalnym data frame\n",
    "        indices.append(df.iloc[test].index.tolist().copy())\n",
    "        \n",
    "        # Informowanie o każdym foldzie razem z wynikami treningowymi możemy opcjonalnie wyświetlać w trakcie\n",
    "        trainScore = roc_auc_score(df[target].iloc[train], predsTrain)\n",
    "        testScore = roc_auc_score(df[target].iloc[test], preds)\n",
    "        \n",
    "        trainResults.append(trainScore)\n",
    "        testResults.append(testScore)\n",
    "        \n",
    "        if debug:\n",
    "            print(\"Train AUC:\", trainScore,\n",
    "                  \"Valid AUC:\", testScore)\n",
    "        if saveModels:\n",
    "            models.append(clf)\n",
    "        \n",
    "    return trainResults, testResults, predictions, indices, models"
   ]
  },
  {
   "cell_type": "markdown",
   "metadata": {},
   "source": [
    "Najpierw model bez regularyzacji"
   ]
  },
  {
   "cell_type": "code",
   "execution_count": 13,
   "metadata": {
    "scrolled": true
   },
   "outputs": [
    {
     "name": "stdout",
     "output_type": "stream",
     "text": [
      "Train 0.9792399038447923 Test 0.9790442013853987\n"
     ]
    }
   ],
   "source": [
    "import warnings\n",
    "warnings.filterwarnings(\"ignore\")\n",
    "trainResults, testResults, predictions, indices, models = CVTestLinearClass(df=data_for_lr,features=features_for_lr,penalty=\"none\",max_iter=2000)\n",
    "print('Train', np.mean(trainResults), \"Test\", np.mean(testResults))"
   ]
  },
  {
   "cell_type": "markdown",
   "metadata": {},
   "source": [
    "Otrzymujemy podobne wyniki jak w przypadku zastosowania metody z modułu stats. Zastosujmy teraz regularyzację L1, co wymaga użycia innego solvera liblinear. Dokonajmy odrazu optymalizacji hiperparametrów i sprawdźmy czy regularyzacja L1 poprawi wyniki predykcji"
   ]
  },
  {
   "cell_type": "code",
   "execution_count": 14,
   "metadata": {},
   "outputs": [
    {
     "name": "stdout",
     "output_type": "stream",
     "text": [
      "Alpha: 0.01 Train 0.976425306249935 Test 0.9762763937080461\n",
      "Alpha: 0.1 Train 0.9790136647245807 Test 0.9788268365700891\n",
      "Alpha: 0.25 Train 0.9791398885114994 Test 0.9789410162533343\n",
      "Alpha: 0.5 Train 0.9791864134825958 Test 0.9789858590349532\n",
      "Alpha: 1 Train 0.9791999635715889 Test 0.9789952409560584\n",
      "Alpha: 2 Train 0.9792158293841462 Test 0.9790114371288036\n"
     ]
    }
   ],
   "source": [
    "for alpha in [0.01, 0.1, 0.25, 0.5, 1, 2]:\n",
    "    trainResults, testResults, predictions, indices, models = CVTestLinearClass(df=data_for_lr,features=features_for_lr,penalty=\"l1\", solver=\"liblinear\", C=alpha,max_iter=2000)\n",
    "    print(\"Alpha:\", alpha, \"Train\", np.mean(trainResults), \"Test\", np.mean(testResults))"
   ]
  },
  {
   "cell_type": "markdown",
   "metadata": {},
   "source": [
    "Nie widać żadnej poprawy przy zastosowaniu regularyzacji Lasso. Może regularyzajca metodą L2 przyniesie lepszy rezultat"
   ]
  },
  {
   "cell_type": "code",
   "execution_count": 15,
   "metadata": {
    "scrolled": true
   },
   "outputs": [
    {
     "name": "stdout",
     "output_type": "stream",
     "text": [
      "Alpha: 0.01 Train 0.9758846568398477 Test 0.9757057297864437\n",
      "Alpha: 0.1 Train 0.9785020264475864 Test 0.9783090842370405\n",
      "Alpha: 0.25 Train 0.9788842968821194 Test 0.9786872680764223\n",
      "Alpha: 0.5 Train 0.979039905836467 Test 0.9788429003570889\n",
      "Alpha: 1 Train 0.9791253728544422 Test 0.978928118097268\n",
      "Alpha: 2 Train 0.9791832078300354 Test 0.978981129207283\n",
      "Alpha: 5 Train 0.9792053597831616 Test 0.9790044708495771\n",
      "Alpha: 20 Train 0.9792273492967662 Test 0.9790175394167502\n"
     ]
    }
   ],
   "source": [
    "import warnings\n",
    "warnings.filterwarnings(\"ignore\")\n",
    "for alpha in [0.01, 0.1, 0.25, 0.5, 1, 2,5,20]:\n",
    "    trainResults, testResults, predictions, indices, models = CVTestLinearClass(df=data_for_lr,features=features_for_lr,penalty=\"l2\", C=alpha,max_iter=2000)\n",
    "    print(\"Alpha:\", alpha, \"Train\", np.mean(trainResults), \"Test\", np.mean(testResults))"
   ]
  },
  {
   "cell_type": "markdown",
   "metadata": {},
   "source": [
    "Również metoda Ridge nie przyniosła lepszych rezultatów. Nie sprawdzamy w takim razie metody Elastic Net, która jest tylko połączeniem tych dwóch metod i ostateczny wniosek jest taki, że regularyzacja regresji logistycznej w tym problemie nie przyniosła dobrych efektów. Zapiszmy najlepszy wynik i przejdźmy do algorytmu KNN"
   ]
  },
  {
   "cell_type": "code",
   "execution_count": 16,
   "metadata": {},
   "outputs": [
    {
     "name": "stdout",
     "output_type": "stream",
     "text": [
      "0.9790442013853987\n"
     ]
    }
   ],
   "source": [
    "trainResults, testResults, predictions, indices,models = CVTestLinearClass(df=data_for_lr,features=features_for_lr,penalty=\"none\",max_iter=2000)\n",
    "print(np.mean(testResults))\n",
    "modelLR = {\n",
    "    \"name\":\"Regresja Logistyczna\",\n",
    "    \"description\":\" Model Regresji logistycznej, usunięta zmienna nieistotna Flight Distance\",\n",
    "    \"specification\":'n_neighbors=17, n_jobs=-1, p=2, features=featuresSet_for_knn',\n",
    "    \"trainResults\":trainResults.copy(),\n",
    "    \"testResults\":testResults.copy(),\n",
    "    \"predictions\":predictions.copy(),\n",
    "    \"indices\":indices.copy(),\n",
    "}"
   ]
  },
  {
   "cell_type": "markdown",
   "metadata": {},
   "source": [
    "## 2. K-Nearest Neighbors\n"
   ]
  },
  {
   "cell_type": "markdown",
   "metadata": {},
   "source": [
    "Ponowne przygotowanie danych do kolejnego modelu. Zastosowanie One-Hot Encoding oraz wystandaryzowanie zmiennych nominalnych, co jest kluczowe w algorytmie KNN."
   ]
  },
  {
   "cell_type": "code",
   "execution_count": 17,
   "metadata": {
    "scrolled": true
   },
   "outputs": [
    {
     "data": {
      "text/html": [
       "<div>\n",
       "<style scoped>\n",
       "    .dataframe tbody tr th:only-of-type {\n",
       "        vertical-align: middle;\n",
       "    }\n",
       "\n",
       "    .dataframe tbody tr th {\n",
       "        vertical-align: top;\n",
       "    }\n",
       "\n",
       "    .dataframe thead th {\n",
       "        text-align: right;\n",
       "    }\n",
       "</style>\n",
       "<table border=\"1\" class=\"dataframe\">\n",
       "  <thead>\n",
       "    <tr style=\"text-align: right;\">\n",
       "      <th></th>\n",
       "      <th>Age</th>\n",
       "      <th>Flight_Distance</th>\n",
       "      <th>Delay_in_Minutes</th>\n",
       "      <th>Inflight_wifi_service_1</th>\n",
       "      <th>Inflight_wifi_service_2</th>\n",
       "      <th>Inflight_wifi_service_3</th>\n",
       "      <th>Inflight_wifi_service_4</th>\n",
       "      <th>Inflight_wifi_service_5</th>\n",
       "      <th>Departure_Or_Arrival_time_convenient_1</th>\n",
       "      <th>Departure_Or_Arrival_time_convenient_2</th>\n",
       "      <th>...</th>\n",
       "      <th>Inflight_service_5</th>\n",
       "      <th>Cleanliness_2</th>\n",
       "      <th>Cleanliness_3</th>\n",
       "      <th>Cleanliness_4</th>\n",
       "      <th>Cleanliness_5</th>\n",
       "      <th>Customer_Type_disloyal Customer</th>\n",
       "      <th>Type_of_Travel_Personal Travel</th>\n",
       "      <th>Class_Eco</th>\n",
       "      <th>Class_Eco Plus</th>\n",
       "      <th>satisfaction</th>\n",
       "    </tr>\n",
       "  </thead>\n",
       "  <tbody>\n",
       "    <tr>\n",
       "      <th>0</th>\n",
       "      <td>13</td>\n",
       "      <td>460</td>\n",
       "      <td>43.0</td>\n",
       "      <td>0</td>\n",
       "      <td>0</td>\n",
       "      <td>1</td>\n",
       "      <td>0</td>\n",
       "      <td>0</td>\n",
       "      <td>0</td>\n",
       "      <td>0</td>\n",
       "      <td>...</td>\n",
       "      <td>1</td>\n",
       "      <td>0</td>\n",
       "      <td>0</td>\n",
       "      <td>0</td>\n",
       "      <td>1</td>\n",
       "      <td>0</td>\n",
       "      <td>1</td>\n",
       "      <td>0</td>\n",
       "      <td>1</td>\n",
       "      <td>neutral or dissatisfied</td>\n",
       "    </tr>\n",
       "    <tr>\n",
       "      <th>1</th>\n",
       "      <td>25</td>\n",
       "      <td>235</td>\n",
       "      <td>7.0</td>\n",
       "      <td>0</td>\n",
       "      <td>0</td>\n",
       "      <td>1</td>\n",
       "      <td>0</td>\n",
       "      <td>0</td>\n",
       "      <td>0</td>\n",
       "      <td>1</td>\n",
       "      <td>...</td>\n",
       "      <td>0</td>\n",
       "      <td>0</td>\n",
       "      <td>0</td>\n",
       "      <td>0</td>\n",
       "      <td>0</td>\n",
       "      <td>1</td>\n",
       "      <td>0</td>\n",
       "      <td>0</td>\n",
       "      <td>0</td>\n",
       "      <td>neutral or dissatisfied</td>\n",
       "    </tr>\n",
       "    <tr>\n",
       "      <th>2</th>\n",
       "      <td>26</td>\n",
       "      <td>1142</td>\n",
       "      <td>0.0</td>\n",
       "      <td>0</td>\n",
       "      <td>1</td>\n",
       "      <td>0</td>\n",
       "      <td>0</td>\n",
       "      <td>0</td>\n",
       "      <td>0</td>\n",
       "      <td>1</td>\n",
       "      <td>...</td>\n",
       "      <td>0</td>\n",
       "      <td>0</td>\n",
       "      <td>0</td>\n",
       "      <td>0</td>\n",
       "      <td>1</td>\n",
       "      <td>0</td>\n",
       "      <td>0</td>\n",
       "      <td>0</td>\n",
       "      <td>0</td>\n",
       "      <td>satisfied</td>\n",
       "    </tr>\n",
       "    <tr>\n",
       "      <th>3</th>\n",
       "      <td>25</td>\n",
       "      <td>562</td>\n",
       "      <td>20.0</td>\n",
       "      <td>0</td>\n",
       "      <td>1</td>\n",
       "      <td>0</td>\n",
       "      <td>0</td>\n",
       "      <td>0</td>\n",
       "      <td>0</td>\n",
       "      <td>0</td>\n",
       "      <td>...</td>\n",
       "      <td>0</td>\n",
       "      <td>1</td>\n",
       "      <td>0</td>\n",
       "      <td>0</td>\n",
       "      <td>0</td>\n",
       "      <td>0</td>\n",
       "      <td>0</td>\n",
       "      <td>0</td>\n",
       "      <td>0</td>\n",
       "      <td>neutral or dissatisfied</td>\n",
       "    </tr>\n",
       "    <tr>\n",
       "      <th>4</th>\n",
       "      <td>61</td>\n",
       "      <td>214</td>\n",
       "      <td>0.0</td>\n",
       "      <td>0</td>\n",
       "      <td>0</td>\n",
       "      <td>1</td>\n",
       "      <td>0</td>\n",
       "      <td>0</td>\n",
       "      <td>0</td>\n",
       "      <td>0</td>\n",
       "      <td>...</td>\n",
       "      <td>0</td>\n",
       "      <td>0</td>\n",
       "      <td>1</td>\n",
       "      <td>0</td>\n",
       "      <td>0</td>\n",
       "      <td>0</td>\n",
       "      <td>0</td>\n",
       "      <td>0</td>\n",
       "      <td>0</td>\n",
       "      <td>satisfied</td>\n",
       "    </tr>\n",
       "  </tbody>\n",
       "</table>\n",
       "<p>5 rows × 68 columns</p>\n",
       "</div>"
      ],
      "text/plain": [
       "   Age  Flight_Distance  Delay_in_Minutes  Inflight_wifi_service_1  \\\n",
       "0   13              460              43.0                        0   \n",
       "1   25              235               7.0                        0   \n",
       "2   26             1142               0.0                        0   \n",
       "3   25              562              20.0                        0   \n",
       "4   61              214               0.0                        0   \n",
       "\n",
       "   Inflight_wifi_service_2  Inflight_wifi_service_3  Inflight_wifi_service_4  \\\n",
       "0                        0                        1                        0   \n",
       "1                        0                        1                        0   \n",
       "2                        1                        0                        0   \n",
       "3                        1                        0                        0   \n",
       "4                        0                        1                        0   \n",
       "\n",
       "   Inflight_wifi_service_5  Departure_Or_Arrival_time_convenient_1  \\\n",
       "0                        0                                       0   \n",
       "1                        0                                       0   \n",
       "2                        0                                       0   \n",
       "3                        0                                       0   \n",
       "4                        0                                       0   \n",
       "\n",
       "   Departure_Or_Arrival_time_convenient_2  ...  Inflight_service_5  \\\n",
       "0                                       0  ...                   1   \n",
       "1                                       1  ...                   0   \n",
       "2                                       1  ...                   0   \n",
       "3                                       0  ...                   0   \n",
       "4                                       0  ...                   0   \n",
       "\n",
       "   Cleanliness_2  Cleanliness_3  Cleanliness_4  Cleanliness_5  \\\n",
       "0              0              0              0              1   \n",
       "1              0              0              0              0   \n",
       "2              0              0              0              1   \n",
       "3              1              0              0              0   \n",
       "4              0              1              0              0   \n",
       "\n",
       "   Customer_Type_disloyal Customer  Type_of_Travel_Personal Travel  Class_Eco  \\\n",
       "0                                0                               1          0   \n",
       "1                                1                               0          0   \n",
       "2                                0                               0          0   \n",
       "3                                0                               0          0   \n",
       "4                                0                               0          0   \n",
       "\n",
       "   Class_Eco Plus             satisfaction  \n",
       "0               1  neutral or dissatisfied  \n",
       "1               0  neutral or dissatisfied  \n",
       "2               0                satisfied  \n",
       "3               0  neutral or dissatisfied  \n",
       "4               0                satisfied  \n",
       "\n",
       "[5 rows x 68 columns]"
      ]
     },
     "metadata": {},
     "output_type": "display_data"
    }
   ],
   "source": [
    "data_for_knn=df.copy()\n",
    "# One hot encoding\n",
    "dummLev = pd.get_dummies(data_for_knn[cat_dig_features+cat_str_features], drop_first=True)\n",
    "\n",
    "# Połączenie zmiennych numerycznych, kategorycznych w postaci on hot encoding oraz targetu\n",
    "data_for_knn = pd.concat([data_for_knn[num_features], dummLev, data_for_knn[[target]]], axis=1)\n",
    "display(data_for_knn.head())"
   ]
  },
  {
   "cell_type": "code",
   "execution_count": 18,
   "metadata": {
    "scrolled": true
   },
   "outputs": [
    {
     "name": "stdout",
     "output_type": "stream",
     "text": [
      "<class 'pandas.core.frame.DataFrame'>\n",
      "RangeIndex: 103320 entries, 0 to 103319\n",
      "Data columns (total 68 columns):\n",
      " #   Column                                  Non-Null Count   Dtype  \n",
      "---  ------                                  --------------   -----  \n",
      " 0   Age                                     103320 non-null  int64  \n",
      " 1   Flight_Distance                         103320 non-null  int64  \n",
      " 2   Delay_in_Minutes                        103320 non-null  float64\n",
      " 3   Inflight_wifi_service_1                 103320 non-null  uint8  \n",
      " 4   Inflight_wifi_service_2                 103320 non-null  uint8  \n",
      " 5   Inflight_wifi_service_3                 103320 non-null  uint8  \n",
      " 6   Inflight_wifi_service_4                 103320 non-null  uint8  \n",
      " 7   Inflight_wifi_service_5                 103320 non-null  uint8  \n",
      " 8   Departure_Or_Arrival_time_convenient_1  103320 non-null  uint8  \n",
      " 9   Departure_Or_Arrival_time_convenient_2  103320 non-null  uint8  \n",
      " 10  Departure_Or_Arrival_time_convenient_3  103320 non-null  uint8  \n",
      " 11  Departure_Or_Arrival_time_convenient_4  103320 non-null  uint8  \n",
      " 12  Departure_Or_Arrival_time_convenient_5  103320 non-null  uint8  \n",
      " 13  Ease_of_Online_booking_1                103320 non-null  uint8  \n",
      " 14  Ease_of_Online_booking_2                103320 non-null  uint8  \n",
      " 15  Ease_of_Online_booking_3                103320 non-null  uint8  \n",
      " 16  Ease_of_Online_booking_4                103320 non-null  uint8  \n",
      " 17  Ease_of_Online_booking_5                103320 non-null  uint8  \n",
      " 18  Gate_location_2                         103320 non-null  uint8  \n",
      " 19  Gate_location_3                         103320 non-null  uint8  \n",
      " 20  Gate_location_4                         103320 non-null  uint8  \n",
      " 21  Gate_location_5                         103320 non-null  uint8  \n",
      " 22  Food_and_drink_2                        103320 non-null  uint8  \n",
      " 23  Food_and_drink_3                        103320 non-null  uint8  \n",
      " 24  Food_and_drink_4                        103320 non-null  uint8  \n",
      " 25  Food_and_drink_5                        103320 non-null  uint8  \n",
      " 26  Online_boarding_1                       103320 non-null  uint8  \n",
      " 27  Online_boarding_2                       103320 non-null  uint8  \n",
      " 28  Online_boarding_3                       103320 non-null  uint8  \n",
      " 29  Online_boarding_4                       103320 non-null  uint8  \n",
      " 30  Online_boarding_5                       103320 non-null  uint8  \n",
      " 31  Seat_comfort_2                          103320 non-null  uint8  \n",
      " 32  Seat_comfort_3                          103320 non-null  uint8  \n",
      " 33  Seat_comfort_4                          103320 non-null  uint8  \n",
      " 34  Seat_comfort_5                          103320 non-null  uint8  \n",
      " 35  Inflight_entertainment_2                103320 non-null  uint8  \n",
      " 36  Inflight_entertainment_3                103320 non-null  uint8  \n",
      " 37  Inflight_entertainment_4                103320 non-null  uint8  \n",
      " 38  Inflight_entertainment_5                103320 non-null  uint8  \n",
      " 39  Onboard_service_2                       103320 non-null  uint8  \n",
      " 40  Onboard_service_3                       103320 non-null  uint8  \n",
      " 41  Onboard_service_4                       103320 non-null  uint8  \n",
      " 42  Onboard_service_5                       103320 non-null  uint8  \n",
      " 43  Leg_room_service_2                      103320 non-null  uint8  \n",
      " 44  Leg_room_service_3                      103320 non-null  uint8  \n",
      " 45  Leg_room_service_4                      103320 non-null  uint8  \n",
      " 46  Leg_room_service_5                      103320 non-null  uint8  \n",
      " 47  Baggage_handling_2                      103320 non-null  uint8  \n",
      " 48  Baggage_handling_3                      103320 non-null  uint8  \n",
      " 49  Baggage_handling_4                      103320 non-null  uint8  \n",
      " 50  Baggage_handling_5                      103320 non-null  uint8  \n",
      " 51  Checkin_service_2                       103320 non-null  uint8  \n",
      " 52  Checkin_service_3                       103320 non-null  uint8  \n",
      " 53  Checkin_service_4                       103320 non-null  uint8  \n",
      " 54  Checkin_service_5                       103320 non-null  uint8  \n",
      " 55  Inflight_service_2                      103320 non-null  uint8  \n",
      " 56  Inflight_service_3                      103320 non-null  uint8  \n",
      " 57  Inflight_service_4                      103320 non-null  uint8  \n",
      " 58  Inflight_service_5                      103320 non-null  uint8  \n",
      " 59  Cleanliness_2                           103320 non-null  uint8  \n",
      " 60  Cleanliness_3                           103320 non-null  uint8  \n",
      " 61  Cleanliness_4                           103320 non-null  uint8  \n",
      " 62  Cleanliness_5                           103320 non-null  uint8  \n",
      " 63  Customer_Type_disloyal_Customer         103320 non-null  uint8  \n",
      " 64  Type_of_Travel_Personal_Travel          103320 non-null  uint8  \n",
      " 65  Class_Eco                               103320 non-null  uint8  \n",
      " 66  Class_Eco_Plus                          103320 non-null  uint8  \n",
      " 67  satisfaction                            103320 non-null  object \n",
      "dtypes: float64(1), int64(2), object(1), uint8(64)\n",
      "memory usage: 9.5+ MB\n",
      "None\n"
     ]
    }
   ],
   "source": [
    "data_for_knn.columns = [c.replace(' ', '_') for c in data_for_knn.columns]\n",
    "print(data_for_knn.info())\n",
    "features_for_knn=data_for_knn.columns.tolist()\n",
    "features_for_knn.remove('satisfaction')"
   ]
  },
  {
   "cell_type": "code",
   "execution_count": 19,
   "metadata": {},
   "outputs": [],
   "source": [
    "#Wystandaryzowanie zmiennych nominalnych\n",
    "data_for_knn_stand_1=data_for_knn.copy()\n",
    "data_for_knn_stand_1[num_features] = data_for_knn_stand_1[num_features].apply(lambda x: (x-x.mean())/x.std())"
   ]
  },
  {
   "cell_type": "markdown",
   "metadata": {},
   "source": [
    "Ze względu na długi czas trenowania modelu na pełnej próbie, korzystamy jedynie z 5000 obserwacji w procesie estymacji aby szybciej zoptymalizować algorytm."
   ]
  },
  {
   "cell_type": "code",
   "execution_count": 20,
   "metadata": {},
   "outputs": [],
   "source": [
    "\n",
    "# Przygotujmy wrapper\n",
    "def CVTestKNN(df,nFolds = 5, randomState=42, debug=False, features=features,sampleSize=5000, *args, **kwargs):\n",
    "    kf = KFold(n_splits=nFolds, shuffle=True, random_state=randomState)\n",
    "\n",
    "    # Listy z wynikami\n",
    "    testResults = []\n",
    "    trainResults = []\n",
    "    predictions = []\n",
    "    indices = []\n",
    "    \n",
    "    for train, test in kf.split(df.index.values):\n",
    "        # Przygotowanie estymatora\n",
    "        clf = neighbors.KNeighborsClassifier(*args, **kwargs)\n",
    "        if debug:\n",
    "            print(clf)\n",
    "        #Zmniejszenie zbioru treningowego przez sampling\n",
    "        sampleSize = sampleSize\n",
    "        if(sampleSize!=None):\n",
    "            X = df.iloc[train].sample(sampleSize,random_state=randomState)\n",
    "            # Trenowanie modelu\n",
    "            clf.fit(X[features], X[target])\n",
    "        else:\n",
    "            clf.fit(df.iloc[train][features],df.iloc[train][target])\n",
    "        # Przygotowanie prognoz dla zbioru treningowego i testowego\n",
    "        # UWAGA Sklearn zwracałbędzie dwie kolumny prawdopodobieństw dla obydwu klas\n",
    "        predsTrain = clf.predict_proba(df.iloc[train][features])[:,1]\n",
    "        preds = clf.predict_proba(df.iloc[test][features])[:,1]\n",
    "        \n",
    "        # Zachowajmy informacje o predykcjach dla tego foldu\n",
    "        predictions.append(preds.tolist().copy())\n",
    "        \n",
    "        # Razem z indeksami w oryginalnym data frame\n",
    "        indices.append(df.iloc[test].index.tolist().copy())\n",
    "        \n",
    "        # Policzenie ROC-AUC dla foldów\n",
    "        trainScore = roc_auc_score((df[target].iloc[train]==\"satisfied\").astype(int), predsTrain)\n",
    "        testScore = roc_auc_score((df[target].iloc[test]==\"satisfied\").astype(int), preds)\n",
    "        \n",
    "        # Zapisanie wyników dla foldów\n",
    "        trainResults.append(trainScore)\n",
    "        testResults.append(testScore)\n",
    "        \n",
    "        # Informowanie o każdym foldzie razem z wynikami treningowymi możemy opcjonalnie wyświetlać w trakcie\n",
    "        if debug:\n",
    "            print(\"Train AUC:\", trainScore,\n",
    "                  \"Valid AUC:\", testScore)\n",
    "        \n",
    "    return trainResults, testResults, predictions, indices\n"
   ]
  },
  {
   "cell_type": "code",
   "execution_count": 21,
   "metadata": {
    "scrolled": false
   },
   "outputs": [
    {
     "name": "stdout",
     "output_type": "stream",
     "text": [
      "KNeighborsClassifier(n_jobs=-1)\n",
      "Train AUC: 0.9605222375544984 Valid AUC: 0.955470852761105\n",
      "KNeighborsClassifier(n_jobs=-1)\n",
      "Train AUC: 0.9596943568166414 Valid AUC: 0.9569259986402132\n",
      "KNeighborsClassifier(n_jobs=-1)\n",
      "Train AUC: 0.9595613182387976 Valid AUC: 0.9578357720878181\n",
      "KNeighborsClassifier(n_jobs=-1)\n",
      "Train AUC: 0.9585655920425205 Valid AUC: 0.9557562982391069\n",
      "KNeighborsClassifier(n_jobs=-1)\n",
      "Train AUC: 0.9595403104329124 Valid AUC: 0.9582346843487064\n",
      "0.9568447212153899\n"
     ]
    }
   ],
   "source": [
    "trainResults, testResults, predictions, indices = CVTestKNN(df=data_for_knn_stand_1,features=features_for_knn,n_neighbors=5, n_jobs=-1, p=2, debug=True)\n",
    "print(np.mean(testResults))"
   ]
  },
  {
   "cell_type": "markdown",
   "metadata": {},
   "source": [
    "Bez tuningu hyperparametrów oraz na małej liczbie obserwacji uzyskano wynik 0.9568. Pierwszą rzeczą, którą warto sprawdzić jest zmiana sposobu standaryzacji zmiennych. Może poprawi to wynik."
   ]
  },
  {
   "cell_type": "code",
   "execution_count": 22,
   "metadata": {},
   "outputs": [],
   "source": [
    "#Wystandaryzowanie zmiennych nominalnych metodą min-max scanling\n",
    "data_for_knn_stand_2=data_for_knn.copy()\n",
    "data_for_knn_stand_2[num_features] = data_for_knn_stand_2[num_features].apply(lambda x: (x-x.min())/(x.max()-x.min()))"
   ]
  },
  {
   "cell_type": "code",
   "execution_count": 23,
   "metadata": {},
   "outputs": [
    {
     "name": "stdout",
     "output_type": "stream",
     "text": [
      "KNeighborsClassifier(n_jobs=-1)\n",
      "Train AUC: 0.9632228782924092 Valid AUC: 0.9599255427835581\n",
      "KNeighborsClassifier(n_jobs=-1)\n",
      "Train AUC: 0.9624772154760945 Valid AUC: 0.9588345069646128\n",
      "KNeighborsClassifier(n_jobs=-1)\n",
      "Train AUC: 0.9627422620976535 Valid AUC: 0.9614631436869929\n",
      "KNeighborsClassifier(n_jobs=-1)\n",
      "Train AUC: 0.962234785647482 Valid AUC: 0.9595382210800014\n",
      "KNeighborsClassifier(n_jobs=-1)\n",
      "Train AUC: 0.962668726478084 Valid AUC: 0.9602486572522653\n",
      "0.9600020143534861\n"
     ]
    }
   ],
   "source": [
    "trainResults, testResults, predictions, indices = CVTestKNN(df=data_for_knn_stand_2,features=features_for_knn,n_neighbors=5, n_jobs=-1, p=2, debug=True)\n",
    "print(np.mean(testResults))"
   ]
  },
  {
   "cell_type": "markdown",
   "metadata": {},
   "source": [
    "Przy wykorzystaniu metody min-max scaling otrzymaliśmy nieznacznie lepszy wynik, dlatego będziemy ją wykorzystywać w dalszym procesie."
   ]
  },
  {
   "cell_type": "markdown",
   "metadata": {},
   "source": [
    "### 2.1. Inżynieria zmiennych dla KNN"
   ]
  },
  {
   "cell_type": "markdown",
   "metadata": {},
   "source": [
    "Ze względu na czas wykonywania oraz zoptymalizowanie wyników dokonamy dodatkowej inżynierii zmiennych. Przede wszystkim chcemy zredukować wymiar więc należy wybrać najważniejsze dla modelu zmienne, a dokonamy to poprzez tworzenie modelu dla każdej zmiennej pojedynczo."
   ]
  },
  {
   "cell_type": "code",
   "execution_count": 24,
   "metadata": {},
   "outputs": [],
   "source": [
    "# Następnie będziemy dodawać każdą zmienną jako osobnego kandydata.\n",
    "results = []\n",
    "for feature in features_for_knn:\n",
    "    # Estymacja modelu\n",
    "    trainResults, testResults, predictions, indices = CVTestKNN(df=data_for_knn_stand_2,n_neighbors=5, n_jobs=-1, p=2, features=[feature])\n",
    "    # Zapisanie wyniku jako do obiektu results\n",
    "    results.append((feature, np.mean(testResults)))"
   ]
  },
  {
   "cell_type": "code",
   "execution_count": 25,
   "metadata": {},
   "outputs": [
    {
     "data": {
      "text/plain": [
       "[('Type_of_Travel_Personal_Travel', 0.7107183525528464),\n",
       " ('Class_Eco', 0.6816912372342983),\n",
       " ('Online_boarding_5', 0.6787751926521283),\n",
       " ('Inflight_wifi_service_5', 0.6258007875581215),\n",
       " ('Online_boarding_4', 0.6148324278907751),\n",
       " ('Flight_Distance', 0.6098137781236134),\n",
       " ('Inflight_wifi_service_2', 0.5934550980419929),\n",
       " ('Age', 0.5926529697506413),\n",
       " ('Seat_comfort_5', 0.5899382896240958),\n",
       " ('Online_boarding_2', 0.5878095089684882),\n",
       " ('Inflight_entertainment_5', 0.5863078835940883),\n",
       " ('Seat_comfort_3', 0.5813223426915536),\n",
       " ('Onboard_service_5', 0.5781649352371157),\n",
       " ('Inflight_wifi_service_3', 0.5744820758427217),\n",
       " ('Leg_room_service_5', 0.5702323444382758),\n",
       " ('Leg_room_service_4', 0.5680131246554947),\n",
       " ('Baggage_handling_3', 0.5646426033132297),\n",
       " ('Inflight_entertainment_3', 0.5616510812656479),\n",
       " ('Online_boarding_1', 0.549922809105347),\n",
       " ('Customer_Type_disloyal_Customer', 0.5449497887550994),\n",
       " ('Inflight_entertainment_4', 0.5414414887519174),\n",
       " ('Inflight_service_5', 0.5392055695462511),\n",
       " ('Leg_room_service_2', 0.5367999426858152),\n",
       " ('Ease_of_Online_booking_3', 0.5365799115290353),\n",
       " ('Seat_comfort_2', 0.5362260377292223),\n",
       " ('Inflight_service_3', 0.5322340631301126),\n",
       " ('Cleanliness_5', 0.5313329684706611),\n",
       " ('Onboard_service_2', 0.5308916217626987),\n",
       " ('Inflight_entertainment_2', 0.5308651571785278),\n",
       " ('Food_and_drink_5', 0.5295154792398999),\n",
       " ('Baggage_handling_4', 0.5288791062406407),\n",
       " ('Cleanliness_2', 0.5287426669273677),\n",
       " ('Checkin_service_2', 0.5280351114583289),\n",
       " ('Food_and_drink_4', 0.5276730324326159),\n",
       " ('Gate_location_5', 0.5217459036940272),\n",
       " ('Inflight_wifi_service_1', 0.5213556701549071),\n",
       " ('Onboard_service_3', 0.520955637529355),\n",
       " ('Delay_in_Minutes', 0.5203267442026066),\n",
       " ('Baggage_handling_5', 0.5192765028421842),\n",
       " ('Ease_of_Online_booking_5', 0.5164946009354123),\n",
       " ('Leg_room_service_3', 0.5128642864999641),\n",
       " ('Ease_of_Online_booking_2', 0.5122632000649381),\n",
       " ('Cleanliness_4', 0.5118474734945976),\n",
       " ('Inflight_wifi_service_4', 0.5117769126518158),\n",
       " ('Departure_Or_Arrival_time_convenient_4', 0.5102115583427317),\n",
       " ('Baggage_handling_2', 0.508681196727328),\n",
       " ('Food_and_drink_3', 0.5085400547014144),\n",
       " ('Gate_location_4', 0.5063711385878419),\n",
       " ('Ease_of_Online_booking_4', 0.5057204714519543),\n",
       " ('Ease_of_Online_booking_1', 0.5026712330458201),\n",
       " ('Checkin_service_4', 0.502403255097567),\n",
       " ('Online_boarding_3', 0.5006855078162001),\n",
       " ('Departure_Or_Arrival_time_convenient_2', 0.5003694817537516),\n",
       " ('Checkin_service_3', 0.5000526055522062),\n",
       " ('Gate_location_3', 0.5000105924707181),\n",
       " ('Class_Eco_Plus', 0.49999512419402264),\n",
       " ('Departure_Or_Arrival_time_convenient_3', 0.4985010270139057),\n",
       " ('Departure_Or_Arrival_time_convenient_5', 0.49814491282757745),\n",
       " ('Onboard_service_4', 0.4981401436474945),\n",
       " ('Cleanliness_3', 0.497852809404575),\n",
       " ('Departure_Or_Arrival_time_convenient_1', 0.4969167614173706),\n",
       " ('Inflight_service_4', 0.49408477316375843),\n",
       " ('Gate_location_2', 0.4934557196943684),\n",
       " ('Food_and_drink_2', 0.4803717427936263),\n",
       " ('Inflight_service_2', 0.4767021426817914),\n",
       " ('Checkin_service_5', 0.47116293747946897),\n",
       " ('Seat_comfort_4', 0.45229699199543927)]"
      ]
     },
     "execution_count": 25,
     "metadata": {},
     "output_type": "execute_result"
    }
   ],
   "source": [
    "results = sorted(results, key=lambda x: x[1], reverse=True)\n",
    "results"
   ]
  },
  {
   "cell_type": "markdown",
   "metadata": {},
   "source": [
    "Najbardziej istotną zmienną okazała się zmienna binarna mówiąca czy dla danego pasażera lot był lotem prywatnym Spróbujmy oszacować model ze zmiennymi, który wynik dał więcej niż 0.52"
   ]
  },
  {
   "cell_type": "code",
   "execution_count": 26,
   "metadata": {},
   "outputs": [
    {
     "name": "stdout",
     "output_type": "stream",
     "text": [
      "['Type_of_Travel_Personal_Travel', 'Class_Eco', 'Online_boarding_5', 'Inflight_wifi_service_5', 'Online_boarding_4', 'Flight_Distance', 'Inflight_wifi_service_2', 'Age', 'Seat_comfort_5', 'Online_boarding_2', 'Inflight_entertainment_5', 'Seat_comfort_3', 'Onboard_service_5', 'Inflight_wifi_service_3', 'Leg_room_service_5', 'Leg_room_service_4', 'Baggage_handling_3', 'Inflight_entertainment_3', 'Online_boarding_1', 'Customer_Type_disloyal_Customer', 'Inflight_entertainment_4', 'Inflight_service_5', 'Leg_room_service_2', 'Ease_of_Online_booking_3', 'Seat_comfort_2', 'Inflight_service_3', 'Cleanliness_5', 'Onboard_service_2', 'Inflight_entertainment_2', 'Food_and_drink_5', 'Baggage_handling_4', 'Cleanliness_2', 'Checkin_service_2', 'Food_and_drink_4', 'Gate_location_5', 'Inflight_wifi_service_1', 'Onboard_service_3', 'Delay_in_Minutes']\n"
     ]
    }
   ],
   "source": [
    "featuresSet_for_knn = [x for x,y in results if y > 0.52]\n",
    "print(featuresSet_for_knn)"
   ]
  },
  {
   "cell_type": "code",
   "execution_count": 27,
   "metadata": {},
   "outputs": [
    {
     "name": "stdout",
     "output_type": "stream",
     "text": [
      "0.9629404634679908\n"
     ]
    }
   ],
   "source": [
    "trainResults, testResults, predictions, indices = CVTestKNN(df=data_for_knn_stand_2,features=featuresSet_for_knn,n_neighbors=5, n_jobs=-1, p=2)\n",
    "print(np.mean(testResults))"
   ]
  },
  {
   "cell_type": "markdown",
   "metadata": {},
   "source": [
    "Poprawiło to wynik, więc może jeszcze większe ograniczenie zbioru poprawi bardziej"
   ]
  },
  {
   "cell_type": "code",
   "execution_count": 28,
   "metadata": {},
   "outputs": [
    {
     "name": "stdout",
     "output_type": "stream",
     "text": [
      "0.9589703398076346\n"
     ]
    }
   ],
   "source": [
    "featuresSet_for_knn2 = [x for x,y in results if y > 0.53]\n",
    "trainResults, testResults, predictions, indices = CVTestKNN(df=data_for_knn_stand_2,features=featuresSet_for_knn2,n_neighbors=5, n_jobs=-1, p=2)\n",
    "print(np.mean(testResults))"
   ]
  },
  {
   "cell_type": "markdown",
   "metadata": {},
   "source": [
    "Niestety wynik pogorszył się, dlatego może spróbujmy zmienić punkt odcięcia w drugą stronę"
   ]
  },
  {
   "cell_type": "code",
   "execution_count": 29,
   "metadata": {},
   "outputs": [
    {
     "name": "stdout",
     "output_type": "stream",
     "text": [
      "0.9629341453006607\n"
     ]
    }
   ],
   "source": [
    "featuresSet_for_knn3 = [x for x,y in results if y > 0.51]\n",
    "trainResults, testResults, predictions, indices = CVTestKNN(df=data_for_knn_stand_2,features=featuresSet_for_knn3,n_neighbors=5, n_jobs=-1, p=2)\n",
    "print(np.mean(testResults))"
   ]
  },
  {
   "cell_type": "markdown",
   "metadata": {},
   "source": [
    "Wynik względem pierwszej selekcji nie poprawił się więc pozostajemy przy tamtym zestawie zmiennych"
   ]
  },
  {
   "cell_type": "markdown",
   "metadata": {},
   "source": [
    "Innym sposobem na poprawę wyniku jest skalowanie zmiennych, więc sprawdźmy czy zwiększenie znaczenia najważniejszych zmiennych oraz zmniejszenie znaczenia najmniej istotnych zmiennych poprawi wynik"
   ]
  },
  {
   "cell_type": "code",
   "execution_count": 30,
   "metadata": {},
   "outputs": [
    {
     "name": "stdout",
     "output_type": "stream",
     "text": [
      "1.5 0.9653557806711248\n",
      "2 0.9653467449977429\n",
      "3 0.9652837312882205\n",
      "4 0.9652831533807967\n",
      "5 0.9652831533807967\n"
     ]
    }
   ],
   "source": [
    "for k in [1.5, 2, 3, 4, 5]:\n",
    "    data_for_knn_engine = data_for_knn_stand_2.copy()\n",
    "    # k krotnie zwiększamy zmienną\n",
    "    data_for_knn_engine[\"Type_of_Travel_Personal_Travel\"]=data_for_knn_engine[\"Type_of_Travel_Personal_Travel\"]*k\n",
    "    trainResults, testResults, predictions, indices = CVTestKNN(df=data_for_knn_engine,n_neighbors=5, n_jobs=-1, p=2, features=featuresSet_for_knn)\n",
    "    print(k, np.mean(testResults))"
   ]
  },
  {
   "cell_type": "markdown",
   "metadata": {},
   "source": [
    "Najlepszy wynik otrzymaliśmy przy zwiększeniu zmiennej 1.5 razy. Sprawdźmy teraz czy zmniejszenie wartości najmniej istotnej zmiennej (Delay_in_Minutes) poprawi wynik."
   ]
  },
  {
   "cell_type": "code",
   "execution_count": 31,
   "metadata": {},
   "outputs": [
    {
     "name": "stdout",
     "output_type": "stream",
     "text": [
      "0.1 0.9653772541229648\n",
      "0.25 0.9653730328910397\n",
      "0.4 0.965405959009544\n",
      "0.5 0.965400012549763\n",
      "0.65 0.9653881982684303\n",
      "0.8 0.9653669198804931\n"
     ]
    }
   ],
   "source": [
    "for k in [0.1, 0.25, 0.4, 0.5, 0.65,  0.8]:\n",
    "    data_for_knn_engine = data_for_knn_stand_2.copy()\n",
    "    data_for_knn_engine[\"Type_of_Travel_Personal_Travel\"]=data_for_knn_engine[\"Type_of_Travel_Personal_Travel\"]*1.5\n",
    "\n",
    "    # k krotnie zwiększamy zmienną\n",
    "    data_for_knn_engine[\"Delay_in_Minutes\"]=data_for_knn_engine[\"Delay_in_Minutes\"]*k\n",
    "\n",
    "    trainResults, testResults, predictions, indices = CVTestKNN(df=data_for_knn_engine,n_neighbors=5, n_jobs=-1, p=2, features=featuresSet_for_knn)\n",
    "    print(k, np.mean(testResults))"
   ]
  },
  {
   "cell_type": "markdown",
   "metadata": {},
   "source": [
    "Najlepszy wynik uzyskaliśmy dla skalowania przez 0.4, więc pozostawiamy to. Zmodyfikujmy jeszcze drugą najlepszą zmienną."
   ]
  },
  {
   "cell_type": "code",
   "execution_count": 32,
   "metadata": {},
   "outputs": [
    {
     "name": "stdout",
     "output_type": "stream",
     "text": [
      "1.5 0.9636163711139348\n",
      "2 0.9628504263558659\n",
      "3 0.9627176731521985\n",
      "4 0.9627176731521985\n",
      "5 0.9627173808662361\n"
     ]
    }
   ],
   "source": [
    "for k in [1.5, 2, 3, 4, 5]:\n",
    "    data_for_knn_engine = data_for_knn_stand_2.copy()\n",
    "    data_for_knn_engine[\"Type_of_Travel_Personal_Travel\"]=data_for_knn_engine[\"Type_of_Travel_Personal_Travel\"]*1.5\n",
    "    data_for_knn_engine[\"Delay_in_Minutes\"]=data_for_knn_engine[\"Delay_in_Minutes\"]*0.4\n",
    "\n",
    "    # k krotnie zwiększamy zmienną\n",
    "    data_for_knn_engine[\"Class_Eco\"]=data_for_knn_engine[\"Class_Eco\"]*k\n",
    "\n",
    "    trainResults, testResults, predictions, indices = CVTestKNN(df=data_for_knn_engine,n_neighbors=5, n_jobs=-1, p=2, features=featuresSet_for_knn)\n",
    "    print(k, np.mean(testResults))"
   ]
  },
  {
   "cell_type": "markdown",
   "metadata": {},
   "source": [
    "Nie poprawiło to wyniku dlatego nie skalujemy zmiennej Class_Eco. Zachowajmy poprzednie zmiany i przejdźmy do tuningu hiperparametrów"
   ]
  },
  {
   "cell_type": "code",
   "execution_count": 33,
   "metadata": {},
   "outputs": [],
   "source": [
    "data_for_knn_tune=data_for_knn_stand_2.copy()\n",
    "data_for_knn_tune[\"Type_of_Travel_Personal_Travel\"]=data_for_knn_tune[\"Type_of_Travel_Personal_Travel\"]*1.5\n",
    "data_for_knn_tune[\"Delay_in_Minutes\"]=data_for_knn_tune[\"Delay_in_Minutes\"]*0.4\n"
   ]
  },
  {
   "cell_type": "markdown",
   "metadata": {},
   "source": [
    "### 2.2. Tuning hiperparametrów "
   ]
  },
  {
   "cell_type": "markdown",
   "metadata": {},
   "source": [
    "Wybór odpowiedniej liczby sąsiadów"
   ]
  },
  {
   "cell_type": "code",
   "execution_count": 34,
   "metadata": {},
   "outputs": [
    {
     "name": "stdout",
     "output_type": "stream",
     "text": [
      "5 0.967045267900132 0.965405959009544\n",
      "15 0.9742537388625246 0.9738521927121369\n",
      "30 0.9728407273889961 0.9726699977322874\n",
      "50 0.969489094388275 0.9694845622291741\n",
      "100 0.9611708181507312 0.9611849153238907\n",
      "150 0.9543951685441527 0.9543976808637264\n",
      "200 0.9491412247282799 0.9490130586245545\n"
     ]
    }
   ],
   "source": [
    "# Ta pętla przechodzi po wartościach k i dla każdej wykonuje walidację krzyżową.\n",
    "for k in [5, 15, 30, 50, 100, 150, 200]:\n",
    "    trainResults, testResults, predictions, indices = CVTestKNN(df=data_for_knn_tune,n_neighbors=k, n_jobs=-1, p=2,features=featuresSet_for_knn)\n",
    "    print(k, np.mean(trainResults), np.mean(testResults))"
   ]
  },
  {
   "cell_type": "markdown",
   "metadata": {},
   "source": [
    "Najlepszy wynik otrzymaliśmy wokół 15 dlatego przeszukajmy dokładniej liczbę sąsiadów wokół tej liczby"
   ]
  },
  {
   "cell_type": "code",
   "execution_count": 35,
   "metadata": {},
   "outputs": [
    {
     "name": "stdout",
     "output_type": "stream",
     "text": [
      "13 0.974131157323944 0.9733354610801299\n",
      "15 0.9742537388625246 0.9738521927121369\n",
      "17 0.9742077280694748 0.97397189982725\n",
      "19 0.9741469796906737 0.973952564414866\n",
      "21 0.9739832705696815 0.97380991214783\n",
      "23 0.9737792084473021 0.9736313540596037\n",
      "25 0.9735870794561364 0.9732830512698263\n"
     ]
    }
   ],
   "source": [
    "for k in [13, 15, 17, 19, 21, 23, 25]:\n",
    "    trainResults, testResults, predictions, indices = CVTestKNN(df=data_for_knn_tune,n_neighbors=k, n_jobs=-1, p=2,features=featuresSet_for_knn)\n",
    "    print(k, np.mean(trainResults), np.mean(testResults))"
   ]
  },
  {
   "cell_type": "markdown",
   "metadata": {},
   "source": [
    "Najlepszy wynik otrzymaliśmy dla k=17. Sprawdźmy jak zmieni się wynik gdy zmienimy miarę dystansu na Manhatan. Przy okazji zmiany miary należy ponownie przeszukać liczbę sąsiadów bo inna miara może spowodować zmianę optymalnej liczby sąsiadów"
   ]
  },
  {
   "cell_type": "code",
   "execution_count": 36,
   "metadata": {},
   "outputs": [
    {
     "name": "stdout",
     "output_type": "stream",
     "text": [
      "13 0.9729193750978983 0.9723040682796921\n",
      "15 0.9729935719589152 0.9725132388959501\n",
      "17 0.9728653110929507 0.9725111836619845\n",
      "19 0.9727325458842898 0.972473500252174\n",
      "21 0.9725590014506491 0.972271522661417\n",
      "23 0.9722923133825532 0.9720230114466937\n",
      "25 0.9720160935753608 0.9717955010310046\n"
     ]
    }
   ],
   "source": [
    "for k in [13, 15, 17, 19, 21, 23, 25]:\n",
    "    trainResults, testResults, predictions, indices = CVTestKNN(df=data_for_knn_tune,n_neighbors=k, n_jobs=-1, p=1,features=featuresSet_for_knn)\n",
    "    print(k, np.mean(trainResults), np.mean(testResults))"
   ]
  },
  {
   "cell_type": "markdown",
   "metadata": {},
   "source": [
    "Wynik nie poprawił się, dlatego wyestymujmy najlepszy model dla wszystkich obserwacji, zapiszmy wyniki i przejdźmy do Random Forest"
   ]
  },
  {
   "cell_type": "code",
   "execution_count": 37,
   "metadata": {},
   "outputs": [
    {
     "name": "stdout",
     "output_type": "stream",
     "text": [
      "0.9844080716010193\n"
     ]
    }
   ],
   "source": [
    "trainResults, testResults, predictions, indices = CVTestKNN(df=data_for_knn_tune, n_neighbors=17, n_jobs=-1, p=2, features=featuresSet_for_knn,sampleSize=None)\n",
    "print(np.mean(testResults))\n",
    "modelkNN = {\n",
    "    \"name\":\"KNN\",\n",
    "    \"description\":\"Dopracowany model KNN, 17 sąsiadów, ograniczona liczba zmodyfkowanych zmiennych oraz standaryzacja min-max scaling\",\n",
    "    \"specification\":'n_neighbors=17, n_jobs=-1, p=2, features=featuresSet_for_knn',\n",
    "    \"trainResults\":trainResults.copy(),\n",
    "    \"testResults\":testResults.copy(),\n",
    "    \"predictions\":predictions.copy(),\n",
    "    \"indices\":indices.copy(),\n",
    "}"
   ]
  },
  {
   "cell_type": "markdown",
   "metadata": {},
   "source": [
    "## 3. Random Forest "
   ]
  },
  {
   "cell_type": "markdown",
   "metadata": {},
   "source": [
    "Dla Random Forest w procesie przygotowania zmiennych wystarczy jeżeli  zrobimy przekształcenie label encoding, ponieważ algorytm sam wytnie sobie odpowiednie poziomy i nie trzeba używać one hot encodingu, co dodatkowo pozwoli na ograniczenie wymiarowości oraz złożoności modelu."
   ]
  },
  {
   "cell_type": "code",
   "execution_count": 38,
   "metadata": {
    "scrolled": true
   },
   "outputs": [
    {
     "name": "stdout",
     "output_type": "stream",
     "text": [
      "Customer_Type {'Loyal Customer': 0, 'disloyal Customer': 1}\n",
      "Type_of_Travel {'Business travel': 0, 'Personal Travel': 1}\n",
      "Class {'Business': 0, 'Eco': 1, 'Eco Plus': 2}\n",
      "Inflight_wifi_service {0: 0, 1: 1, 2: 2, 3: 3, 4: 4, 5: 5}\n",
      "Departure_Or_Arrival_time_convenient {0: 0, 1: 1, 2: 2, 3: 3, 4: 4, 5: 5}\n",
      "Ease_of_Online_booking {0: 0, 1: 1, 2: 2, 3: 3, 4: 4, 5: 5}\n",
      "Gate_location {1: 0, 2: 1, 3: 2, 4: 3, 5: 4}\n",
      "Food_and_drink {1: 0, 2: 1, 3: 2, 4: 3, 5: 4}\n",
      "Online_boarding {0: 0, 1: 1, 2: 2, 3: 3, 4: 4, 5: 5}\n",
      "Seat_comfort {1: 0, 2: 1, 3: 2, 4: 3, 5: 4}\n",
      "Inflight_entertainment {1: 0, 2: 1, 3: 2, 4: 3, 5: 4}\n",
      "Onboard_service {1: 0, 2: 1, 3: 2, 4: 3, 5: 4}\n",
      "Leg_room_service {1: 0, 2: 1, 3: 2, 4: 3, 5: 4}\n",
      "Baggage_handling {1: 0, 2: 1, 3: 2, 4: 3, 5: 4}\n",
      "Checkin_service {1: 0, 2: 1, 3: 2, 4: 3, 5: 4}\n",
      "Inflight_service {1: 0, 2: 1, 3: 2, 4: 3, 5: 4}\n",
      "Cleanliness {1: 0, 2: 1, 3: 2, 4: 3, 5: 4}\n",
      "satisfaction {'neutral or dissatisfied': 0, 'satisfied': 1}\n"
     ]
    }
   ],
   "source": [
    "# Robimy przekształcenie zmiennych za pomocą funkcji Label Encoder, która nadaje kolejnym poziomom wartości numeryczne. \n",
    "# Dla stringów robi to alfabetycznie\n",
    "data_for_rf=df.copy()\n",
    "mapy={}\n",
    "for feature in cat_str_features+cat_dig_features:\n",
    "    le = preprocessing.LabelEncoder()\n",
    "    data_for_rf[feature] = le.fit_transform(df[feature])\n",
    "    mapy[feature] = le\n",
    "    print(feature, dict(zip(mapy[feature].classes_,mapy[feature].transform(mapy[feature].classes_))))\n",
    "le = preprocessing.LabelEncoder()\n",
    "data_for_rf['satisfaction'] = le.fit_transform(df['satisfaction'])\n",
    "mapy['satisfaction']=le\n",
    "print('satisfaction', dict(zip(mapy['satisfaction'].classes_,mapy['satisfaction'].transform(mapy['satisfaction'].classes_))))"
   ]
  },
  {
   "cell_type": "code",
   "execution_count": 39,
   "metadata": {},
   "outputs": [],
   "source": [
    "features_for_rf=data_for_rf.columns.tolist()\n",
    "features_for_rf.remove('satisfaction')"
   ]
  },
  {
   "cell_type": "code",
   "execution_count": 40,
   "metadata": {},
   "outputs": [],
   "source": [
    "\n",
    "# Przygotujmy wrapper\n",
    "def CVTestRFClass(df,nFolds = 5, randomState=42, debug=False, features=features, *args, **kwargs):\n",
    "    kf = KFold(n_splits=nFolds, shuffle=True, random_state=randomState)\n",
    "\n",
    "    # listy do przechowywania wyników:\n",
    "    testResults = []\n",
    "    trainResults = []\n",
    "    predictions = []\n",
    "    indices = []\n",
    "\n",
    "    # Pętla walidująca model na kolejnych foldach\n",
    "    for train, test in kf.split(df.index.values):\n",
    "        # Przygotowanie estymatora\n",
    "        clf = RandomForestClassifier(*args, **kwargs, random_state=randomState, n_jobs=-1)\n",
    "        if debug:\n",
    "            print(clf)\n",
    "        # Trenowanie modelu\n",
    "        clf.fit(df.iloc[train][features], df.iloc[train][target])\n",
    "\n",
    "        # Przygotowanie prognoz dla zbioru treningowego i testowego\n",
    "        # UWAGA Sklearn zwracał będzie dwie kolumny prawdopodobieństw dla obydwu klas\n",
    "        predsTrain = clf.predict_proba(df.iloc[train][features])[:,1]\n",
    "        preds = clf.predict_proba(df.iloc[test][features])[:,1]\n",
    "        \n",
    "        # Zachowajmy informacje o predykcjach dla tego foldu\n",
    "        predictions.append(preds.tolist().copy())\n",
    "        \n",
    "        # Razem z indeksami w oryginalnym data frame\n",
    "        indices.append(df.iloc[test].index.tolist().copy())\n",
    "        \n",
    "        # Policzenie dopasowania za pomocą metryki ROC-AUC\n",
    "        trainScore = roc_auc_score((df[target].iloc[train]==1).astype(int), predsTrain)\n",
    "        testScore = roc_auc_score((df[target].iloc[test]==1).astype(int), preds)\n",
    "        \n",
    "        # Zapisanie wyników do listy \n",
    "        trainResults.append(trainScore)\n",
    "        testResults.append(testScore)\n",
    "        \n",
    "        # Informowanie o każdym foldzie razem z wynikami treningowymi możemy opcjonalnie wyświetlać w trakcie\n",
    "        if debug:\n",
    "            print(\"Train AUC:\", trainScore,\n",
    "                  \"Valid AUC:\", testScore)\n",
    "        \n",
    "    return trainResults, testResults, predictions, indices\n"
   ]
  },
  {
   "cell_type": "markdown",
   "metadata": {},
   "source": [
    "Wytrenujmy pierwszy model z domyślnymi hiperparametrami."
   ]
  },
  {
   "cell_type": "code",
   "execution_count": 41,
   "metadata": {
    "scrolled": false
   },
   "outputs": [
    {
     "name": "stdout",
     "output_type": "stream",
     "text": [
      "RandomForestClassifier(n_jobs=-1, random_state=42)\n",
      "Train AUC: 1.0 Valid AUC: 0.993934361530191\n",
      "RandomForestClassifier(n_jobs=-1, random_state=42)\n",
      "Train AUC: 1.0 Valid AUC: 0.9935994325044307\n",
      "RandomForestClassifier(n_jobs=-1, random_state=42)\n",
      "Train AUC: 1.0000000000000002 Valid AUC: 0.9936882550430547\n",
      "RandomForestClassifier(n_jobs=-1, random_state=42)\n",
      "Train AUC: 1.0 Valid AUC: 0.9947042661694138\n",
      "RandomForestClassifier(n_jobs=-1, random_state=42)\n",
      "Train AUC: 1.0 Valid AUC: 0.9940454113417723\n",
      "1.0 0.9939943453177724 0.006005654682227579\n"
     ]
    }
   ],
   "source": [
    "trainResults, testResults, predictions, indices = CVTestRFClass(df=data_for_rf,debug=True)\n",
    "print(np.mean(trainResults), np.mean(testResults), np.mean(trainResults) - np.mean(testResults))"
   ]
  },
  {
   "cell_type": "markdown",
   "metadata": {},
   "source": [
    "Bez tuningu hiperparametrów uzyskaliśmy wynik 0.99399, co jest już najlepszym dotychczasowym wynikiem. Jednakże widać, że na zbiorze treningowym osiągamy wartość 1 co znaczy o przetrenowaniu modelu. Sprawdźmy czy ustawienie parametrów na odpowiednim poziomie poprawi rezultaty."
   ]
  },
  {
   "cell_type": "code",
   "execution_count": 42,
   "metadata": {},
   "outputs": [
    {
     "name": "stdout",
     "output_type": "stream",
     "text": [
      "10 0.9999794779565564 0.9898658018486317 0.010113676107924685\n",
      "25 0.999999635805309 0.9928311058328166 0.007168529972492399\n",
      "50 0.9999999962455715 0.9935360387794795 0.006463957466091963\n",
      "100 1.0 0.9939943453177724 0.006005654682227579\n",
      "200 1.0 0.9941787749913564 0.005821225008643571\n",
      "500 1.0 0.9942308713572483 0.0057691286427516975\n"
     ]
    }
   ],
   "source": [
    "# Pętla po parametrze n_estimators\n",
    "for k in [10, 25, 50, 100, 200, 500]:\n",
    "    trainResults, testResults, predictions, indices = CVTestRFClass(df=data_for_rf,n_estimators=k)\n",
    "    print(k, np.mean(trainResults), np.mean(testResults), np.mean(trainResults) - np.mean(testResults))"
   ]
  },
  {
   "cell_type": "markdown",
   "metadata": {},
   "source": [
    "Dla 500 estymatorow otrzymujemy najlepszy wynik, który względem bazowego poprawił się nieznacznie. Dla dalszego modelowania aby przyspieszyć ten proces ustawimy liczbę drzew na 100, jednakże ostateczny wynik zawierał będzie większą liczbę estymatorów. Przyjrzyjmy się teraz maksymalnemu poziomowi głębokości drzewa."
   ]
  },
  {
   "cell_type": "code",
   "execution_count": 43,
   "metadata": {},
   "outputs": [
    {
     "name": "stdout",
     "output_type": "stream",
     "text": [
      "10 0.9919367689787476 0.9899935073276062 0.001943261651141448\n",
      "12 0.9953285131570679 0.9919468430479306 0.003381670109137369\n",
      "14 0.9975466293803411 0.9929930441220206 0.004553585258320503\n",
      "16 0.9989158686983354 0.993561395570645 0.005354473127690329\n",
      "18 0.999592638799059 0.9938161300452769 0.005776508753782106\n",
      "20 0.9998692971894251 0.9939739585157582 0.005895338673666872\n",
      "22 0.9999651248009765 0.9939472810712837 0.006017843729692829\n",
      "24 0.99999413956173 0.9939778255942532 0.006016313967476816\n",
      "26 0.9999994775474847 0.9940348069251698 0.005964670622314983\n",
      "28 0.9999999665081001 0.9940041685688932 0.005995797939206904\n"
     ]
    }
   ],
   "source": [
    "for k in range(10,30,2):\n",
    "    trainResults, testResults, predictions, indices = CVTestRFClass(df=data_for_rf,n_estimators=100, max_depth=k)\n",
    "    print(k, np.mean(trainResults), np.mean(testResults), np.mean(trainResults) - np.mean(testResults))"
   ]
  },
  {
   "cell_type": "markdown",
   "metadata": {},
   "source": [
    "Wybieramy głębokość pojedynczego drzewa na poziomie 26. Sprawdźmy teraz maksymalną liczbę zmiennych w jednym drzewie"
   ]
  },
  {
   "cell_type": "code",
   "execution_count": 44,
   "metadata": {},
   "outputs": [
    {
     "name": "stdout",
     "output_type": "stream",
     "text": [
      "6 0.9999982443892211 0.9944873765216155 0.005510867867605684\n",
      "8 0.999997585617324 0.9945372279477398 0.005460357669584193\n",
      "10 0.999997484666932 0.9946159844274408 0.005381500239491133\n",
      "12 0.9999972530497947 0.9945119351845285 0.005485317865266182\n",
      "14 0.9999968396552834 0.994552661029838 0.005444178625445439\n",
      "16 0.9999982047517317 0.994475688683284 0.00552251606844778\n",
      "18 0.9999986752518565 0.9942088518200614 0.005789823431795127\n",
      "20 0.9999983064836382 0.9938463940889927 0.00615191239464552\n"
     ]
    }
   ],
   "source": [
    "for k in range(6, len(features) + 1,2):\n",
    "    trainResults, testResults, predictions, indices = CVTestRFClass(df=data_for_rf,features=features_for_rf, n_estimators=100, max_depth=26,\n",
    "                                                                    max_features=k)\n",
    "    print(k, np.mean(trainResults), np.mean(testResults), np.mean(trainResults) - np.mean(testResults))"
   ]
  },
  {
   "cell_type": "markdown",
   "metadata": {},
   "source": [
    "Najlepszy wynik otrzymaliśmy dla 10 zmiennych w jednym drzewie. Sprawdźmy również parametry min_samples_split oraz min_samples_leaf."
   ]
  },
  {
   "cell_type": "code",
   "execution_count": 45,
   "metadata": {},
   "outputs": [
    {
     "name": "stdout",
     "output_type": "stream",
     "text": [
      "2 0.999997484666932 0.9946159825232979 0.005381502143634087\n",
      "4 0.9999820540572955 0.9947032843391799 0.0052787697181155835\n",
      "6 0.9999243908429374 0.9947354158095788 0.005188975033358578\n",
      "8 0.9998142334418023 0.9946778893816832 0.005136344060119091\n",
      "10 0.9996572144897649 0.9947441531709981 0.004913061318766787\n",
      "15 0.9992111424989073 0.9946536326964933 0.004557509802413984\n",
      "20 0.998784972472768 0.9946678847552801 0.004117087717487866\n",
      "30 0.9980998006444606 0.9944970501209554 0.003602750523505227\n"
     ]
    }
   ],
   "source": [
    "for k in [2, 4, 6, 8, 10, 15, 20, 30]:\n",
    "    trainResults, testResults, predictions, indices = CVTestRFClass(df=data_for_rf,features=features_for_rf, n_estimators=100, max_depth=26,\n",
    "                                                                    max_features=10, min_samples_split=k)\n",
    "    print(k, np.mean(trainResults), np.mean(testResults), np.mean(trainResults) - np.mean(testResults))"
   ]
  },
  {
   "cell_type": "markdown",
   "metadata": {},
   "source": [
    "Minimalnie 10 obserwacji przed kolejnym podziałem najlepiej optymalizuje wynik algorytmu. Dlatego minimalna liczba obserwacji w liściu musi mieć maksymalnie 9 obserwacji."
   ]
  },
  {
   "cell_type": "code",
   "execution_count": 46,
   "metadata": {},
   "outputs": [
    {
     "name": "stdout",
     "output_type": "stream",
     "text": [
      "1 0.9996572144897649 0.9947441531709981 0.004913061318766787\n",
      "2 0.9994983189697402 0.9946902616724144 0.004808057297325807\n",
      "4 0.9992102827200761 0.9946159722863811 0.004594310433694959\n",
      "6 0.9986839808554308 0.9945007621965475 0.00418321865888327\n",
      "8 0.9980885162815006 0.9943459207786439 0.003742595502856716\n"
     ]
    }
   ],
   "source": [
    "for k in [1,2, 4, 6, 8]:\n",
    "    trainResults, testResults, predictions, indices = CVTestRFClass(df=data_for_rf,features=features_for_rf, n_estimators=100, max_depth=26,\n",
    "                                                                    max_features=10, min_samples_split=10,min_samples_leaf=k)\n",
    "    print(k, np.mean(trainResults), np.mean(testResults), np.mean(trainResults) - np.mean(testResults))"
   ]
  },
  {
   "cell_type": "markdown",
   "metadata": {},
   "source": [
    "Najlepszy wynik uzyskano przy głębokości 26, maksymalnej liczbie zmiennych 10, obserwacji przed splitem 10 i min w liściu po splicie 1. Dla tych parametrów oszacujmy model z większa liczbą drzew i zapiszmy wyniki."
   ]
  },
  {
   "cell_type": "code",
   "execution_count": 47,
   "metadata": {},
   "outputs": [
    {
     "name": "stdout",
     "output_type": "stream",
     "text": [
      "0.9948264300742988\n"
     ]
    }
   ],
   "source": [
    "trainResults, testResults, predictions, indices = CVTestRFClass(df=data_for_rf,features=features_for_rf,n_estimators=500, max_depth=26,\n",
    "                                                                    max_features=10,min_samples_split=10, min_samples_leaf=1)\n",
    "print(np.mean(testResults))\n",
    "\n",
    "modelRF = {\n",
    "    \"name\":\"RF\",\n",
    "    \"description\":\"Model RF, ze zmiennymi kategorycznymi z LE\",\n",
    "    \"specification\":'n_estimators=500, max_depth=26, max_features=10, min_samples_split=10, min_samples_leaf=1',\n",
    "    \"trainResults\":trainResults.copy(),\n",
    "    \"testResults\":testResults.copy(),\n",
    "    \"predictions\":predictions.copy(),\n",
    "    \"indices\":indices.copy(),\n",
    "}"
   ]
  },
  {
   "cell_type": "markdown",
   "metadata": {},
   "source": [
    "## 4. Gradient Boosting "
   ]
  },
  {
   "cell_type": "markdown",
   "metadata": {},
   "source": [
    "Ostatnim zastosowanym algorytmem jest gradient boosting, który bazując na wielu prostych modelach będzie wykorzystywał wiedzę poprzedniej iteracji i poprawiał błędy. Pozwoli to na uzyskanie jeszcze lepszych wyników, a ponadto gradient boosting posiada możliwość stosowania regularyzacji, która umożliwi ograniczenie poziomu przeuczenia się na danych treningowych. \n",
    "\n",
    "Ponownie zacznijmy od przygotowania zmiennych, która wygląda podobnie jak w przypadku Random Forest."
   ]
  },
  {
   "cell_type": "code",
   "execution_count": 48,
   "metadata": {},
   "outputs": [
    {
     "name": "stdout",
     "output_type": "stream",
     "text": [
      "Customer_Type {'Loyal Customer': 0, 'disloyal Customer': 1}\n",
      "Type_of_Travel {'Business travel': 0, 'Personal Travel': 1}\n",
      "Class {'Business': 0, 'Eco': 1, 'Eco Plus': 2}\n",
      "Inflight_wifi_service {0: 0, 1: 1, 2: 2, 3: 3, 4: 4, 5: 5}\n",
      "Departure_Or_Arrival_time_convenient {0: 0, 1: 1, 2: 2, 3: 3, 4: 4, 5: 5}\n",
      "Ease_of_Online_booking {0: 0, 1: 1, 2: 2, 3: 3, 4: 4, 5: 5}\n",
      "Gate_location {1: 0, 2: 1, 3: 2, 4: 3, 5: 4}\n",
      "Food_and_drink {1: 0, 2: 1, 3: 2, 4: 3, 5: 4}\n",
      "Online_boarding {0: 0, 1: 1, 2: 2, 3: 3, 4: 4, 5: 5}\n",
      "Seat_comfort {1: 0, 2: 1, 3: 2, 4: 3, 5: 4}\n",
      "Inflight_entertainment {1: 0, 2: 1, 3: 2, 4: 3, 5: 4}\n",
      "Onboard_service {1: 0, 2: 1, 3: 2, 4: 3, 5: 4}\n",
      "Leg_room_service {1: 0, 2: 1, 3: 2, 4: 3, 5: 4}\n",
      "Baggage_handling {1: 0, 2: 1, 3: 2, 4: 3, 5: 4}\n",
      "Checkin_service {1: 0, 2: 1, 3: 2, 4: 3, 5: 4}\n",
      "Inflight_service {1: 0, 2: 1, 3: 2, 4: 3, 5: 4}\n",
      "Cleanliness {1: 0, 2: 1, 3: 2, 4: 3, 5: 4}\n",
      "satisfaction {'neutral or dissatisfied': 0, 'satisfied': 1}\n"
     ]
    }
   ],
   "source": [
    "# Robimy przekształcenie zmiennych za pomocą funkcji Label Encoder, która nadaje kolejnym poziomom wartości numeryczne. \n",
    "# Dla stringów robi to alfabetycznie\n",
    "data_for_xgb=df.copy()\n",
    "mapy={}\n",
    "for feature in cat_str_features+cat_dig_features:\n",
    "    le = preprocessing.LabelEncoder()\n",
    "    data_for_xgb[feature] = le.fit_transform(df[feature])\n",
    "    mapy[feature] = le\n",
    "    print(feature, dict(zip(mapy[feature].classes_,mapy[feature].transform(mapy[feature].classes_))))\n",
    "le = preprocessing.LabelEncoder()\n",
    "data_for_xgb['satisfaction'] = le.fit_transform(df['satisfaction'])\n",
    "mapy['satisfaction']=le\n",
    "print('satisfaction', dict(zip(mapy['satisfaction'].classes_,mapy['satisfaction'].transform(mapy['satisfaction'].classes_))))"
   ]
  },
  {
   "cell_type": "code",
   "execution_count": 49,
   "metadata": {},
   "outputs": [],
   "source": [
    "features_for_xgb=data_for_xgb.columns.tolist()\n",
    "features_for_xgb.remove('satisfaction')"
   ]
  },
  {
   "cell_type": "markdown",
   "metadata": {},
   "source": [
    "Zdefiniowanie funkcji do trenowania gradient boostingu oraz drugiej do walidacji krzyżowej."
   ]
  },
  {
   "cell_type": "code",
   "execution_count": 89,
   "metadata": {},
   "outputs": [],
   "source": [
    "def run_xgb(train, validate, features, target,  # argumenty obowiązkowe\n",
    "            eta=0.03, max_depth=7, subsample = 0.7, colsample_bytree = 0.7, # hiperparametry\n",
    "            colsample_bylevel=1,lambdaX = 1, alpha=0, gamma=0, min_child_weight=0, # hiperparametry\n",
    "            rate_drop = 0.2, skip_drop=0.5, # hiperparametry dla algorytmu dart\n",
    "            num_boost_round = 500, early_stopping_rounds = 30, # hiperparametry\n",
    "            debug=True, eval_metric= [\"auc\"], objective = \"binary:logistic\", # konfiguracja\n",
    "            seed=42, booster = \"gbtree\", tree_method=\"hist\", grow_policy=\"depthwise\",\n",
    "           verbosity=1, silent=False): # konfiguracja\n",
    "    '''\n",
    "    Uniwersalny wrapper dla XGB dla gbtree i dart\n",
    "    Więcej opcji https://github.com/dmlc/xgboost/blob/master/doc/parameter.md\n",
    "    \n",
    "    Parametry\n",
    "    ----------\n",
    "    train, validate, features, target : wymagane zmienne bez domyślnych wartości\n",
    "    train, validate : pd.DataFrames z kolumnami opisanymi w features i target\n",
    "    features : lista zmiennych do wykorzystania w trenowaniu\n",
    "    target : nazwa zmiennej objasnianej\n",
    "    \n",
    "    --- Zmienne wspólne dla gbtree i dart\n",
    "        --- Zmienne właściwe dla Ensamble/Boosting\n",
    "        eta : \"learning rate\"\n",
    "        max_depth=7 : maksymalna głębokość drzew [0,∞]\n",
    "        subsample : udział (0,1] obserwacji do treningu jednej iteracji\n",
    "        colsample_bytree : udział (0,1] kolumn do treningu jednej iteracji\n",
    "        colsample_bylevel : udział  (0,1] kolumn na poziom do treningu jednej iteracji\n",
    "        --- Zmienne regularyzacyjne\n",
    "        lambdaX=0 : regularyzacja L2 [0,∞]\n",
    "        alpha=0 : regularyzacja L1 [0,∞]\n",
    "        gamma=1 : minimalna redukcja funkcji straty\n",
    "        min_child_weight=0 : minimalna suma wg poddrzewa\n",
    "\n",
    "    --- Zmienne dla algorytmu dart\n",
    "    rate_drop : \n",
    "    skip_drop : \n",
    "    \n",
    "    --- Zmienne dla XGB, opis/agorytm/liczba drzew etc.\n",
    "    num_boost_round : maksymalna liczba iteracji\n",
    "    early_stopping_rounds : margines iteracji dla early stopping\n",
    "    debug : Czy włączyć pełne opisy.\n",
    "    eval_metric : Pełna lista dostępna https://github.com/dmlc/xgboost/blob/master/doc/parameter.md \n",
    "    objective : reg:linear, reg:logistic, binary:logistic, multi:softmax lub inne Pełna lista dostępna https://github.com/dmlc/xgboost/blob/master/doc/parameter.md \n",
    "    seed : random seed\n",
    "    booster : ‘auto’, ‘exact’, ‘approx’, ‘hist’, ‘gpu_exact’, ‘gpu_hist’- silnik dla drzew gbtree (cart), dart (gbtree z dropoutem) lub gblinear\n",
    "    tree_method : zobacz http://xgboost.readthedocs.io/en/latest/parameter.html\n",
    "    grow_policy : depthwise, lossguide\n",
    "    '''\n",
    "   \n",
    "    start_time = time.time()\n",
    "    paramList= ['eta', 'max_depth',\n",
    "         'subsample', 'colsample_bytree', 'colsample_bylevel',\n",
    "         'lambdaX', 'alpha', 'gamma', 'min_child_weight',\n",
    "         'num_boost_round', 'early_stopping_rounds',\n",
    "         'rate_drop', 'skip_drop',\n",
    "         'eval_metric', 'objective', \n",
    "          'seed', 'booster', 'tree_method', 'grow_policy', 'verbosity', 'silent']\n",
    "    \n",
    "    # Stworzenie słownika do przekazania do XGB\n",
    "    params = dict()\n",
    "    for param in paramList:\n",
    "        params[param]=eval(param)\n",
    "    if(debug):\n",
    "        for param in paramList:\n",
    "            print(param, eval(param), end=\", \")\n",
    "        print('\\nLength train:', len(train.index))\n",
    "        print('Length valid:', len(validate.index))\n",
    "\n",
    "    # Automatyczne przekazanie liczby klas dla wielu poziomów klasyfikacji\n",
    "    if (params[\"objective\"]==\"multi:softmax\" or params[\"objective\"]==\"multi:softprob\"):\n",
    "        params[\"num_class\"]=train[target].nunique()\n",
    "    params[\"silent\"]=1\n",
    "    \n",
    "    # XGB wymaga w słowniku parametrów słowa kluczowego lambda, poniżej workaround\n",
    "    params[\"lambda\"]=lambdaX\n",
    "    \n",
    "    # Przekształcenie zbiorów do struktury DMatrix\n",
    "    # Struktura danych DMatrix pozwala na efektywne tworzenie drzew\n",
    "    dtrain = xgb.DMatrix(train[features].values, train[target].values, feature_names=train[features].columns.values)\n",
    "    dvalid = xgb.DMatrix(validate[features].values, validate[target].values, feature_names=validate[features].columns.values)\n",
    "\n",
    "    # Stworzenie listy zbiorów do ewaluacji\n",
    "    evals = [(dtrain, 'train'), (dvalid, 'valid')]\n",
    "    # Stworzenie zmiennej słownikowej do przekazania\n",
    "    train_history = dict()\n",
    "    # Uruchomienie algorytmu trenującego\n",
    "    gbm = xgb.train(params, dtrain, \n",
    "                num_boost_round, early_stopping_rounds=early_stopping_rounds,\n",
    "                evals=evals, evals_result=train_history, verbose_eval=debug)\n",
    "\n",
    "    # Obliczenai statystyk i dodatkowych wartości\n",
    "    score = gbm.best_score\n",
    "\n",
    "    # Przekształcenie historii trenowania do Pandas Data Frame\n",
    "    trainHistory = dict()\n",
    "    for key in train_history.keys():\n",
    "        for metric in train_history[key].keys():\n",
    "            trainHistory[key+metric.upper()]=train_history[key][metric]\n",
    "    train_history = pd.DataFrame(trainHistory)\n",
    "\n",
    "    # Zapis przewidywanych wartości dla zbioru walidacyjnego dla najlepszej (z punktu widzenia walidacji) iteracji\n",
    "    trainPred = gbm.predict(dtrain, iteration_range=(0, gbm.best_iteration))\n",
    "    testPred = gbm.predict(dvalid, iteration_range=(0, gbm.best_iteration))\n",
    "\n",
    "    # Przygotowanie posortowanej listy dla wazności zmiennych, zamaist słownika\n",
    "    imp = gbm.get_fscore()\n",
    "    imp = sorted(imp.items(), key=itemgetter(1), reverse=True)\n",
    "\n",
    "    impFig=None\n",
    "    if(debug):\n",
    "        print('Czas trenowania: {} minut'.format(round((time.time() - start_time)/60, 2)))\n",
    "        # Skorzystanie z wbudowanej funkcji wizualizującej waznośc zmiennych\n",
    "        impFig, ax = plt.subplots()\n",
    "        xgb.plot_importance(gbm, ax=ax)\n",
    "    return score, trainPred, testPred, train_history, impFig, imp"
   ]
  },
  {
   "cell_type": "code",
   "execution_count": 90,
   "metadata": {},
   "outputs": [],
   "source": [
    "def CVTestXGB(df,nFolds = 5, randomState=42, features=features, debug=False, *args, **kwargs):\n",
    "    \n",
    "    # Przygotujmy walidację krzyżową\n",
    "    kf = KFold(n_splits=nFolds, shuffle=True, random_state=randomState)\n",
    "\n",
    "    # Zapisanie wyników ze zbioru treningowego i testowego\n",
    "    testResults = []\n",
    "    trainResults = []\n",
    "    \n",
    "    # Przechowajmy również predykcje dla poszczególnych foldów\n",
    "    predictions = []\n",
    "    \n",
    "    # Razem z informacją o tym, jaki był ich indeks w oryginalnym zbiorze danych\n",
    "    indices = []\n",
    "    \n",
    "    # Przygotujmy listę historii\n",
    "    hists = []\n",
    "    fold = 1\n",
    "    for train, test in kf.split(df.index.values):\n",
    "        \n",
    "            \n",
    "        # Przygotowanie estymatora\n",
    "        score, trainPred, testPred, train_history, impFig, imp = run_xgb(df.iloc[train], df.iloc[test],\n",
    "                                                                         features, target, debug=debug, *args, **kwargs)\n",
    "\n",
    "        # Zachowajmy informacje o predykcjach dla tego foldu\n",
    "        predictions.append(testPred.tolist().copy())\n",
    "        \n",
    "        # Razem z indeksami w oryginalnym data frame\n",
    "        indices.append(df.iloc[test].index.tolist().copy())\n",
    "        \n",
    "        # Informowanie o każdym foldzie razem z wynikami treningowymi możemy opcjonalnie wyświetlać w trakcie\n",
    "        trainScore = roc_auc_score(df[target].iloc[train], trainPred)\n",
    "        testScore = roc_auc_score(df[target].iloc[test], testPred)\n",
    "        \n",
    "        trainResults.append(trainScore)\n",
    "        testResults.append(testScore)\n",
    "        \n",
    "        hists.append(train_history.add_suffix('_'+str(fold)))\n",
    "        fold+=1\n",
    "        \n",
    "        if debug:\n",
    "            print(\"Train AUC:\", trainScore,\n",
    "                  \"Valid AUC:\", testScore)\n",
    "        \n",
    "    return trainResults, testResults, predictions, indices, pd.concat(hists, axis=1)"
   ]
  },
  {
   "cell_type": "markdown",
   "metadata": {},
   "source": [
    "Zastosujmy algorytm xgboost dla standardowych parametrów z zastosowaną walidacją krzyżową."
   ]
  },
  {
   "cell_type": "code",
   "execution_count": 122,
   "metadata": {
    "scrolled": true
   },
   "outputs": [
    {
     "name": "stdout",
     "output_type": "stream",
     "text": [
      "0.9979626287868385 0.9951670594247041\n"
     ]
    }
   ],
   "source": [
    "trainResults, testResults, predictions, indices, hists = CVTestXGB(df=data_for_xgb,features=features_for_xgb, verbosity=0)\n",
    "print(np.mean(trainResults), np.mean(testResults))"
   ]
  },
  {
   "cell_type": "markdown",
   "metadata": {},
   "source": [
    "Bez tuningu hiperparametrów uzyskujemy wynik 0.99516 na zbiorze testowym, co jest lepszym wynikiem niż dopracowany model Random Forest. Przeprowadźmy optymalizacje hiperparametrów. Ze względu na ogromną ilość parametrów skupimy się w tym badaniu na kilku podstawowych, czyli eta, max_depth, subsample, colsample_bytree, czy na parametrach odpowiadających za regularyzacje. Zacznijmy od parametru eta, który mówi o tym w jakim stopniu kolejny prosty model ma poprawić błędy poprzedniego."
   ]
  },
  {
   "cell_type": "code",
   "execution_count": 93,
   "metadata": {},
   "outputs": [
    {
     "name": "stdout",
     "output_type": "stream",
     "text": [
      "0.001 0.9872168369818878 0.9866503963606267\n",
      "0.01 0.9939634528297697 0.9927737710877714\n",
      "0.05 0.9985880783033517 0.9951913257460963\n",
      "0.1 0.998842239060082 0.995117461504767\n",
      "0.2 0.9984956290732162 0.9948508445655897\n",
      "0.4 0.998386069796523 0.9946087512896276\n",
      "0.7 0.9971434301154554 0.9937493553336167\n"
     ]
    },
    {
     "data": {
      "image/png": "[encoded data removed]",
      "text/plain": [
       "<Figure size 432x288 with 1 Axes>"
      ]
     },
     "metadata": {
      "needs_background": "light"
     },
     "output_type": "display_data"
    }
   ],
   "source": [
    "rang = [0.001,0.01,0.05,0.1,0.2,0.4,0.7]\n",
    "results = []\n",
    "for x in rang:\n",
    "    trainResults, testResults, predictions, indices, hists = CVTestXGB(df=data_for_xgb,features=features_for_xgb,eta=x,verbosity=0)\n",
    "    print(x,np.mean(trainResults), np.mean(testResults))\n",
    "    results.append(np.mean(testResults))\n",
    "    \n",
    "plt.plot(list(rang), results)\n",
    "plt.show()"
   ]
  },
  {
   "cell_type": "markdown",
   "metadata": {},
   "source": [
    "Niewielką poprawę uzyskujemy przy zastosowaniu parametru eta=0.05. Kolejnym parametrem, który warto przetestować jest głębokość pojedynczego drzewa"
   ]
  },
  {
   "cell_type": "code",
   "execution_count": 94,
   "metadata": {},
   "outputs": [
    {
     "name": "stdout",
     "output_type": "stream",
     "text": [
      "4 0.9950463131621448 0.9940007601458645\n",
      "5 0.9967287970125778 0.9948078595418369\n",
      "6 0.9980684184064799 0.9951425884482774\n",
      "7 0.9985880783033517 0.9951913257460963\n",
      "8 0.9992820099065053 0.9952590553161695\n",
      "9 0.9995890130829153 0.9952620170198113\n",
      "10 0.999763702402541 0.9952410385695618\n",
      "11 0.9999256341281579 0.9952014179937028\n"
     ]
    },
    {
     "data": {
      "image/png": "[encoded data removed]",
      "text/plain": [
       "<Figure size 432x288 with 1 Axes>"
      ]
     },
     "metadata": {
      "needs_background": "light"
     },
     "output_type": "display_data"
    }
   ],
   "source": [
    "rang = range(4,12)\n",
    "results = []\n",
    "for x in rang:\n",
    "    trainResults, testResults, predictions, indices, hists = CVTestXGB(df=data_for_xgb,features=features_for_xgb,eta=0.05,max_depth=x,verbosity=0)\n",
    "    print(x, np.mean(trainResults),np.mean(testResults))\n",
    "    results.append(np.mean(testResults))\n",
    "    \n",
    "plt.plot(list(rang), results)\n",
    "plt.show()"
   ]
  },
  {
   "cell_type": "markdown",
   "metadata": {},
   "source": [
    "Według wyników można uznać, że 9 to najlepsza głębokość drzewa i przejść do szukania najlepszej wartości udziału obserwacji oraz zmiennych w danym drzewie"
   ]
  },
  {
   "cell_type": "code",
   "execution_count": 106,
   "metadata": {},
   "outputs": [
    {
     "name": "stdout",
     "output_type": "stream",
     "text": [
      "0.2 0.9984842390272235 0.9945153676113581\n",
      "0.3 0.9989767823264846 0.9948267588576627\n",
      "0.4 0.999432472549505 0.9950078446668167\n",
      "0.5 0.9994276493784128 0.9951018199243199\n",
      "0.6 0.9995002221065785 0.9951756693180831\n",
      "0.7 0.9995890130829153 0.9952620170198113\n",
      "0.8 0.9995600741373953 0.9953145835137669\n",
      "0.9 0.9995318346999389 0.9953273398722384\n"
     ]
    },
    {
     "data": {
      "image/png": "[encoded data removed]",
      "text/plain": [
       "<Figure size 432x288 with 1 Axes>"
      ]
     },
     "metadata": {
      "needs_background": "light"
     },
     "output_type": "display_data"
    }
   ],
   "source": [
    "rang = range(2,10)\n",
    "rang=list(map(lambda x:x/10,rang))\n",
    "results = []\n",
    "for x in rang:\n",
    "    trainResults, testResults, predictions, indices, hists = CVTestXGB(df=data_for_xgb,features=features_for_xgb,eta=0.05,max_depth=9,subsample=x,verbosity=0)\n",
    "    print(x, np.mean(trainResults), np.mean(testResults))\n",
    "    results.append(np.mean(testResults))\n",
    "    \n",
    "plt.plot(rang, results)\n",
    "plt.show()"
   ]
  },
  {
   "cell_type": "markdown",
   "metadata": {},
   "source": [
    "Najlepszy wynik ustalił się przy wartości 0.9, dlatego zostawiamy taką wartość. Teraz przeszukajmy najlepszą wartość udziału zmiennych w drzewie"
   ]
  },
  {
   "cell_type": "code",
   "execution_count": 107,
   "metadata": {},
   "outputs": [
    {
     "name": "stdout",
     "output_type": "stream",
     "text": [
      "0.2 0.998407582125405 0.9930538184285664\n",
      "0.3 0.9995504128327983 0.9945630324926981\n",
      "0.4 0.9997025229722981 0.9949936025478632\n",
      "0.5 0.9997444809748901 0.9951742872470497\n",
      "0.6 0.9996810631252732 0.9952555685144704\n",
      "0.7 0.9995318346999389 0.9953273398722384\n",
      "0.8 0.9995724693394491 0.9953586614466421\n",
      "0.9 0.9995370199837892 0.995348857941401\n"
     ]
    },
    {
     "data": {
      "image/png": "[encoded data removed]",
      "text/plain": [
       "<Figure size 432x288 with 1 Axes>"
      ]
     },
     "metadata": {
      "needs_background": "light"
     },
     "output_type": "display_data"
    }
   ],
   "source": [
    "rang = range(2,10)\n",
    "rang=list(map(lambda x:x/10,rang))\n",
    "results = []\n",
    "for x in rang:\n",
    "    trainResults, testResults, predictions, indices, hists = CVTestXGB(df=data_for_xgb,features=features_for_xgb,eta=0.05,max_depth=9,subsample=0.9,colsample_bytree = x,verbosity=0)\n",
    "    print(x, np.mean(trainResults), np.mean(testResults))\n",
    "    results.append(np.mean(testResults))\n",
    "    \n",
    "plt.plot(rang, results)\n",
    "plt.show()"
   ]
  },
  {
   "cell_type": "markdown",
   "metadata": {},
   "source": [
    "Najlepsze wyniki otrzymujemy dla wartości 0.8. W modelu Xgboost jesteśmy również w stanie poradzić sobie z nadmiernym przetrenowaniem. Dlatego sprawdźmy czy dobranie optymalnych parametrów regularyzujących w xgboost pomoże ograniczyć nadmierne dopasowanie jednocześnie poprawiając wynik na zbiorze testowym. Najcześciej stosowaną regularyzacją jest L2, dlatego to i ją wykorzystamy w tym problemie."
   ]
  },
  {
   "cell_type": "code",
   "execution_count": 108,
   "metadata": {},
   "outputs": [
    {
     "name": "stdout",
     "output_type": "stream",
     "text": [
      "0 0.9997257040240995 0.9952841768435086\n",
      "1 0.9995724693394491 0.9953586614466421\n",
      "4 0.9993802483177676 0.9953603817418273\n",
      "9 0.9992245957533159 0.9953795391777007\n",
      "16 0.9989044218248001 0.9953618771619895\n",
      "25 0.998728571009357 0.9953457725178371\n",
      "36 0.9983691322419073 0.9952766070460477\n",
      "49 0.9980146758812468 0.9952425238474598\n"
     ]
    },
    {
     "data": {
      "image/png": "[encoded data removed]",
      "text/plain": [
       "<Figure size 432x288 with 1 Axes>"
      ]
     },
     "metadata": {
      "needs_background": "light"
     },
     "output_type": "display_data"
    }
   ],
   "source": [
    "rang = range(0,8)\n",
    "rang=list(map(lambda x:x**2,rang))\n",
    "results = []\n",
    "for x in rang:\n",
    "    trainResults, testResults, predictions, indices, hists = CVTestXGB(df=data_for_xgb,features=features_for_xgb,eta=0.05,max_depth=9,subsample=0.9,colsample_bytree = 0.8,lambdaX=x,verbosity=0)\n",
    "    print(x, np.mean(trainResults),np.mean(testResults))\n",
    "    results.append(np.mean(testResults))\n",
    "    \n",
    "plt.plot(list(rang), results)\n",
    "plt.show()"
   ]
  },
  {
   "cell_type": "markdown",
   "metadata": {},
   "source": [
    "Najlepszy wynik otrzymano dla lambda=9. Innym parametrem, który pomaga walczyć z regularyzacją jest gamma, który wpływa na decyzję o tym czy dokonać kolejnego splitu w zależności jak bardzo będzie to pomocne, czyli jak obniży się funkcja straty. Przy wprowadzaniu kolejnej regularyzacji warto obniżyć parametr lambda, ustawmy go na wartości 5"
   ]
  },
  {
   "cell_type": "code",
   "execution_count": 109,
   "metadata": {},
   "outputs": [
    {
     "name": "stdout",
     "output_type": "stream",
     "text": [
      "0.01 0.9992704788982044 0.9953611319919062\n",
      "0.1 0.9994718844295901 0.9953702427943549\n",
      "0.5 0.9992332322897498 0.9953743613246869\n",
      "1 0.9991458505338248 0.9953795285547992\n",
      "2 0.998632827788535 0.9954046842095903\n",
      "4 0.9976396597780035 0.9954111014057231\n",
      "6 0.996839573139859 0.9953590113040967\n",
      "8 0.9963448486168931 0.9952613566946884\n",
      "10 0.9960469889698533 0.9951594923580596\n"
     ]
    },
    {
     "data": {
      "image/png": "[encoded data removed]",
      "text/plain": [
       "<Figure size 432x288 with 1 Axes>"
      ]
     },
     "metadata": {
      "needs_background": "light"
     },
     "output_type": "display_data"
    }
   ],
   "source": [
    "rang = [0.01, 0.1, 0.5, 1, 2, 4, 6, 8, 10]\n",
    "results = []\n",
    "for x in rang:\n",
    "    trainResults, testResults, predictions, indices, hists = CVTestXGB(df=data_for_xgb,features=features_for_xgb,eta=0.05,max_depth=9,subsample=0.9,colsample_bytree = 0.8,lambdaX=5,gamma=x,verbosity=0)\n",
    "    print(x, np.mean(trainResults),np.mean(testResults))\n",
    "    results.append(np.mean(testResults))\n",
    "    \n",
    "plt.plot(list(rang), results)\n",
    "plt.show()"
   ]
  },
  {
   "cell_type": "markdown",
   "metadata": {},
   "source": [
    "Dla gammy=4 uzyskaliśmy najlepszy dotychczas wynik (0.995411). Prawdopodobnie możliwa jest jeszcze większa poprawa wyniku predykcji, jednakże uzyskany rezultat jest bardzo dobry, dlatego zapiszmy ten wynik i przejdźmy do podsumowania"
   ]
  },
  {
   "cell_type": "code",
   "execution_count": 110,
   "metadata": {},
   "outputs": [
    {
     "name": "stdout",
     "output_type": "stream",
     "text": [
      "0.9954111014057231\n"
     ]
    }
   ],
   "source": [
    "trainResults, testResults, predictions, indices, hists = CVTestXGB(\n",
    "        df=data_for_xgb,features=features_for_xgb,eta=0.05,max_depth=9,subsample=0.9,colsample_bytree = 0.8,lambdaX=5,gamma=4,verbosity=0)\n",
    "print(np.mean(testResults))\n",
    "\n",
    "modelXGB = {\n",
    "    \"name\":\"XGB\",\n",
    "    \"description\":\"Model XGB, ze zmiennymi kategorycznymi z LE\",\n",
    "    \"specification\":'eta=0.05,max_depth=9, subsample = 0.9, colsample_bytree = 0.8, lambdaX=5, gamma=4',\n",
    "    \"trainResults\":trainResults.copy(),\n",
    "    \"testResults\":testResults.copy(),\n",
    "    \"predictions\":predictions.copy(),\n",
    "    \"indices\":indices.copy(),\n",
    "}"
   ]
  },
  {
   "cell_type": "markdown",
   "metadata": {},
   "source": [
    "## Podsumowanie"
   ]
  },
  {
   "cell_type": "markdown",
   "metadata": {},
   "source": [
    "Podsumowanie zawiera porównanie wyników wszystkich 4 najlepszych modeli za pomocą wykresu krzywej ROC."
   ]
  },
  {
   "cell_type": "code",
   "execution_count": 120,
   "metadata": {},
   "outputs": [],
   "source": [
    "def plotROCs(results):\n",
    "    ''' Funkcja, do rysowania szeregu wyników krzywych ROC dla poszczególnych eksperymentów\n",
    "    results - lista wyników jako 3 elementowe tuple (true, pred, label)\n",
    "    '''\n",
    "    \n",
    "    # Ustalanie wielkości rysunku\n",
    "    fig, ax = plt.subplots(figsize=(10,9))\n",
    "        \n",
    "    for true, pred, label in results:\n",
    "        # Obliczenie punktów potrzebnych do narysowani akrzywej ROC\n",
    "        # funkcja roc_curve zwarca trzy serie danych, fpr, tpr oraz poziomy progów odcięcia\n",
    "        fpr, tpr, thresholds = roc_curve(true, pred)\n",
    "        # Obliczamy pole powierzchni pod krzywą\n",
    "        rocScore = roc_auc_score(true, pred)\n",
    "        rocScore = round(rocScore, 4)\n",
    "        \n",
    "\n",
    "        # Grubość krzywej\n",
    "        lw = 2\n",
    "\n",
    "        # Rysujemy krzywą ROC\n",
    "        ax.plot(fpr, tpr, lw=lw, label=f'{label}: {rocScore}')\n",
    "    # Rysujemy krzywą 45 stopni jako punkt odniesienia\n",
    "    ax.plot([0, 1], [0, 1], color='navy', lw=lw, linestyle='--')\n",
    "    # Dodajemy lekkie marginesy do zakresu aby krzywa nie pokrywała się z osiami\n",
    "    ax.set_xlim([-0.01, 1.0])\n",
    "    ax.set_ylim([0.0, 1.01])\n",
    "    ax.set_xlabel('False Positive Rate')\n",
    "    ax.set_ylabel('True Positive Rate')\n",
    "    ax.set_title(f'Receiver operating characteristic')\n",
    "    ax.legend(loc=\"lower right\")\n",
    "    plt.show()\n"
   ]
  },
  {
   "cell_type": "code",
   "execution_count": 121,
   "metadata": {},
   "outputs": [
    {
     "data": {
      "image/png": "[encoded data removed]",
      "text/plain": [
       "<Figure size 720x648 with 1 Axes>"
      ]
     },
     "metadata": {
      "needs_background": "light"
     },
     "output_type": "display_data"
    }
   ],
   "source": [
    "res2plot = []\n",
    "true = (df[target]=='satisfied').astype(int).sort_index()\n",
    "for result in [modelLR, modelkNN, modelRF, modelXGB]:\n",
    "    # Tworzymy wektor predykcji tworząc serię pandasa, a następnie sortujemy indeks\n",
    "    pred = pd.Series(sum(result[\"predictions\"], []), index=sum(result[\"indices\"], [])).sort_index()\n",
    "    res2plot.append((true, pred, result[\"name\"]))\n",
    "    \n",
    "# Wywołujemy funkcję do rysowania\n",
    "plotROCs(res2plot)"
   ]
  },
  {
   "cell_type": "markdown",
   "metadata": {},
   "source": [
    "Ostatecznie najlepsze wyniki dają modele oparte o drzewa decyzyjne. Zarówno RandomForest jak i XGBoost z estymatorem drzew decyzyjnych daje wynik na poziomie 0.995 i różnią się one dopiero 4 miejscem po przecinku. Generalnie próba, na której bazował ten problem klasyfikacyjny była na tyle duża, że otrzymywane wyniki są do siebie bardzo zbliżone. Można uznać, że przewagą XGBoost nad RandomForest jest fakt, że najlepszy model xgboost nie przetrenowuje się tak jak najlepszy model z RandomForest."
   ]
  }
 ],
 "metadata": {
  "kernelspec": {
   "display_name": "Python 3",
   "language": "python",
   "name": "python3"
  },
  "language_info": {
   "codemirror_mode": {
    "name": "ipython",
    "version": 3
   },
   "file_extension": ".py",
   "mimetype": "text/x-python",
   "name": "python",
   "nbconvert_exporter": "python",
   "pygments_lexer": "ipython3",
   "version": "3.8.0"
  }
 },
 "nbformat": 4,
 "nbformat_minor": 4
}
